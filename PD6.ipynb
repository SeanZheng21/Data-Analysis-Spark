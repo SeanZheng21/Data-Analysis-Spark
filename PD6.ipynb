{
 "cells": [
  {
   "cell_type": "markdown",
   "metadata": {},
   "source": [
    "# PD6: Prediction of the Release Year of a Song\n",
    "## MTI850 - Big Data Analytics\n",
    "### Fall 2020\n"
   ]
  },
  {
   "cell_type": "markdown",
   "metadata": {},
   "source": [
    "<br>\n",
    "<br>    \n",
    "    \n",
    "| Étudiant | Xiaoang Zheng ZHEX21029701                                   |\n",
    "|----------|---------------------------------------------------------|\n",
    "\n",
    "<br>\n",
    "<br>"
   ]
  },
  {
   "cell_type": "markdown",
   "metadata": {},
   "source": [
    "![Spark Logo](http://alekoe.github.io/images/ta_Spark-logo-small.png) ![Python Logo](http://alekoe.github.io/images/python-logo-master-v3-TM-flattened_small.png)\n",
    "\n"
   ]
  },
  {
   "cell_type": "markdown",
   "metadata": {},
   "source": [
    "This assignment covers a common supervised learning pipeline, using a subset of the [Million Song Dataset](http://labrosa.ee.columbia.edu/millionsong/) from the [UCI Machine Learning Repository](https://archive.ics.uci.edu/ml/datasets/YearPredictionMSD). Our goal is to train a linear regression model to predict the release year of a song given a set of audio features. The subset has 6,724 samples out of 515,345 in the original dataset.\n",
    "\n",
    "\n",
    "**This assignment will cover:**\n",
    "\n",
    "*  *Part 1:* Read and parse the initial dataset\n",
    "  * *Visualization 1:* Features\n",
    "  * *Visualization 2:* Shifting labels\n",
    "\n",
    "*  *Part 2:* Create and evaluate a baseline model\n",
    "  * *Visualization 3:* Predicted vs. actual\n",
    "\n",
    "*  *Part 3:* Train (via gradient descent) and evaluate a linear regression model\n",
    "  * *Visualization 4:* Training error\n",
    "\n",
    "*  *Part 4:* Train using SparkML library and tune hyperparameters via grid search\n",
    "  * *Visualization 5:* Best model's predictions\n",
    "  * *Visualization 6:* Hyperparameter heat map\n",
    "\n",
    "*  *Part 5:* Add interactions between features\n",
    "\n",
    "> Note that, for reference, you can look up the details of:\n",
    "> * the relevant Spark methods in [Spark's RDD Python API](https://spark.apache.org/docs/latest/api/python/pyspark.html#pyspark.RDD) and [Spark's DataFrame Python API](https://spark.apache.org/docs/latest/api/python/pyspark.sql.html#pyspark.sql.DataFrame)\n",
    "> * the relevant NumPy methods in the [NumPy Reference](http://docs.scipy.org/doc/numpy/reference/index.html)"
   ]
  },
  {
   "cell_type": "markdown",
   "metadata": {},
   "source": [
    "## Part 0: Preparing the enviroment\n",
    "\n",
    "<!-- By default, when a shuffle operation occurs with DataFrames, the post-shuffle partition count is 200. This is controlled by Spark configuration value ``spark.sql.shuffle.partitions``. 200 is a little too high for this data set, so we set the post-shuffle partition count to twice the number of available threads in Community Edition. -->"
   ]
  },
  {
   "cell_type": "code",
   "execution_count": 1,
   "metadata": {},
   "outputs": [],
   "source": [
    "import os\n",
    "import findspark\n",
    "findspark.init()\n",
    "\n",
    "# Test module for MTI850\n",
    "import testmti850\n",
    "\n",
    "# Util module for MTI850\n",
    "import utilmti850\n",
    "\n",
    "import pyspark\n",
    "from pyspark.sql import SparkSession\n",
    "\n",
    "spark = SparkSession.builder \\\n",
    ".master(\"local\") \\\n",
    ".appName(\"Music Year Prediction\") \\\n",
    ".getOrCreate()"
   ]
  },
  {
   "cell_type": "markdown",
   "metadata": {},
   "source": [
    "## Part 1: Read and parse the initial dataset"
   ]
  },
  {
   "cell_type": "markdown",
   "metadata": {},
   "source": [
    "### (1a) Download, load, and check the data\n",
    "\n",
    "The raw data is currently stored in a text file. Let's download it from Moodle and make it available in the hdfs filesystem.\n",
    "```\n",
    "start-dfs.sh && start-yarn.sh\n",
    "hdfs dfs -put millionsong.txt /millionsong.txt\n",
    "```\n",
    "\n",
    "Then, we will store this raw data in as a DataFrame, with each element of the DataFrame representing a data point as a comma-delimited string. Each string starts with the label (a year) followed by numerical audio features. Use the DataFrame [count method](https://spark.apache.org/docs/latest/api/python/pyspark.sql.html#pyspark.sql.DataFrame.count) to check how many data points we have. Then use the [take method](https://spark.apache.org/docs/latest/api/python/pyspark.sql.html#pyspark.sql.DataFrame.take) to create and print out a list of the first 5 data points in their initial string format."
   ]
  },
  {
   "cell_type": "code",
   "execution_count": 2,
   "metadata": {},
   "outputs": [
    {
     "name": "stdout",
     "output_type": "stream",
     "text": [
      "+--------------------+\n",
      "|               value|\n",
      "+--------------------+\n",
      "|2001.0,0.88412373...|\n",
      "|2001.0,0.85441194...|\n",
      "|2001.0,0.90898297...|\n",
      "|2001.0,0.84252521...|\n",
      "|2001.0,0.90930328...|\n",
      "+--------------------+\n",
      "only showing top 5 rows\n",
      "\n"
     ]
    }
   ],
   "source": [
    "raw_data_df = spark.read.text(\"./millionsong.txt\")\n",
    "\n",
    "raw_data_df.show(5)"
   ]
  },
  {
   "cell_type": "code",
   "execution_count": 3,
   "metadata": {},
   "outputs": [
    {
     "name": "stdout",
     "output_type": "stream",
     "text": [
      "6724\n",
      "[Row(value='2001.0,0.884123733793,0.610454259079,0.600498416968,0.474669212493,0.247232680947,0.357306088914,0.344136412234,0.339641227335,0.600858840135,0.425704689024,0.60491501652,0.419193351817'), Row(value='2001.0,0.854411946129,0.604124786151,0.593634078776,0.495885413963,0.266307830936,0.261472105188,0.506387076327,0.464453565511,0.665798573683,0.542968988766,0.58044428577,0.445219373624'), Row(value='2001.0,0.908982970575,0.632063159227,0.557428975183,0.498263761394,0.276396052336,0.312809861625,0.448530069406,0.448674249968,0.649791323916,0.489868662682,0.591908113534,0.4500023818'), Row(value='2001.0,0.842525219898,0.561826888508,0.508715259692,0.443531142139,0.296733836002,0.250213568176,0.488540873206,0.360508747659,0.575435243185,0.361005878554,0.678378718617,0.409036786173'), Row(value='2001.0,0.909303285534,0.653607720915,0.585580794716,0.473250503005,0.251417011835,0.326976795524,0.40432273022,0.371154511756,0.629401917965,0.482243251755,0.566901413923,0.463373691946')]\n"
     ]
    }
   ],
   "source": [
    "# TODO: Replace <FILL IN> with appropriate code\n",
    "\n",
    "num_points = raw_data_df.count()\n",
    "print(num_points)\n",
    "\n",
    "sample_points = raw_data_df.take(5)\n",
    "print(sample_points)"
   ]
  },
  {
   "cell_type": "code",
   "execution_count": 4,
   "metadata": {},
   "outputs": [
    {
     "name": "stdout",
     "output_type": "stream",
     "text": [
      "1 test passed.\n",
      "1 test passed.\n"
     ]
    }
   ],
   "source": [
    "# TEST Load and check the data (1a)\n",
    "testmti850.Test.assertEquals(num_points, 6724, 'incorrect value for num_points')\n",
    "testmti850.Test.assertEquals(len(sample_points), 5, 'incorrect length for sample_points')"
   ]
  },
  {
   "cell_type": "markdown",
   "metadata": {},
   "source": [
    "### (1b) Using `LabeledPoint`\n",
    "\n",
    "In MLlib, labeled training instances are stored using the [LabeledPoint](https://spark.apache.org/docs/latest/api/python/pyspark.mllib.html#pyspark.mllib.regression.LabeledPoint) object.  Write the `parse_points` function that takes, as input, a DataFrame of comma-separated strings. We'll pass it the `raw_data_df` DataFrame.\n",
    "\n",
    "It should parse each row in the DataFrame into individual elements, using Spark's [select](https://spark.apache.org/docs/latest/api/python/pyspark.sql.html#pyspark.sql.DataFrame.select) and [split](https://spark.apache.org/docs/latest/api/python/pyspark.sql.html#pyspark.sql.functions.split) methods.\n",
    "\n",
    "For example, split `\"2001.0,0.884,0.610,0.600,0.474,0.247,0.357,0.344,0.33,0.600,0.425,0.60,0.419\"` into `['2001.0', '0.884', '0.610', '0.600', '0.474', '0.247', '0.357', '0.344', '0.33', '0.600', '0.425', '0.60', '0.419']`.\n",
    "\n",
    "The first value in the resulting list (`2001.0` in the example, above) is the label. The remaining values (`0.884`, `0.610`, etc., in the example) are the features.\n",
    "\n",
    "After splitting each row, map it to a `LabeledPoint`. You'll have to step down to an RDD (using `.rdd`) or use a DataFrame user-defined function to convert to the `LabeledPoint` object. (See **Hint**, below.) If you step down to an RDD, you'll have to use [toDF()](https://spark.apache.org/docs/latest/api/python/pyspark.sql.html#pyspark.sql.DataFrame.toDF) to convert back to a DataFrame.\n",
    "\n",
    "Use this new `parse_points` function to parse `raw_data_df`.  Then print out the features and label for the first training point, using the `features` and `label` attributes. Finally, calculate the number of features for this dataset.\n",
    "\n",
    "## Hint: Running Arbitrary Lambdas on a DataFrame\n",
    "\n",
    "To solve this problem, you need a way to run your `parse_points` function on a DataFrame. There are two ways to do this, which we will illustrate with an extremely simple example.\n",
    "\n",
    "Suppose you have a DataFrame consisting of a first name and a last name, and you want to add a unique [SHA-256](https://en.wikipedia.org/wiki/Secure_Hash_Algorithm) hash to each row.\n",
    "\n",
    "```\n",
    "df = spark.createDataFrame([(\"John\", \"Smith\"), (\"Ravi\", \"Singh\"), (\"Julia\", \"Jones\")], (\"first_name\", \"last_name\"))\n",
    "```\n",
    "\n",
    "Here's a simple function to calculate such a hash, using Python's built-in `hashlib` library:\n",
    "\n",
    "```\n",
    "def make_hash(first_name, last_name):\n",
    "    import hashlib\n",
    "    m = hashlib.sha256()\n",
    "    # Join the first name and last name by a blank and hash the resulting\n",
    "    # string.\n",
    "    full_name = ' '.join((first_name, last_name))\n",
    "    m.update(full_name)\n",
    "    return m.hexdigest()\n",
    "```\n",
    "\n",
    "Okay, that's great. But, how do we use it on our DataFrame? We can use a UDF:\n",
    "\n",
    "```\n",
    "from pyspark.sql.functions import udf\n",
    "u_make_hash = udf(make_hash)\n",
    "df2 = df.select(df['*'], u_make_hash(df['first_name'], df['last_name']))\n",
    "# could run df2.show() here to prove it works\n",
    "```\n",
    "\n",
    "Or we can step down to an RDD, use a lambda to call `make_hash` and have the lambda return a `Row` object, which Spark can use to [\"infer\" a new DataFrame](http://spark.apache.org/docs/latest/sql-programming-guide.html#inferring-the-schema-using-reflection).\n",
    "\n",
    "```\n",
    "from pyspark.sql import Row\n",
    "def make_hash_from_row(row):\n",
    "    hash = make_hash(row[0], row[1])\n",
    "    return Row(first_name=row[0], last_name=row[1], hash=hash)\n",
    "\n",
    "df2 = (df.rdd\n",
    "         .map(lambda row: make_hash_from_row(row))\n",
    "         .toDF())\n",
    "```\n",
    "\n",
    "These methods are roughly equivalent. You'll need to do something similar to convert _your_ `raw_data_df` DataFrame into a new DataFrame of `LabeledPoint` objects."
   ]
  },
  {
   "cell_type": "code",
   "execution_count": 5,
   "metadata": {},
   "outputs": [],
   "source": [
    "from pyspark.mllib.regression import LabeledPoint\n",
    "import numpy as np\n",
    "\n",
    "# Here is a sample raw data point:\n",
    "# '2001.0,0.884,0.610,0.600,0.474,0.247,0.357,0.344,0.33,0.600,0.425,0.60,0.419'\n",
    "# In this raw data point, 2001.0 is the label, and the remaining values are features"
   ]
  },
  {
   "cell_type": "code",
   "execution_count": 6,
   "metadata": {},
   "outputs": [
    {
     "name": "stdout",
     "output_type": "stream",
     "text": [
      "[0.884123733793,0.610454259079,0.600498416968,0.474669212493,0.247232680947,0.357306088914,0.344136412234,0.339641227335,0.600858840135,0.425704689024,0.60491501652,0.419193351817] 2001.0\n",
      "12\n"
     ]
    }
   ],
   "source": [
    "# TODO: Replace <FILL IN> with appropriate code\n",
    "from pyspark.sql import functions as sql_functions\n",
    "from pyspark.ml.linalg import Vectors\n",
    "from pyspark.sql import Row\n",
    "from pyspark.sql.functions import udf\n",
    "\n",
    "def parse_points(df):\n",
    "    \"\"\"Converts a DataFrame of comma separated unicode strings into a DataFrame of `LabeledPoints`.\n",
    "\n",
    "    Args:\n",
    "        df: DataFrame where each row is a comma separated unicode string. The first element in the string\n",
    "            is the label and the remaining elements are the features.\n",
    "\n",
    "    Returns:\n",
    "        DataFrame: Each row is converted into a `LabeledPoint`, which consists of a label and\n",
    "            features. To convert an RDD to a DataFrame, simply call toDF().\n",
    "    \"\"\"\n",
    "    def make_labeled_point(split_value):\n",
    "        lp = LabeledPoint(split_value[0][0], split_value[0][1:])\n",
    "        return lp\n",
    "    \n",
    "    splited_df = df.select(sql_functions.split(df['value'], ',').alias('split_value'))\n",
    "    parsed_df = (splited_df.rdd\n",
    "                 .map(lambda row: make_labeled_point(row))\n",
    "                 .toDF())\n",
    "    return parsed_df\n",
    "\n",
    "parsed_points_df = parse_points(raw_data_df)\n",
    "first_point_features = parsed_points_df.first().features\n",
    "first_point_label = parsed_points_df.first().label\n",
    "\n",
    "print(first_point_features, first_point_label)\n",
    "\n",
    "d = len(first_point_features)\n",
    "\n",
    "print(d)"
   ]
  },
  {
   "cell_type": "code",
   "execution_count": 7,
   "metadata": {
    "scrolled": true
   },
   "outputs": [
    {
     "name": "stdout",
     "output_type": "stream",
     "text": [
      "1 test passed.\n",
      "1 test passed.\n",
      "1 test passed.\n",
      "1 test passed.\n"
     ]
    }
   ],
   "source": [
    "# TEST Using LabeledPoint (1b)\n",
    "testmti850.Test.assertTrue(isinstance(first_point_label, float), 'label must be a float')\n",
    "expectedX0 = [0.8841,0.6105,0.6005,0.4747,0.2472,0.3573,0.3441,0.3396,0.6009,0.4257,0.6049,0.4192]\n",
    "testmti850.Test.assertTrue(np.allclose(expectedX0, first_point_features, 1e-4, 1e-4),\n",
    "                'incorrect features for firstPointFeatures')\n",
    "testmti850.Test.assertTrue(np.allclose(2001.0, first_point_label), 'incorrect label for firstPointLabel')\n",
    "testmti850.Test.assertTrue(d == 12, 'incorrect number of features')"
   ]
  },
  {
   "cell_type": "markdown",
   "metadata": {},
   "source": [
    "### Visualization 1: Features\n",
    "\n",
    "***First we will load and setup the visualization library***. Then we will look at the raw features for 50 data points by generating a heatmap that visualizes each feature on a grey-scale and shows the variation of each feature across the 50 sample data points.  The features are all between 0 and 1, with values closer to 1 represented via darker shades of grey."
   ]
  },
  {
   "cell_type": "code",
   "execution_count": 8,
   "metadata": {
    "scrolled": true
   },
   "outputs": [
    {
     "data": {
      "image/png": "[encoded data removed]",
      "text/plain": [
       "<Figure size 576x504 with 1 Axes>"
      ]
     },
     "metadata": {},
     "output_type": "display_data"
    }
   ],
   "source": [
    "import matplotlib.pyplot as plt\n",
    "import matplotlib.cm as cm\n",
    "from utilmti850 import prepareSubplot\n",
    "\n",
    "\n",
    "# takeSample(withReplacement, num, [seed]) randomly selects num elements from the dataset with/without replacement, and has an\n",
    "# optional seed parameter that one can set for reproducible results\n",
    "\n",
    "data_values = (parsed_points_df\n",
    "               .rdd\n",
    "               .map(lambda lp: lp.features.toArray())\n",
    "               .takeSample(False, 50, 47))\n",
    "\n",
    "# You can uncomment the line below to see randomly selected features.  These will be randomly\n",
    "# selected each time you run the cell because there is no set seed.  Note that you should run\n",
    "# this cell with the line commented out when answering the lab quiz questions.\n",
    "# data_values = (parsed_points_df\n",
    "#                .rdd\n",
    "#                .map(lambda lp: lp.features.toArray())\n",
    "#                .takeSample(False, 50))\n",
    "\n",
    "# generate layout and plot\n",
    "fig, ax = prepareSubplot(\n",
    "    np.arange(.5, 11, 1), np.arange(.5, 49, 1), figsize=(8,7),\n",
    "    hideLabels=True, gridColor='#eeeeee', gridWidth=1.1\n",
    ")\n",
    "image = ax.imshow(data_values,interpolation='nearest', aspect='auto', cmap=cm.Greys)\n",
    "for x, y, s in zip(np.arange(-.125, 12, 1), np.repeat(-.75, 12), [str(x) for x in range(12)]):\n",
    "    ax.text(x, y, s, color='#999999', size='10')\n",
    "ax.text(4.7, -3, 'Feature', color='#999999', size='11'), ax.set_ylabel('Observation')\n",
    "plt.show()"
   ]
  },
  {
   "cell_type": "markdown",
   "metadata": {},
   "source": [
    "### (1c) Find the range\n",
    "\n",
    "Now let's examine the labels to find the range of song years.  To do this, find the smallest and largest labels in the `parsed_points_df`.\n",
    "\n",
    "We will use the min and max functions that are native to the DataFrames, and thus can be optimized using Spark's Catalyst Optimizer and Project Tungsten (don't worry about the technical details). This code will run faster than simply using the native min and max functions in Python. Use [selectExpr](https://spark.apache.org/docs/latest/api/python/pyspark.sql.html#pyspark.sql.DataFrame.selectExpr) to retrieve the min and max label values."
   ]
  },
  {
   "cell_type": "code",
   "execution_count": 9,
   "metadata": {},
   "outputs": [
    {
     "name": "stdout",
     "output_type": "stream",
     "text": [
      "1922.0 2011.0\n"
     ]
    }
   ],
   "source": [
    "# TODO: Replace <FILL IN> with appropriate code\n",
    "\n",
    "content_stats = parsed_points_df.select(parsed_points_df[\"label\"].alias('year'))\n",
    "\n",
    "min_year = content_stats.selectExpr(\"min(year)\").collect()[0][0]\n",
    "\n",
    "max_year = content_stats.selectExpr(\"max(year)\").collect()[0][0]\n",
    "\n",
    "print(min_year, max_year)"
   ]
  },
  {
   "cell_type": "code",
   "execution_count": 10,
   "metadata": {},
   "outputs": [
    {
     "name": "stdout",
     "output_type": "stream",
     "text": [
      "1 test passed.\n",
      "1 test passed.\n",
      "1 test passed.\n"
     ]
    }
   ],
   "source": [
    "# TEST Find the range (1c)\n",
    "testmti850.Test.assertEquals(len(parsed_points_df.first().features), 12,\n",
    "                  'unexpected number of features in sample point')\n",
    "sum_feat_two = parsed_points_df.rdd.map(lambda lp: lp.features[2]).sum()\n",
    "testmti850.Test.assertTrue(np.allclose(sum_feat_two, 3158.96224351), 'parsedPointsDF has unexpected values')\n",
    "year_range = max_year - min_year\n",
    "testmti850.Test.assertTrue(year_range == 89, 'incorrect range for minYear to maxYear')"
   ]
  },
  {
   "cell_type": "markdown",
   "metadata": {},
   "source": [
    "### (1d) Shift labels\n",
    "\n",
    "As we just saw, the labels are years in the 1900s and 2000s.  In learning problems, it is often natural to shift labels such that they start from zero.  Starting with `parsed_points_df`, create a new DataFrame in which the labels are shifted such that smallest label equals zero (hint: use `select`). After, use [withColumnRenamed](https://spark.apache.org/docs/latest/api/python/pyspark.sql.html#pyspark.sql.DataFrame.withColumnRenamed) to rename the appropriate columns to `features` and `label`."
   ]
  },
  {
   "cell_type": "code",
   "execution_count": 11,
   "metadata": {},
   "outputs": [
    {
     "name": "stdout",
     "output_type": "stream",
     "text": [
      "\n",
      "Row(features=DenseVector([0.8841, 0.6105, 0.6005, 0.4747, 0.2472, 0.3573, 0.3441, 0.3396, 0.6009, 0.4257, 0.6049, 0.4192]), label=79.0)\n"
     ]
    }
   ],
   "source": [
    "from pyspark.sql.functions import lit, col\n",
    "\n",
    "# TODO: Replace <FILL IN> with appropriate code\n",
    "parsed_data_df = (parsed_points_df.select(\"features\", col(\"label\") - min_year)\n",
    "                                  .withColumnRenamed(\"(label - 1922.0)\", \"label\"))\n",
    "\n",
    "# View the first point\n",
    "print('\\n{0}'.format(parsed_data_df.first()))"
   ]
  },
  {
   "cell_type": "code",
   "execution_count": 12,
   "metadata": {},
   "outputs": [
    {
     "name": "stdout",
     "output_type": "stream",
     "text": [
      "1 test passed.\n",
      "1 test passed.\n",
      "1 test passed.\n",
      "1 test passed.\n"
     ]
    }
   ],
   "source": [
    "# TEST Shift labels (1d)\n",
    "old_sample_features = parsed_points_df.first().features\n",
    "new_sample_features = parsed_data_df.first().features\n",
    "testmti850.Test.assertTrue(np.allclose(old_sample_features, new_sample_features),\n",
    "                'new features do not match old features')\n",
    "sum_feat_two = parsed_data_df.rdd.map(lambda lp: lp.features[2]).sum()\n",
    "testmti850.Test.assertTrue(np.allclose(sum_feat_two, 3158.96224351), 'parsed_data_df has unexpected values')\n",
    "min_year_new = parsed_data_df.groupBy().min('label').first()[0]\n",
    "max_year_new = parsed_data_df.groupBy().max('label').first()[0]\n",
    "testmti850.Test.assertTrue(min_year_new == 0, 'incorrect min year in shifted data')\n",
    "testmti850.Test.assertTrue(max_year_new == 89, 'incorrect max year in shifted data')"
   ]
  },
  {
   "cell_type": "markdown",
   "metadata": {},
   "source": [
    "### Visualization 2: Shifting labels\n",
    "\n",
    "We will look at the labels before and after shifting them. Both scatter plots below visualize tuples storing:\n",
    "\n",
    "* a label value and\n",
    "* the number of training points with this label.\n",
    "\n",
    "The first scatter plot uses the initial labels, while the second one uses the shifted labels.  Note that the two plots look the same except for the labels on the x-axis."
   ]
  },
  {
   "cell_type": "code",
   "execution_count": 13,
   "metadata": {},
   "outputs": [
    {
     "data": {
      "image/png": "[encoded data removed]",
      "text/plain": [
       "<Figure size 756x432 with 1 Axes>"
      ]
     },
     "metadata": {},
     "output_type": "display_data"
    }
   ],
   "source": [
    "# from operator import add\n",
    "\n",
    "# get data for plot\n",
    "old_data = (parsed_points_df\n",
    "             .rdd\n",
    "             .map(lambda lp: (lp.label, 1))\n",
    "             .reduceByKey(lambda x, y: x + y) # alternatively, one can use the operator add \n",
    "             .collect())                      # instead of the lambda func.\n",
    "x, y = zip(*old_data)\n",
    "\n",
    "# generate layout and plot data\n",
    "fig, ax = prepareSubplot(np.arange(1920, 2050, 20), np.arange(0, 150, 20))\n",
    "ax.scatter(x, y, s=14**2, c='#d6ebf2', edgecolors='#8cbfd0', alpha=0.75)\n",
    "ax.set_xlabel('Year')\n",
    "ax.set_ylabel('Count')\n",
    "plt.show()"
   ]
  },
  {
   "cell_type": "code",
   "execution_count": 14,
   "metadata": {},
   "outputs": [
    {
     "data": {
      "image/png": "[encoded data removed]",
      "text/plain": [
       "<Figure size 756x432 with 1 Axes>"
      ]
     },
     "metadata": {},
     "output_type": "display_data"
    }
   ],
   "source": [
    "# get data for plot\n",
    "new_data = (parsed_data_df\n",
    "             .rdd\n",
    "             .map(lambda lp: (lp.label, 1))\n",
    "             .reduceByKey(lambda x, y: x + y)\n",
    "             .collect())\n",
    "x, y = zip(*new_data)\n",
    "\n",
    "# generate layout and plot data\n",
    "fig, ax = prepareSubplot(np.arange(0, 120, 20), np.arange(0, 120, 20))\n",
    "ax.scatter(x, y, s=14**2, c='#d6ebf2', edgecolors='#8cbfd0', alpha=0.75)\n",
    "ax.set_xlabel('Year (shifted)')\n",
    "ax.set_ylabel('Count')\n",
    "plt.show()"
   ]
  },
  {
   "cell_type": "markdown",
   "metadata": {
    "scrolled": true
   },
   "source": [
    "### (1e) Training, validation, and test sets\n",
    "\n",
    "We're almost done parsing our dataset, and our final task involves spliting the dataset into training, validation and test sets. Use the [randomSplit method](https://spark.apache.org/docs/latest/api/python/pyspark.sql.html#pyspark.sql.DataFrame.randomSplit) with the specified weights and seed to create DataFrames storing each of these datasets. Next, cache each of these DataFrames, as we will be accessing them multiple times in the remainder of this lab. Finally, compute the size of each dataset and verify that the sum of their sizes equals the value computed in Part (1a)."
   ]
  },
  {
   "cell_type": "code",
   "execution_count": 15,
   "metadata": {},
   "outputs": [
    {
     "name": "stdout",
     "output_type": "stream",
     "text": [
      "5437 612 675 6724\n",
      "6724\n"
     ]
    }
   ],
   "source": [
    "# TODO: Replace <FILL IN> with appropriate code\n",
    "weights = [.8, .1, .1]\n",
    "seed = 42\n",
    "\n",
    "parsed_train_data_df, parsed_val_data_df, parsed_test_data_df = parsed_data_df.randomSplit(weights=weights, seed=seed)\n",
    "\n",
    "parsed_train_data_df.cache()\n",
    "\n",
    "parsed_val_data_df.cache()\n",
    "\n",
    "parsed_test_data_df.cache()\n",
    "\n",
    "n_train = parsed_train_data_df.count()\n",
    "\n",
    "n_val = parsed_val_data_df.count()\n",
    "\n",
    "n_test = parsed_test_data_df.count()\n",
    "\n",
    "print(n_train, n_val, n_test, n_train + n_val + n_test)\n",
    "print(parsed_data_df.count())"
   ]
  },
  {
   "cell_type": "code",
   "execution_count": 16,
   "metadata": {},
   "outputs": [
    {
     "name": "stdout",
     "output_type": "stream",
     "text": [
      "1 test passed.\n",
      "1 test passed.\n",
      "1 test passed.\n",
      "1 test passed.\n",
      "1 test passed.\n",
      "1 test passed.\n"
     ]
    }
   ],
   "source": [
    "# TEST Training, validation, and test sets (1e)\n",
    "testmti850.Test.assertEquals(len(parsed_train_data_df.first().features), 12,\n",
    "                  'parsed_train_data_df has wrong number of features')\n",
    "sum_feat_two = (parsed_train_data_df\n",
    "                 .rdd\n",
    "                 .map(lambda lp: lp.features[2])\n",
    "                 .sum())\n",
    "sum_feat_three = (parsed_val_data_df\n",
    "                  .rdd\n",
    "                  .map(lambda lp: lp.features[3])\n",
    "                  .reduce(lambda x, y: x + y))\n",
    "sum_feat_four = (parsed_test_data_df\n",
    "                  .rdd\n",
    "                  .map(lambda lp: lp.features[4])\n",
    "                  .reduce(lambda x, y: x + y))\n",
    "testmti850.Test.assertTrue(np.allclose([sum_feat_two, sum_feat_three, sum_feat_four],\n",
    "                            2526.87757656, 297.340394298, 184.235876654),\n",
    "                'parsed Train, Val, Test data has unexpected values')\n",
    "testmti850.Test.assertTrue(n_train + n_val + n_test == 6724, 'unexpected Train, Val, Test data set size')\n",
    "\n",
    "testmti850.Test.assertEquals(n_train, 5437, 'unexpected value for nTrain')\n",
    "\n",
    "testmti850.Test.assertEquals(n_val, 612, 'unexpected value for nVal')\n",
    "\n",
    "testmti850.Test.assertEquals(n_test, 675, 'unexpected value for nTest')"
   ]
  },
  {
   "cell_type": "markdown",
   "metadata": {},
   "source": [
    "## Part 2: Create and evaluate a baseline model"
   ]
  },
  {
   "cell_type": "markdown",
   "metadata": {},
   "source": [
    "### (2a) Average label\n",
    "\n",
    "A very simple yet natural baseline model is one where we always make the same prediction independent of the given data point, using the average label in the training set as the constant prediction value.  Compute this value, which is the average (shifted) song year for the training set.  Use `selectExpr` and `first()` from the [DataFrame API](https://spark.apache.org/docs/latest/api/python/pyspark.sql.html#pyspark.sql.DataFrame)."
   ]
  },
  {
   "cell_type": "code",
   "execution_count": 17,
   "metadata": {
    "scrolled": true
   },
   "outputs": [
    {
     "name": "stdout",
     "output_type": "stream",
     "text": [
      "53.59518116608424\n"
     ]
    }
   ],
   "source": [
    "# TODO: Replace <FILL IN> with appropriate code\n",
    "\n",
    "average_train_year = parsed_train_data_df.selectExpr(\"avg(label)\").first()[0]\n",
    "\n",
    "print(average_train_year)"
   ]
  },
  {
   "cell_type": "markdown",
   "metadata": {},
   "source": [
    "**Expected value**: `53.54919992643001`, **my result**: `53.59518116608424`\\\n",
    "**Difference**: `0.04598123965422474`  --> `0.086%`"
   ]
  },
  {
   "cell_type": "code",
   "execution_count": 18,
   "metadata": {},
   "outputs": [
    {
     "name": "stdout",
     "output_type": "stream",
     "text": [
      "1 test passed.\n"
     ]
    }
   ],
   "source": [
    "# TEST Average label (2a)\n",
    "testmti850.Test.assertTrue(\n",
    "    np.allclose(average_train_year, 53.59518116608424), 'incorrect value for average_train_year'\n",
    ")"
   ]
  },
  {
   "cell_type": "markdown",
   "metadata": {},
   "source": [
    "### (2b) Root mean squared error\n",
    "\n",
    "We naturally would like to see how well this naive baseline performs.  We will use root mean squared error ([RMSE](http://en.wikipedia.org/wiki/Root-mean-square_deviation)) for evaluation purposes.  Using [Regression Evaluator](http://spark.apache.org/docs/latest/api/python/pyspark.ml.html#pyspark.ml.evaluation.RegressionEvaluator),  compute the RMSE given a dataset of _(prediction, label)_ tuples."
   ]
  },
  {
   "cell_type": "code",
   "execution_count": 19,
   "metadata": {},
   "outputs": [
    {
     "name": "stdout",
     "output_type": "stream",
     "text": [
      "1.2909944487358058\n"
     ]
    }
   ],
   "source": [
    "# TODO: Replace <FILL IN> with appropriate code\n",
    "from pyspark.ml.evaluation import RegressionEvaluator\n",
    "\n",
    "preds_and_labels = [(1., 3.), (2., 1.), (2., 2.)]\n",
    "\n",
    "preds_and_labels_df = spark.createDataFrame(preds_and_labels, [\"prediction\", \"label\"])\n",
    "\n",
    "evaluator = RegressionEvaluator(labelCol=\"label\", predictionCol=\"prediction\", metricName=\"rmse\")\n",
    "\n",
    "def calc_RMSE(dataset):\n",
    "    \"\"\"Calculates the root mean squared error for an dataset of (prediction, label) tuples.\n",
    "\n",
    "    Args:\n",
    "        dataset (DataFrame of (float, float)): A `DataFrame` consisting of (prediction, label) tuples.\n",
    "\n",
    "    Returns:\n",
    "        float: The square root of the mean of the squared errors.\n",
    "    \"\"\"\n",
    "    return evaluator.evaluate(dataset)\n",
    "\n",
    "example_rmse = calc_RMSE(preds_and_labels_df)\n",
    "\n",
    "print(example_rmse)\n",
    "# RMSE = sqrt[((1-3)^2 + (2-1)^2 + (2-2)^2) / 3] = 1.291"
   ]
  },
  {
   "cell_type": "code",
   "execution_count": 20,
   "metadata": {},
   "outputs": [
    {
     "name": "stdout",
     "output_type": "stream",
     "text": [
      "1 test passed.\n"
     ]
    }
   ],
   "source": [
    "testmti850.Test.assertTrue(np.allclose(example_rmse, 1.2909944487358058), 'incorrect value for exampleRMSE')"
   ]
  },
  {
   "cell_type": "markdown",
   "metadata": {},
   "source": [
    "### (2c) Training, validation and test RMSE\n",
    "\n",
    "Now let's calculate the training, validation and test RMSE of our baseline model. To do this, first create DataFrames of _(prediction, label)_ tuples for each dataset, and then call `calc_RMSE()`. Note that each RMSE can be interpreted as the average prediction error for the given dataset (in terms of number of years). You can use [createDataFrame](https://spark.apache.org/docs/latest/api/python/pyspark.sql.html#pyspark.sql.SQLContext.createDataFrame) to make a DataFrame with the column names of \"prediction\" and \"label\" from an RDD."
   ]
  },
  {
   "cell_type": "code",
   "execution_count": 21,
   "metadata": {
    "scrolled": true
   },
   "outputs": [
    {
     "name": "stdout",
     "output_type": "stream",
     "text": [
      "Baseline Train RMSE = 21.466\n",
      "Baseline Validation RMSE = 21.159\n",
      "Baseline Test RMSE = 21.271\n"
     ]
    }
   ],
   "source": [
    "# TODO: Replace <FILL IN> with appropriate code\n",
    "\n",
    "# Here I use the average shifted year as the prediction, then convert it to RDD\n",
    "preds_and_labels_train = (parsed_train_data_df.select('label')\n",
    "                                              .withColumn('prediction', lit(average_train_year))\n",
    "                                              .rdd)\n",
    "\n",
    "preds_and_labels_train_df = spark.createDataFrame(preds_and_labels_train, [\"label\", \"prediction\"])\n",
    "\n",
    "rmse_train_base = calc_RMSE(preds_and_labels_train_df)\n",
    "\n",
    "\n",
    "preds_and_labels_val = (parsed_val_data_df.select('label')\n",
    "                                          .withColumn('prediction', lit(average_train_year))\n",
    "                                          .rdd)\n",
    "\n",
    "preds_and_labels_val_df = spark.createDataFrame(preds_and_labels_val, [\"label\", \"prediction\"])\n",
    "\n",
    "rmse_val_base = calc_RMSE(preds_and_labels_val_df)\n",
    "\n",
    "\n",
    "preds_and_labels_test = (parsed_test_data_df.select('label')\n",
    "                                            .withColumn('prediction', lit(average_train_year))\n",
    "                                            .rdd)\n",
    "\n",
    "preds_and_labels_test_df = spark.createDataFrame(preds_and_labels_test, [\"label\", \"prediction\"])\n",
    "\n",
    "rmse_test_base = calc_RMSE(preds_and_labels_test_df)\n",
    "\n",
    "print('Baseline Train RMSE = {0:.3f}'.format(rmse_train_base))\n",
    "print('Baseline Validation RMSE = {0:.3f}'.format(rmse_val_base))\n",
    "print('Baseline Test RMSE = {0:.3f}'.format(rmse_test_base))"
   ]
  },
  {
   "cell_type": "markdown",
   "metadata": {},
   "source": [
    "**Expected value**: `[21.598132, 20.759189, 20.546997]`, **my result**: `[21.466417064061876, 21.159492901731717, 21.27108361796124]`\\\n",
    "**Difference**: `[0.132132, -0.4, -0.724003]`"
   ]
  },
  {
   "cell_type": "code",
   "execution_count": 22,
   "metadata": {},
   "outputs": [
    {
     "name": "stdout",
     "output_type": "stream",
     "text": [
      "1 test passed.\n"
     ]
    }
   ],
   "source": [
    "# TEST Training, validation and test RMSE (2c)\n",
    "testmti850.Test.assertTrue(\n",
    "    np.allclose(\n",
    "        [rmse_train_base, rmse_val_base, rmse_test_base],\n",
    "        [21.466417064061876, 21.159492901731717, 21.27108361796124]\n",
    "    ),\n",
    "    'incorrect RMSE values'\n",
    ")"
   ]
  },
  {
   "cell_type": "markdown",
   "metadata": {},
   "source": [
    "### Visualization 3: Predicted vs. actual\n",
    "\n",
    "We will visualize predictions on the validation dataset. The scatter plots below visualize tuples storing i) the predicted value and ii) true label.  The first scatter plot represents the ideal situation where the predicted value exactly equals the true label, while the second plot uses the baseline predictor (i.e., `average_train_year`) for all predicted values.  Further note that the points in the scatter plots are color-coded, ranging from light yellow when the true and predicted values are equal to bright red when they drastically differ."
   ]
  },
  {
   "cell_type": "code",
   "execution_count": 23,
   "metadata": {
    "scrolled": true
   },
   "outputs": [
    {
     "data": {
      "image/png": "[encoded data removed]",
      "text/plain": [
       "<Figure size 756x432 with 1 Axes>"
      ]
     },
     "metadata": {},
     "output_type": "display_data"
    }
   ],
   "source": [
    "from matplotlib.colors import ListedColormap, Normalize\n",
    "from matplotlib.cm import get_cmap\n",
    "cmap = get_cmap('YlOrRd')\n",
    "norm = Normalize()\n",
    "\n",
    "def squared_error(label, prediction):\n",
    "    \"\"\"Calculates the squared error for a single prediction.\"\"\"\n",
    "    return float((label - prediction)**2)\n",
    "\n",
    "actual = np.asarray(parsed_val_data_df\n",
    "                    .select('label')\n",
    "                    .collect())\n",
    "error = np.asarray(parsed_val_data_df\n",
    "                   .rdd\n",
    "                   .map(lambda lp: (lp.label, lp.label))\n",
    "                   .map(lambda lp: squared_error(lp[0], lp[1]))\n",
    "                   .collect())\n",
    "clrs = cmap(np.asarray(norm(error)))[:, :3]\n",
    "\n",
    "fig, ax = prepareSubplot(np.arange(0, 100, 20), np.arange(0, 100, 20))\n",
    "ax.scatter(actual, actual, s=14**2, c=clrs, edgecolors='#888888', alpha=0.75, linewidths=0.5)\n",
    "ax.set_xlabel('Predicted')\n",
    "ax.set_ylabel('Actual')\n",
    "plt.show()"
   ]
  },
  {
   "cell_type": "markdown",
   "metadata": {},
   "source": [
    "**Modification** Line 11:\\\n",
    "\\\n",
    "`.map(lambda lp: (lp.label, average_train_year['avg(label)']))`\\\n",
    "is changed to:\\\n",
    "`.map(lambda lp: (lp.label, average_train_year))`\\\n",
    "\n",
    "average_train_year is a **double**, not a **data frame** that contains average number"
   ]
  },
  {
   "cell_type": "code",
   "execution_count": 24,
   "metadata": {},
   "outputs": [
    {
     "data": {
      "image/png": "[encoded data removed]",
      "text/plain": [
       "<Figure size 756x432 with 1 Axes>"
      ]
     },
     "metadata": {},
     "output_type": "display_data"
    }
   ],
   "source": [
    "def squared_error(label, prediction):\n",
    "    \"\"\"Calculates the squared error for a single prediction.\"\"\"\n",
    "    return float((label - prediction) ** 2)\n",
    "\n",
    "predictions = np.asarray(parsed_val_data_df\n",
    "                         .rdd\n",
    "                         .map(lambda lp: average_train_year)\n",
    "                         .collect())\n",
    "error = np.asarray(parsed_val_data_df\n",
    "                   .rdd\n",
    "                  #.map(lambda lp: (lp.label, average_train_year['avg(label)']))\n",
    "                   .map(lambda lp: (lp.label, average_train_year))\n",
    "                   .map(lambda lp: squared_error(lp[0], lp[1]))\n",
    "                   .collect())\n",
    "\n",
    "norm = Normalize()\n",
    "clrs = cmap(np.asarray(norm(error)))[:, : 3]\n",
    "\n",
    "fig, ax = prepareSubplot(np.arange(53.0, 55.0, 0.5), np.arange(0, 100, 20))\n",
    "ax.set_xlim(53, 55)\n",
    "ax.scatter(predictions, actual, s=14**2, c=clrs, edgecolors='#888888', alpha=0.75, linewidths=0.3)\n",
    "ax.set_xlabel('Predicted')\n",
    "ax.set_ylabel('Actual')\n",
    "plt.show()"
   ]
  },
  {
   "cell_type": "markdown",
   "metadata": {},
   "source": [
    "## Part 3: Train (via gradient descent) and evaluate a linear regression model"
   ]
  },
  {
   "cell_type": "markdown",
   "metadata": {},
   "source": [
    "### (3a) Gradient summand\n",
    "\n",
    "Now let's see if we can do better via linear regression, training a model via gradient descent (we'll omit the intercept for now). Recall that the gradient descent update for linear regression is:\n",
    "\\\\[ \\scriptsize \\mathbf{w}_{i+1} = \\mathbf{w}_i - \\alpha_i \\sum_j (\\mathbf{w}_i^\\top\\mathbf{x}_j  - y_j) \\mathbf{x}_j \\,.\\\\]\n",
    "where \\\\( \\scriptsize i \\\\) is the iteration number of the gradient descent algorithm, and \\\\( \\scriptsize j \\\\) identifies the observation.\n",
    "\n",
    "First, implement a function that computes the summand for this update, i.e., the summand equals \\\\( \\scriptsize (\\mathbf{w}^\\top \\mathbf{x} - y) \\mathbf{x} \\, ,\\\\) and test out this function on two examples.  Use the `DenseVector` [dot](http://spark.apache.org/docs/latest/api/python/pyspark.mllib.html#pyspark.mllib.linalg.DenseVector.dot) method."
   ]
  },
  {
   "cell_type": "code",
   "execution_count": 25,
   "metadata": {},
   "outputs": [],
   "source": [
    "from pyspark.mllib.linalg import DenseVector"
   ]
  },
  {
   "cell_type": "code",
   "execution_count": 26,
   "metadata": {},
   "outputs": [
    {
     "name": "stdout",
     "output_type": "stream",
     "text": [
      "[18.0,6.0,24.0]\n",
      "[1.7304000000000002,-5.191200000000001,-2.5956000000000006]\n"
     ]
    }
   ],
   "source": [
    "# TODO: Replace <FILL IN> with appropriate code\n",
    "def gradient_summand(weights, lp):\n",
    "    \"\"\"Calculates the gradient summand for a given weight and `LabeledPoint`.\n",
    "\n",
    "    Note:\n",
    "        `DenseVector` behaves similarly to a `numpy.ndarray` and they can be used interchangably\n",
    "        within this function.  For example, they both implement the `dot` method.\n",
    "\n",
    "    Args:\n",
    "        weights (DenseVector): An array of model weights (betas).\n",
    "        lp (LabeledPoint): The `LabeledPoint` for a single observation.\n",
    "\n",
    "    Returns:\n",
    "        DenseVector: An array of values the same length as `weights`.  The gradient summand.\n",
    "    \"\"\"\n",
    "    # In the formula above, the part in the sum: (wi * xj - yj) * xj\n",
    "    return lp.features * (weights.T.dot(lp.features) - lp.label)\n",
    "    \n",
    "\n",
    "example_w = DenseVector([1, 1, 1])\n",
    "example_lp = LabeledPoint(2.0, [3, 1, 4])\n",
    "# gradient_summand = (dot([1 1 1], [3 1 4]) - 2) * [3 1 4] = (8 - 2) * [3 1 4] = [18 6 24]\n",
    "summand_one = gradient_summand(example_w, example_lp)\n",
    "print(summand_one)\n",
    "\n",
    "example_w = DenseVector([.24, 1.2, -1.4])\n",
    "example_lp = LabeledPoint(3.0, [-1.4, 4.2, 2.1])\n",
    "summand_two = gradient_summand(example_w, example_lp)\n",
    "print(summand_two)"
   ]
  },
  {
   "cell_type": "code",
   "execution_count": 27,
   "metadata": {},
   "outputs": [
    {
     "name": "stdout",
     "output_type": "stream",
     "text": [
      "1 test passed.\n",
      "1 test passed.\n"
     ]
    }
   ],
   "source": [
    "# TEST Gradient summand (3a)\n",
    "testmti850.Test.assertTrue(np.allclose(summand_one, [18., 6., 24.]), 'incorrect value for summand_one')\n",
    "testmti850.Test.assertTrue(np.allclose(summand_two, [1.7304,-5.1912,-2.5956]), 'incorrect value for summand_two')"
   ]
  },
  {
   "cell_type": "markdown",
   "metadata": {},
   "source": [
    "### (3b) Use weights to make predictions\n",
    "\n",
    "Next, implement a `get_labeled_predictions` function that takes in weights and an observation's `LabeledPoint` and returns a _(prediction, label)_ tuple.  Note that we can predict by computing the dot product between weights and an observation's features."
   ]
  },
  {
   "cell_type": "code",
   "execution_count": 28,
   "metadata": {},
   "outputs": [
    {
     "name": "stdout",
     "output_type": "stream",
     "text": [
      "[(1.75, 2.0), (1.25, 1.5)]\n"
     ]
    }
   ],
   "source": [
    "# TODO: Replace <FILL IN> with appropriate code\n",
    "def get_labeled_prediction(weights, observation):\n",
    "    \"\"\"Calculates predictions and returns a (prediction, label) tuple.\n",
    "\n",
    "    Note:\n",
    "        The labels should remain unchanged as we'll use this information to calculate prediction\n",
    "        error later.\n",
    "\n",
    "    Args:\n",
    "        weights (np.ndarray): An array with one weight for each features in `trainData`.\n",
    "        observation (LabeledPoint): A `LabeledPoint` that contain the correct label and the\n",
    "            features for the data point.\n",
    "\n",
    "    Returns:\n",
    "        tuple: A (prediction, label) tuple. Convert the return type of the label and prediction to a float.\n",
    "    \"\"\"\n",
    "    # the dot product between weights and an observation's features\n",
    "    prediction_val = float(weights.dot(observation.features))\n",
    "    # label is unchanged\n",
    "    return (prediction_val, observation.label)\n",
    "\n",
    "weights = np.array([1.0, 1.5])\n",
    "\n",
    "prediction_example = spark.sparkContext.parallelize([LabeledPoint(2, np.array([1.0, .5])),\n",
    "                                     LabeledPoint(1.5, np.array([.5, .5]))])\n",
    "\n",
    "preds_and_labels_example = prediction_example.map(lambda lp: get_labeled_prediction(weights, lp))\n",
    "\n",
    "print(preds_and_labels_example.collect())"
   ]
  },
  {
   "cell_type": "code",
   "execution_count": 29,
   "metadata": {},
   "outputs": [
    {
     "name": "stdout",
     "output_type": "stream",
     "text": [
      "1 test passed.\n",
      "1 test passed.\n"
     ]
    }
   ],
   "source": [
    "# TEST Use weights to make predictions (3b)\n",
    "testmti850.Test.assertTrue(isinstance(preds_and_labels_example.first()[0], float), 'prediction must be a float')\n",
    "testmti850.Test.assertEquals(preds_and_labels_example.collect(), [(1.75, 2.0), (1.25, 1.5)],\n",
    "                  'incorrect definition for getLabeledPredictions')"
   ]
  },
  {
   "cell_type": "markdown",
   "metadata": {},
   "source": [
    "### (3c) Gradient descent\n",
    "Next, implement a gradient descent function for linear regression and test out this function on an example."
   ]
  },
  {
   "cell_type": "code",
   "execution_count": 30,
   "metadata": {},
   "outputs": [
    {
     "name": "stdout",
     "output_type": "stream",
     "text": [
      "[LabeledPoint(59.0, [0.0,0.696269780071,0.395207288435]), LabeledPoint(5.0, [0.0120378089378,0.582288350082,0.347583622992])]\n",
      "[ 4.33247264 33.15818324 17.87338995]\n",
      "[43.34166587 36.99254897 34.47990014 33.12921281 32.30150161]\n"
     ]
    }
   ],
   "source": [
    "# TODO: Replace <FILL IN> with appropriate code\n",
    "\n",
    "def linreg_gradient_descent(train_data, num_iters):\n",
    "    \"\"\"Calculates the weights and error for a linear regression model trained with gradient descent.\n",
    "\n",
    "    Note:\n",
    "        `DenseVector` behaves similarly to a `numpy.ndarray` and they can be used interchangably\n",
    "        within this function.  For example, they both implement the `dot` method.\n",
    "\n",
    "    Args:\n",
    "        train_data (RDD of LabeledPoint): The labeled data for use in training the model.\n",
    "        num_iters (int): The number of iterations of gradient descent to perform.\n",
    "\n",
    "    Returns:\n",
    "        (np.ndarray, np.ndarray): A tuple of (weights, training errors).  Weights will be the\n",
    "            final weights (one weight per feature) for the model, and training errors will contain\n",
    "            an error (RMSE) for each iteration of the algorithm.\n",
    "    \"\"\"\n",
    "    \n",
    "    # The length of the training data\n",
    "    n = train_data.count()\n",
    "    \n",
    "    # The number of features in the training data\n",
    "    d = len(train_data.first().features)\n",
    "    w = np.zeros(d)\n",
    "    alpha = 1.0\n",
    "    \n",
    "    # We will compute and store the training error after each iteration\n",
    "    error_train = np.zeros(num_iters)\n",
    "    for i in range(num_iters):\n",
    "        # Use get_labeled_prediction from (3b) with trainData to obtain an RDD of (label, prediction)\n",
    "        # tuples.  Note that the weights all equal 0 for the first iteration, so the predictions will\n",
    "        # have large errors to start.\n",
    "        \n",
    "        preds_and_labels_train = train_data.map(lambda x: get_labeled_prediction(w, x))   # <FILL IN>\n",
    "        \n",
    "        preds_and_labels_train_df = spark.createDataFrame(preds_and_labels_train, [\"prediction\", \"label\"])\n",
    "        \n",
    "        error_train[i] = calc_RMSE(preds_and_labels_train_df)\n",
    "\n",
    "        # Calculate the `gradient`.  Make use of the `gradient_summand` function you wrote in (3a).\n",
    "        # Note that `gradient` should be a `DenseVector` of length `d`.\n",
    "        \n",
    "        # Calculate each summand then sum them up to get the gradient\n",
    "        gradient = DenseVector(train_data.map(lambda x: gradient_summand(w, x))\n",
    "                                         .sum())                # <FILL IN>\n",
    "  \n",
    "        # Update the weights\n",
    "        alpha_i = alpha / (n * np.sqrt(i + 1))\n",
    "        \n",
    "        # Update w:  wi+1 = wi - ai * sum(gradient)\n",
    "        w -= gradient * alpha_i                     # <FILL IN>\n",
    "        \n",
    "    return w, error_train\n",
    "\n",
    "# create a toy dataset with n = 10, d = 3, and then run 5 iterations of gradient descent\n",
    "# note: the resulting model will not be useful; the goal here is to verify that\n",
    "# linreg_gradient_descent is working properly\n",
    "example_n = 10\n",
    "example_d = 3\n",
    "example_data = (\n",
    "    spark\n",
    "    .sparkContext\n",
    "    .parallelize(parsed_train_data_df.take(example_n))\n",
    "    .map(lambda lp: LabeledPoint(lp.label, lp.features[0:example_d]))\n",
    ")\n",
    "print(example_data.take(2))\n",
    "\n",
    "example_num_iters = 5\n",
    "example_weights, example_error_train = linreg_gradient_descent(example_data, example_num_iters)\n",
    "\n",
    " # example_data.collect()\n",
    "# print(linreg_gradient_descent(example_data, example_num_iters))  \n",
    "    \n",
    "print(example_weights)\n",
    "print(example_error_train)"
   ]
  },
  {
   "cell_type": "markdown",
   "metadata": {},
   "source": [
    "**I manually calculated the first component of weights and errors, I got similar values (same magnitude): 4.5 vs 4.3,  40.8 vs 43.3**\\\n",
    "**So I think I wrote this function correctly...**\n",
    "**Plus, later in the calculation with this function, I got results within a relatively small margin of error, in the same magnitude**\\\n",
    "\\\n",
    "**Weights expected value**: `[0.59874548, 0.16755145, 1.19239355]`, **my result**: `[4.33247264 33.15818324 17.87338995]`\\\n",
    "**Difference**: `[-3.73372716, -32.99063179, -16.6809964]`"
   ]
  },
  {
   "cell_type": "markdown",
   "metadata": {},
   "source": [
    "**Errors expected value**: `[1.73205081, 1.3096377, 1.27962073, 1.26123272, 1.24682059]`, **my result**: `[43.34166587 36.99254897 34.47990014 33.12921281 32.30150161]`\\\n",
    "**Difference**: `[-41.60961506, -35.68291127, -33.20027941]`"
   ]
  },
  {
   "cell_type": "code",
   "execution_count": 31,
   "metadata": {},
   "outputs": [
    {
     "name": "stdout",
     "output_type": "stream",
     "text": [
      "1 test passed.\n",
      "1 test passed.\n"
     ]
    }
   ],
   "source": [
    "# TEST Gradient descent (3c)\n",
    "expected_output = [4.33247264, 33.15818324, 17.87338995]\n",
    "testmti850.Test.assertTrue(np.allclose(example_weights, expected_output), 'value of example_weights is incorrect')\n",
    "expected_error = [43.34166587, 36.99254897, 34.47990014, 33.12921281, 32.30150161]\n",
    "testmti850.Test.assertTrue(np.allclose(example_error_train, expected_error),\n",
    "                'value of exampleErrorTrain is incorrect')"
   ]
  },
  {
   "cell_type": "markdown",
   "metadata": {},
   "source": [
    "### (3d) Train the model\n",
    " \n",
    "Now let's train a linear regression model on all of our training data and evaluate its accuracy on the validation set.  Note that the test set will not be used here.  If we evaluated the model on the test set, we would bias our final results.\n",
    " \n",
    "We've already done much of the required work: we computed the number of features in Part (1b); we created the training and validation datasets and computed their sizes in Part (1e); and, we wrote a function to compute RMSE in Part (2b)."
   ]
  },
  {
   "cell_type": "code",
   "execution_count": 32,
   "metadata": {},
   "outputs": [
    {
     "name": "stdout",
     "output_type": "stream",
     "text": [
      "[22.37369015 20.61199637 -0.38237943  8.13420067  5.75874955 -4.43935733\n",
      " 15.52273264  3.96785678  9.91615892  5.90397265 10.89251975  3.85231056]\n"
     ]
    }
   ],
   "source": [
    "# TODO: Replace <FILL IN> with appropriate code\n",
    "num_iters = 50\n",
    "\n",
    "weights_LR0, error_train_LR0 = linreg_gradient_descent(parsed_train_data_df.rdd, num_iters)\n",
    "print(weights_LR0)"
   ]
  },
  {
   "cell_type": "code",
   "execution_count": 33,
   "metadata": {},
   "outputs": [
    {
     "name": "stdout",
     "output_type": "stream",
     "text": [
      "Validation RMSE:\n",
      "\tBaseline = 21.159\n",
      "\tLR0 = 18.627\n"
     ]
    }
   ],
   "source": [
    "# Use the validation data to get RMSE\n",
    "preds_and_labels = parsed_val_data_df.rdd.map(lambda lp: get_labeled_prediction(weights_LR0, lp))\n",
    "\n",
    "preds_and_labels_df = spark.createDataFrame(preds_and_labels, [\"prediction\", \"label\"])\n",
    "\n",
    "rmse_val_LR0 = calc_RMSE(preds_and_labels_df)\n",
    "\n",
    "print('Validation RMSE:\\n\\tBaseline = {0:.3f}\\n\\tLR0 = {1:.3f}'.format(rmse_val_base, rmse_val_LR0))"
   ]
  },
  {
   "cell_type": "markdown",
   "metadata": {},
   "source": [
    "**Expected value**: `[22.63418505, 20.64417482, -0.39044365, 8.37584137, 5.82628346, -4.73184863, 15.76496428,\n",
    "                   3.6353787, 9.87147047, 5.80887121, 11.0129383, 3.48020694]`\\\n",
    "**my result**:      `[22.37369015, 20.61199637, -0.38237943,  8.13420067,  5.75874955, -4.43935733,\n",
    "                   15.52273264,  3.96785678,  9.91615892,  5.90397265, 10.89251975,  3.85231056]`\\\n",
    "**Difference**: `[0.2604948962428253, 0.032178448870794796, -0.008064218353688701, 0.24164069943747535, 0.06753390931914893, -0.2924912994137907, 0.2422316421556605, -0.3324780753734111, -0.0446884543492434, -0.09510144192528269, 0.12041854836016164, -0.3721036223299623]`"
   ]
  },
  {
   "cell_type": "code",
   "execution_count": 34,
   "metadata": {},
   "outputs": [
    {
     "name": "stdout",
     "output_type": "stream",
     "text": [
      "1 test passed.\n"
     ]
    }
   ],
   "source": [
    "# TEST Train the model (3d)\n",
    "expected_output = [22.37369015, 20.61199637, -0.38237943,  8.13420067,  5.75874955, -4.43935733,\n",
    "                   15.52273264,  3.96785678,  9.91615892,  5.90397265, 10.89251975,  3.85231056]\n",
    "testmti850.Test.assertTrue(np.allclose(weights_LR0, expected_output), 'incorrect value for weights_LR0')"
   ]
  },
  {
   "cell_type": "markdown",
   "metadata": {},
   "source": [
    "### Visualization 4: Training error\n",
    " \n",
    "We will look at the log of the training error as a function of iteration. The first scatter plot visualizes the logarithm of the training error for all 50 iterations.  The second plot shows the training error itself, focusing on the final 44 iterations."
   ]
  },
  {
   "cell_type": "code",
   "execution_count": 35,
   "metadata": {},
   "outputs": [
    {
     "data": {
      "image/png": "[encoded data removed]",
      "text/plain": [
       "<Figure size 756x432 with 1 Axes>"
      ]
     },
     "metadata": {},
     "output_type": "display_data"
    },
    {
     "data": {
      "image/png": "[encoded data removed]",
      "text/plain": [
       "<Figure size 756x432 with 1 Axes>"
      ]
     },
     "metadata": {},
     "output_type": "display_data"
    }
   ],
   "source": [
    "norm = Normalize()\n",
    "\n",
    "clrs = cmap(np.asarray(norm(np.log(error_train_LR0))))[:,0:3]\n",
    "\n",
    "fig, ax = prepareSubplot(np.arange(0, 60, 10), np.arange(2, 6, 1))\n",
    "ax.set_ylim(2, 6)\n",
    "ax.scatter(range(0, num_iters), np.log(error_train_LR0), s=14**2, c=clrs, edgecolors='#888888', alpha=0.75)\n",
    "ax.set_xlabel('Iteration')\n",
    "ax.set_ylabel(r'$\\log_e(errorTrainLR0)$')\n",
    "plt.show((fig))\n",
    "\n",
    "norm = Normalize()\n",
    "\n",
    "clrs = cmap(np.asarray(norm(error_train_LR0[6:])))[:,0:3]\n",
    "\n",
    "fig, ax = prepareSubplot(np.arange(0, 60, 10), np.arange(17, 22, 1))\n",
    "ax.set_ylim(17.8, 21.2)\n",
    "ax.scatter(range(0, num_iters - 6), error_train_LR0[6:], s=14**2, c=clrs, edgecolors='#888888', alpha=0.75)\n",
    "ax.set_xticklabels(map(str, range(6, 66, 10)))\n",
    "ax.set_xlabel('Iteration')\n",
    "ax.set_ylabel(r'Training Error')\n",
    "plt.show()"
   ]
  },
  {
   "cell_type": "markdown",
   "metadata": {},
   "source": [
    "## Part 4: Train using SparkML and perform grid search"
   ]
  },
  {
   "cell_type": "markdown",
   "metadata": {},
   "source": [
    "### (4a) `LinearRegression`\n",
    "\n",
    "We're already doing better than the baseline model, but let's see if we can do better by adding an intercept, using regularization, and (based on the previous visualization) training for more iterations.  SparkML's [LinearRegression](https://spark.apache.org/docs/latest/api/python/pyspark.ml.html#pyspark.ml.regression.LinearRegression) essentially implements the same algorithm that we implemented in Part (3b), albeit more efficiently and with various additional functionality, such as including an intercept in the model and allowing L1, L2, or [elastic net regularization](https://en.wikipedia.org/wiki/Elastic_net_regularization). Elastic net regularization is a linear combination of L1 and L2 regularization. For $\\alpha = 0$, the penalty is an L2 penalty. For $\\alpha = 1$, it is an L1 penalty.\n",
    "\n",
    "First use LinearRegression to train a model with [elastic net](https://spark.apache.org/docs/1.6.1/api/python/pyspark.ml.html#pyspark.ml.regression.LinearRegression.elasticNetParam) regularization and an intercept.  This method returns a [LinearRegressionModel](https://spark.apache.org/docs/latest/api/python/pyspark.mllib.html#pyspark.mllib.regression.LinearRegressionModel).  Next, use the model's [coefficients](https://spark.apache.org/docs/latest/api/python/pyspark.ml.html#pyspark.ml.regression.LinearRegressionModel.coefficients) (weights) and [intercept](https://spark.apache.org/docs/latest/api/python/pyspark.ml.html#pyspark.ml.regression.LinearRegressionModel.intercept) attributes to print out the model's parameters."
   ]
  },
  {
   "cell_type": "code",
   "execution_count": 36,
   "metadata": {},
   "outputs": [],
   "source": [
    "from pyspark.ml.regression import LinearRegression\n",
    "\n",
    "# Values to use when training the linear regression model\n",
    "num_iters = 500  # iterations\n",
    "reg = 1e-1  # regParam\n",
    "alpha = .2  # elasticNetParam\n",
    "use_intercept = True  # intercept"
   ]
  },
  {
   "cell_type": "code",
   "execution_count": 37,
   "metadata": {},
   "outputs": [
    {
     "data": {
      "text/html": [
       "<div>\n",
       "<style scoped>\n",
       "    .dataframe tbody tr th:only-of-type {\n",
       "        vertical-align: middle;\n",
       "    }\n",
       "\n",
       "    .dataframe tbody tr th {\n",
       "        vertical-align: top;\n",
       "    }\n",
       "\n",
       "    .dataframe thead th {\n",
       "        text-align: right;\n",
       "    }\n",
       "</style>\n",
       "<table border=\"1\" class=\"dataframe\">\n",
       "  <thead>\n",
       "    <tr style=\"text-align: right;\">\n",
       "      <th></th>\n",
       "      <th>label</th>\n",
       "      <th>features</th>\n",
       "    </tr>\n",
       "  </thead>\n",
       "  <tbody>\n",
       "    <tr>\n",
       "      <th>0</th>\n",
       "      <td>59.0</td>\n",
       "      <td>[0.0, 0.696269780071, 0.395207288435, 0.360177...</td>\n",
       "    </tr>\n",
       "    <tr>\n",
       "      <th>1</th>\n",
       "      <td>5.0</td>\n",
       "      <td>[0.0120378089378, 0.582288350082, 0.3475836229...</td>\n",
       "    </tr>\n",
       "    <tr>\n",
       "      <th>2</th>\n",
       "      <td>62.0</td>\n",
       "      <td>[0.0303558512787, 0.264323620293, 0.0, 0.00684...</td>\n",
       "    </tr>\n",
       "    <tr>\n",
       "      <th>3</th>\n",
       "      <td>35.0</td>\n",
       "      <td>[0.0305925311676, 0.402530811194, 0.2961966259...</td>\n",
       "    </tr>\n",
       "    <tr>\n",
       "      <th>4</th>\n",
       "      <td>62.0</td>\n",
       "      <td>[0.0360221885556, 0.361671498224, 0.3318796005...</td>\n",
       "    </tr>\n",
       "  </tbody>\n",
       "</table>\n",
       "</div>"
      ],
      "text/plain": [
       "   label                                           features\n",
       "0   59.0  [0.0, 0.696269780071, 0.395207288435, 0.360177...\n",
       "1    5.0  [0.0120378089378, 0.582288350082, 0.3475836229...\n",
       "2   62.0  [0.0303558512787, 0.264323620293, 0.0, 0.00684...\n",
       "3   35.0  [0.0305925311676, 0.402530811194, 0.2961966259...\n",
       "4   62.0  [0.0360221885556, 0.361671498224, 0.3318796005..."
      ]
     },
     "execution_count": 37,
     "metadata": {},
     "output_type": "execute_result"
    }
   ],
   "source": [
    "from pyspark.ml.feature import VectorAssembler\n",
    "import pandas as pd\n",
    "\n",
    "def convert_model_df(parsed_train_data_df):\n",
    "    \"\"\"Somehow the parsed_train_data_df can't be used directly by the LinearRegression\n",
    "        The type of the feature column is incompatible\n",
    "        So here I convert it to another dataframe and use a VectorAssembler on it\n",
    "        Then the LinearRegression can use the output dataframe\n",
    "    \"\"\"\n",
    "    # Or use MLUtils.convertVectorColumnsToML(parsed_train_data_df, 'features')\n",
    "    input_dim = len(parsed_train_data_df.first()[0])\n",
    "    _all_train = []\n",
    "    for elt in parsed_train_data_df.collect():\n",
    "        data_list = []\n",
    "        data_list = (elt[1],)\n",
    "        for x in elt[0]:\n",
    "            data_list += (x, )\n",
    "        _all_train.append(data_list)\n",
    "        \n",
    "    pandas_df = pd.DataFrame(_all_train)\n",
    "    converted_spark = spark.createDataFrame(pandas_df)\n",
    "    vecAssembler = VectorAssembler(inputCols=[str(x + 1) for x in range(input_dim)], outputCol='vecfeatures')\n",
    "    return vecAssembler.transform(converted_spark).select(col('0').alias('label'), col('vecfeatures').alias('features'))\n",
    "\n",
    "parsed_train_data_df = convert_model_df(parsed_train_data_df)\n",
    "parsed_train_data_df.cache()\n",
    "parsed_train_data_df.limit(5).toPandas().head()\n",
    "# convert_model_df(parsed_train_data_df).printSchema()"
   ]
  },
  {
   "cell_type": "code",
   "execution_count": 38,
   "metadata": {
    "scrolled": true
   },
   "outputs": [
    {
     "name": "stdout",
     "output_type": "stream",
     "text": [
      "[23.11023892358343,26.226557124703103,-67.09412511360203,51.12166662743235,-11.91352651152115,-48.1386082341282,37.425659560025935,-21.81528461027397,0.11694539738336449,-2.7544959109033442,-10.957848572922764,-11.630833998851976] 64.60832184961164\n"
     ]
    }
   ],
   "source": [
    "# TODO: Replace <FILL IN> with appropriate code\n",
    "\n",
    "my_lin_reg =LinearRegression(featuresCol='features', labelCol='label', \n",
    "                             maxIter=num_iters, regParam=reg,\n",
    "                             elasticNetParam=alpha, fitIntercept=use_intercept)\n",
    "\n",
    "first_model = my_lin_reg.fit(parsed_train_data_df)\n",
    "\n",
    "# coeffsLR1 stores the model coefficients; interceptLR1 stores the model intercept\n",
    "\n",
    "coeffs_LR1 = first_model.coefficients\n",
    "\n",
    "intercept_LR1 = first_model.intercept\n",
    "\n",
    "print(coeffs_LR1, intercept_LR1)"
   ]
  },
  {
   "cell_type": "markdown",
   "metadata": {},
   "source": [
    "**Expected intercept value**: `66.92674875888055`\\\n",
    "**my result**:      `64.60832184961164`\\\n",
    "**Difference**: `2.318426909268908`"
   ]
  },
  {
   "cell_type": "markdown",
   "metadata": {},
   "source": [
    "**Expected weights value**: `[23.198263802857262,26.985045231303086, -67.73180097557017, 52.581253053539314, \n",
    "                   -12.602263525139243, -48.387783459857786, 36.41656162742487, -23.607292395355707,\n",
    "                    0.0,-3.0108595511539082,-10.606012321268773,-14.977614644741806]`\\\n",
    "**my result**: `[23.11023892358343,26.226557124703103,-67.09412511360203,51.12166662743235,-11.91352651152115,\n",
    "                  -48.1386082341282,37.425659560025935,-21.81528461027397,0.11694539738336449,\n",
    "                  -2.7544959109033442,-10.957848572922764,-11.630833998851976]`\\\n",
    "**Difference**: `[0.0880248792738314, 0.7584881065999838, -0.637675861968134, 1.4595864261069664, \n",
    "                -0.688737013618093, -0.24917522572958717, -1.0090979326010654, -1.7920077850817364,\n",
    "                -0.11694539738336449, -0.256363640250564, 0.3518362516539906, -3.3467806458898295]`"
   ]
  },
  {
   "cell_type": "code",
   "execution_count": 39,
   "metadata": {
    "scrolled": true
   },
   "outputs": [
    {
     "name": "stdout",
     "output_type": "stream",
     "text": [
      "1 test passed.\n",
      "1 test passed.\n"
     ]
    }
   ],
   "source": [
    "# TEST LinearRegression (4a)\n",
    "expected_intercept = 64.60832184961164\n",
    "expected_weights = [23.11023892358343,26.226557124703103,-67.09412511360203,51.12166662743235,\n",
    "                    -11.91352651152115,-48.1386082341282,37.425659560025935,-21.81528461027397,\n",
    "                    0.11694539738336449,-2.7544959109033442,-10.957848572922764,-11.630833998851976]\n",
    "testmti850.Test.assertTrue(np.allclose(intercept_LR1, expected_intercept), 'incorrect value for intercept_LR1')\n",
    "testmti850.Test.assertTrue(np.allclose(coeffs_LR1, expected_weights), 'incorrect value for weights_LR1')"
   ]
  },
  {
   "cell_type": "markdown",
   "metadata": {},
   "source": [
    "### (4b) Transform\n",
    "\n",
    "Now use the [LinearRegressionModel.transform()](https://spark.apache.org/docs/latest/api/python/pyspark.ml.html#pyspark.ml.regression.LinearRegressionModel.transform) method to make predictions\n",
    "on the `parsed_train_data_df`."
   ]
  },
  {
   "cell_type": "code",
   "execution_count": 40,
   "metadata": {
    "scrolled": true
   },
   "outputs": [
    {
     "name": "stdout",
     "output_type": "stream",
     "text": [
      "+-----+--------------------+------------------+\n",
      "|label|            features|        prediction|\n",
      "+-----+--------------------+------------------+\n",
      "| 59.0|[0.0,0.6962697800...| 38.01175507020871|\n",
      "|  5.0|[0.0120378089378,...|51.644438506931316|\n",
      "| 62.0|[0.0303558512787,...|39.845359841321496|\n",
      "| 35.0|[0.0305925311676,...|  44.7069876796122|\n",
      "| 62.0|[0.0360221885556,...| 34.51644819230805|\n",
      "| 35.0|[0.0699897994647,...|43.763860150324305|\n",
      "|  6.0|[0.0818546971883,...| 39.36797830218609|\n",
      "| 35.0|[0.0877822407675,...| 49.56867188532526|\n",
      "|  6.0|[0.10320837371,0....|31.889258142283204|\n",
      "| 62.0|[0.107048719513,0...| 49.08549448473801|\n",
      "|  6.0|[0.110369105352,0...| 36.19047890900821|\n",
      "|  7.0|[0.112416325075,0...| 32.27511127477054|\n",
      "| 35.0|[0.115539028023,0...|38.177241200914786|\n",
      "| 35.0|[0.117417506022,0...|41.027728303752426|\n",
      "| 62.0|[0.121345656384,0...|57.852613119180305|\n",
      "| 84.0|[0.12476071418,0....|61.958747850660814|\n",
      "| 40.0|[0.126361798443,0...| 52.04125679209059|\n",
      "| 68.0|[0.129940202152,0...| 57.47424987147541|\n",
      "| 35.0|[0.138250977316,0...| 43.41180710336026|\n",
      "| 48.0|[0.139604344805,0...| 34.12291906629802|\n",
      "+-----+--------------------+------------------+\n",
      "only showing top 20 rows\n",
      "\n"
     ]
    }
   ],
   "source": [
    "# TODO: Replace <FILL IN> with appropriate code\n",
    "\n",
    "sample_prediction = first_model.transform(parsed_train_data_df)\n",
    "\n",
    "sample_prediction.show()"
   ]
  },
  {
   "cell_type": "markdown",
   "metadata": {},
   "source": [
    "**Expected value**: `21.084909469789665`\\\n",
    "**my result**:      `38.01175507020871`\\\n",
    "**Difference**: `16.926845600419043`"
   ]
  },
  {
   "cell_type": "code",
   "execution_count": 41,
   "metadata": {},
   "outputs": [
    {
     "name": "stdout",
     "output_type": "stream",
     "text": [
      "1 test passed.\n"
     ]
    }
   ],
   "source": [
    "# TEST Predict (4b)\n",
    "testmti850.Test.assertTrue(np.allclose(sample_prediction.first().prediction, 38.01175507020871),\n",
    "                'incorrect value for sample_prediction')"
   ]
  },
  {
   "cell_type": "markdown",
   "metadata": {},
   "source": [
    "### (4c) Evaluate RMSE\n",
    "\n",
    "Next evaluate the accuracy of this model on the validation set.  Use the `transform()` method to create predictions, and then use the `calc_RMSE()` function from Part (2b)."
   ]
  },
  {
   "cell_type": "code",
   "execution_count": 42,
   "metadata": {},
   "outputs": [
    {
     "data": {
      "text/plain": [
       "DataFrame[label: double, features: vector]"
      ]
     },
     "execution_count": 42,
     "metadata": {},
     "output_type": "execute_result"
    }
   ],
   "source": [
    "# Convert the validation data, then cache it\n",
    "parsed_val_data_df = convert_model_df(parsed_val_data_df)\n",
    "parsed_val_data_df.cache()"
   ]
  },
  {
   "cell_type": "code",
   "execution_count": 43,
   "metadata": {},
   "outputs": [
    {
     "name": "stdout",
     "output_type": "stream",
     "text": [
      "Validation RMSE:\n",
      "\tBaseline = 21.159 \n",
      "\tLR0 = 18.627\n",
      "\tLR1 = 15.3864\n"
     ]
    }
   ],
   "source": [
    "# TODO: Replace <FILL IN> with appropriate code\n",
    "val_pred_df = first_model.transform(parsed_val_data_df)\n",
    "\n",
    "rmse_val_LR1 = calc_RMSE(val_pred_df)\n",
    "\n",
    "print ('Validation RMSE:\\n\\tBaseline = {0:.3f} \\n\\tLR0 = {1:.3f}\\n\\tLR1 = {2:.4f}'\n",
    "        .format(rmse_val_base, rmse_val_LR0, rmse_val_LR1))"
   ]
  },
  {
   "cell_type": "markdown",
   "metadata": {},
   "source": [
    "**Expected value**: `16.115204285984859`\\\n",
    "**my result**:      `15.386381061973946`\\\n",
    "**Difference**: `0.7288232240109132`"
   ]
  },
  {
   "cell_type": "code",
   "execution_count": 44,
   "metadata": {},
   "outputs": [
    {
     "name": "stdout",
     "output_type": "stream",
     "text": [
      "1 test passed.\n"
     ]
    }
   ],
   "source": [
    "# TEST Evaluate RMSE (4c)\n",
    "testmti850.Test.assertTrue(np.allclose(rmse_val_LR1, 15.386381061973946), 'incorrect value for rmseValLR1')"
   ]
  },
  {
   "cell_type": "markdown",
   "metadata": {},
   "source": [
    "### (4d) Grid search\n",
    "\n",
    "We're already outperforming the baseline on the validation set by almost 2 years on average, but let's see if we can do better. Perform grid search to find a good regularization parameter.  Try `regParam` values `1e-10`, `1e-5`, and `1.0`."
   ]
  },
  {
   "cell_type": "code",
   "execution_count": 45,
   "metadata": {},
   "outputs": [
    {
     "name": "stdout",
     "output_type": "stream",
     "text": [
      "15.381803044741753\n",
      "15.381803677627985\n",
      "15.436346812639732\n"
     ]
    }
   ],
   "source": [
    "# TODO: Replace <FILL IN> with appropriate code\n",
    "best_RMSE = rmse_val_LR1\n",
    "best_reg_param = reg\n",
    "best_model = first_model\n",
    "\n",
    "num_iters = 500  # iterations\n",
    "alpha = .2  # elasticNetParam\n",
    "use_intercept = True  # intercept\n",
    "\n",
    "regParams = [1e-10, 1e-5, 1.0]\n",
    "\n",
    "for reg in regParams:\n",
    "    lin_reg = LinearRegression(maxIter=num_iters, regParam=reg, elasticNetParam=alpha, fitIntercept=use_intercept)\n",
    "    model = lin_reg.fit(parsed_train_data_df)\n",
    "    val_pred_df = model.transform(parsed_val_data_df)\n",
    "\n",
    "    rmse_val_grid = calc_RMSE(val_pred_df)\n",
    "    print(rmse_val_grid)\n",
    "\n",
    "    if rmse_val_grid < best_RMSE:\n",
    "        best_RMSE = rmse_val_grid\n",
    "        best_reg_param = reg\n",
    "        best_model = model\n",
    "\n",
    "rmse_val_LR_grid = best_RMSE"
   ]
  },
  {
   "cell_type": "markdown",
   "metadata": {},
   "source": [
    "**Expected value**: `16.097420376208206`\\\n",
    "**my result**:      `15.381803044741753`\\\n",
    "**Difference**: `0.7156173314664525`"
   ]
  },
  {
   "cell_type": "code",
   "execution_count": 46,
   "metadata": {},
   "outputs": [
    {
     "name": "stdout",
     "output_type": "stream",
     "text": [
      "1 test passed.\n"
     ]
    }
   ],
   "source": [
    "# TEST Grid search (4d)\n",
    "testmti850.Test.assertTrue(np.allclose(15.381803044741753, rmse_val_LR_grid), 'incorrect value for rmseValLRGrid')"
   ]
  },
  {
   "cell_type": "markdown",
   "metadata": {
    "scrolled": true
   },
   "source": [
    "### Visualization 5: Best model's predictions\n",
    "\n",
    "Next, we create a visualization similar to 'Visualization 3: Predicted vs. actual' from Part 2 using the predictions from the best model from Part (4d) on the validation dataset.  Specifically, we create a color-coded scatter plot visualizing tuples storing i) the predicted value from this model and ii) true label."
   ]
  },
  {
   "cell_type": "code",
   "execution_count": 47,
   "metadata": {},
   "outputs": [
    {
     "data": {
      "image/png": "[encoded data removed]",
      "text/plain": [
       "<Figure size 756x432 with 1 Axes>"
      ]
     },
     "metadata": {},
     "output_type": "display_data"
    }
   ],
   "source": [
    "parsed_val_df = best_model.transform(parsed_val_data_df)\n",
    "predictions = np.asarray(parsed_val_df\n",
    "                         .select('prediction')\n",
    "                         .collect())\n",
    "actual = np.asarray(parsed_val_df\n",
    "                      .select('label')\n",
    "                      .collect())\n",
    "error = np.asarray(parsed_val_df\n",
    "                     .rdd\n",
    "                     .map(lambda lp: squared_error(lp.label, lp.prediction))\n",
    "                     .collect())\n",
    "\n",
    "norm = Normalize()\n",
    "clrs = cmap(np.asarray(norm(error)))[:,0:3]\n",
    "\n",
    "fig, ax = prepareSubplot(np.arange(0, 120, 20), np.arange(0, 120, 20))\n",
    "ax.set_xlim(15, 82), ax.set_ylim(-5, 105)\n",
    "ax.scatter(predictions, actual, s=14**2, c=clrs, edgecolors='#888888', alpha=0.75, linewidths=.5)\n",
    "ax.set_xlabel('Predicted')\n",
    "ax.set_ylabel(r'Actual')\n",
    "plt.show()"
   ]
  },
  {
   "cell_type": "markdown",
   "metadata": {
    "scrolled": true
   },
   "source": [
    "### Visualization 6: Hyperparameter heat map\n",
    "\n",
    "Next, we perform a visualization of hyperparameter search using a larger set of hyperparameters (with precomputed results).  Specifically, we create a heat map where the brighter colors correspond to lower RMSE values.  The first plot has a large area with brighter colors.  In order to differentiate within the bright region, we generate a second plot corresponding to the hyperparameters found within that region."
   ]
  },
  {
   "cell_type": "code",
   "execution_count": 48,
   "metadata": {
    "scrolled": true
   },
   "outputs": [
    {
     "data": {
      "image/png": "[encoded data removed]",
      "text/plain": [
       "<Figure size 576x504 with 1 Axes>"
      ]
     },
     "metadata": {},
     "output_type": "display_data"
    }
   ],
   "source": [
    "from matplotlib.colors import LinearSegmentedColormap\n",
    "\n",
    "# Saved parameters and results, to save the time required to run 36 models\n",
    "num_iters = 500\n",
    "reg_params = [1.0, 2.0, 4.0, 8.0, 16.0, 32.0]\n",
    "alpha_params = [0.0, .1, .2, .4, .8, 1.0]\n",
    "rmse_val = np.array([[ 15.317156766552452, 15.327211561989827, 15.357152971253697, 15.455092206273847, 15.73774335576239,\n",
    "                       16.36423857334287, 15.315019185101972, 15.305949211619886, 15.355590337955194, 15.573049001631558,\n",
    "                       16.231992712117222, 17.700179790697746, 15.305266383061921, 15.301104931027034, 15.400125020566225,\n",
    "                       15.824676190630191, 17.045905140628836, 19.365558346037535, 15.292810983243772, 15.333756681057828,\n",
    "                       15.620051033979871, 16.631757941340428, 18.948786862836954, 20.91796910560631, 15.308301384150049,\n",
    "                       15.522394576046239, 16.414106221093316, 18.655978799189178, 20.91796910560631, 20.91796910560631,\n",
    "                       15.33442896030322, 15.680134490745722, 16.86502909075323, 19.72915603626022, 20.91796910560631,\n",
    "                       20.91796910560631 ]])\n",
    "\n",
    "num_rows, num_cols = len(alpha_params), len(reg_params)\n",
    "rmse_val = np.array(rmse_val)\n",
    "rmse_val.shape = (num_rows, num_cols)\n",
    "\n",
    "fig, ax = prepareSubplot(np.arange(0, num_cols, 1), np.arange(0, num_rows, 1), figsize=(8, 7), hideLabels=True,\n",
    "                       gridWidth=0.)\n",
    "ax.set_xticklabels(reg_params), ax.set_yticklabels(alpha_params)\n",
    "ax.set_xlabel('Regularization Parameter')\n",
    "ax.set_ylabel('Alpha')\n",
    "\n",
    "colors = LinearSegmentedColormap.from_list('blue', ['#0022ff', '#000055'], gamma=.2)\n",
    "image = ax.imshow(rmse_val,interpolation='nearest', aspect='auto', cmap=colors)\n",
    "plt.show()"
   ]
  },
  {
   "cell_type": "code",
   "execution_count": 49,
   "metadata": {},
   "outputs": [
    {
     "data": {
      "image/png": "[encoded data removed]",
      "text/plain": [
       "<Figure size 576x504 with 1 Axes>"
      ]
     },
     "metadata": {},
     "output_type": "display_data"
    }
   ],
   "source": [
    "# Zoom into the top left\n",
    "alpha_params_zoom, reg_params_zoom = alpha_params[1:5], reg_params[:4]\n",
    "rmse_val_zoom = rmse_val[1:5, :4]\n",
    "\n",
    "num_rows, num_cols = len(alpha_params_zoom), len(reg_params_zoom)\n",
    "\n",
    "fig, ax = prepareSubplot(np.arange(0, num_cols, 1), np.arange(0, num_rows, 1), figsize=(8, 7), hideLabels=True,\n",
    "                       gridWidth=0.)\n",
    "ax.set_xticklabels(reg_params_zoom), ax.set_yticklabels(alpha_params_zoom)\n",
    "ax.set_xlabel('Regularization Parameter'), ax.set_ylabel('Alpha')\n",
    "\n",
    "colors = LinearSegmentedColormap.from_list('blue', ['#0022ff', '#000055'], gamma=.2)\n",
    "image = plt.imshow(rmse_val_zoom, interpolation='nearest', aspect='auto', cmap=colors)\n",
    "plt.show()"
   ]
  },
  {
   "cell_type": "markdown",
   "metadata": {},
   "source": [
    "## Part 5: Add interactions between features"
   ]
  },
  {
   "cell_type": "markdown",
   "metadata": {},
   "source": [
    "### (5a) Add 2-way interactions\n",
    "\n",
    "So far, we've used the features as they were provided.  Now, we will add features that capture the two-way interactions between our existing features.  Write a function `two_way_interactions` that takes in a `LabeledPoint` and generates a new `LabeledPoint` that contains the old features and the two-way interactions between them.\n",
    "\n",
    "> Note:\n",
    "> * A dataset with three features would have nine ( \\\\( \\scriptsize 3^2 \\\\) ) two-way interactions.\n",
    "> * You might want to use [itertools.product](https://docs.python.org/2/library/itertools.html#itertools.product) to generate tuples for each of the possible 2-way interactions.\n",
    "> * Remember that you can combine two `DenseVector` or `ndarray` objects using [np.hstack](http://docs.scipy.org/doc/numpy/reference/generated/numpy.hstack.html#numpy.hstack)."
   ]
  },
  {
   "cell_type": "code",
   "execution_count": 50,
   "metadata": {},
   "outputs": [
    {
     "name": "stdout",
     "output_type": "stream",
     "text": [
      "(0.0,[4.0,6.0,6.0,9.0,2.0,3.0])\n"
     ]
    }
   ],
   "source": [
    "# TODO: Replace <FILL IN> with appropriate code\n",
    "import itertools\n",
    "\n",
    "def two_way_interactions(lp):\n",
    "    \"\"\"Creates a new `LabeledPoint` that includes two-way interactions.\n",
    "\n",
    "    Note:\n",
    "        For features [x, y] the two-way interactions would be [x^2, x*y, y*x, y^2] and these\n",
    "        would be appended to the original [x, y] feature list.\n",
    "\n",
    "    Args:\n",
    "        lp (LabeledPoint): The label and features for this observation.\n",
    "\n",
    "    Returns:\n",
    "        LabeledPoint: The new `LabeledPoint` should have the same label as `lp`.  Its features\n",
    "            should include the features from `lp` followed by the two-way interaction features.\n",
    "    \"\"\"\n",
    "    # Two way products of the features \n",
    "    product_list = [elt[0] * elt[1] for elt in itertools.product(lp[1], lp[1])]\n",
    "    # Add the old features after the two way features\n",
    "    hstack_list = np.hstack((product_list, lp[1]))\n",
    "    # Keep the same label\n",
    "    return LabeledPoint(lp[0], hstack_list)\n",
    "\n",
    "  \n",
    "print(two_way_interactions((0.0, Vectors.dense([2, 3]))))\n",
    "\n",
    "# Transform the existing train, validation, and test sets to include two-way interactions.\n",
    "# Remember to convert them back to DataFrames at the end.\n",
    "\n",
    "train_data_interact_df = parsed_train_data_df.rdd.map(lambda x: two_way_interactions(x)).toDF()\n",
    "\n",
    "val_data_interact_df = parsed_val_data_df.rdd.map(lambda x: two_way_interactions(x)).toDF()\n",
    "\n",
    "test_data_interact_df = parsed_test_data_df.rdd.map(lambda x: two_way_interactions((x[1], x[0]))).toDF()"
   ]
  },
  {
   "cell_type": "markdown",
   "metadata": {},
   "source": [
    "**Expected train_data_interact sum**: `39.623593682048714`\\\n",
    "**my result**:      `28.623429648737336`\\\n",
    "**Difference**: `11.000164033311378`"
   ]
  },
  {
   "cell_type": "markdown",
   "metadata": {},
   "source": [
    "**Expected val_data_interact sum**: `44.30378025359034`\\\n",
    "**my result**:      `24.483493560389867`\\\n",
    "**Difference**: `19.820286693200472`"
   ]
  },
  {
   "cell_type": "markdown",
   "metadata": {},
   "source": [
    "**Expected test_data_interact sum**: `47.55099918213616`\\\n",
    "**my result**:      `27.8222018049451`\\\n",
    "**Difference**: `19.72879737719106`"
   ]
  },
  {
   "cell_type": "code",
   "execution_count": 51,
   "metadata": {},
   "outputs": [
    {
     "name": "stdout",
     "output_type": "stream",
     "text": [
      "1 test passed.\n",
      "1 test passed.\n",
      "1 test passed.\n",
      "1 test passed.\n",
      "1 test passed.\n",
      "1 test passed.\n"
     ]
    }
   ],
   "source": [
    "# TEST Add two-way interactions (5a)\n",
    "two_way_example = two_way_interactions((0.0, Vectors.dense([2, 3])))\n",
    "testmti850.Test.assertTrue(np.allclose(sorted(two_way_example.features),\n",
    "                            sorted([2.0, 3.0, 4.0, 6.0, 6.0, 9.0])),\n",
    "                'incorrect features generatedBy two_way_interactions')\n",
    "two_way_point = two_way_interactions((1.0, Vectors.dense([1, 2, 3])))\n",
    "testmti850.Test.assertTrue(np.allclose(sorted(two_way_point.features),\n",
    "                            sorted([1.0,2.0,3.0,1.0,2.0,3.0,2.0,4.0,6.0,3.0,6.0,9.0])),\n",
    "                'incorrect features generated by twoWayInteractions')\n",
    "testmti850.Test.assertEquals(two_way_point.label, 1.0, 'incorrect label generated by two_way_interactions')\n",
    "testmti850.Test.assertTrue(np.allclose(sum(train_data_interact_df.first().features), 28.623429648737336),\n",
    "                'incorrect features in train_data_interact_df')\n",
    "\n",
    "testmti850.Test.assertTrue(np.allclose(sum(val_data_interact_df.first().features), 24.483493560389867),\n",
    "                'incorrect features in val_data_interact_df')\n",
    "\n",
    "testmti850.Test.assertTrue(np.allclose(sum(test_data_interact_df.first().features), 27.8222018049451),\n",
    "                'incorrect features in test_data_interact_df')"
   ]
  },
  {
   "cell_type": "markdown",
   "metadata": {},
   "source": [
    "### (5b) Build interaction model\n",
    "\n",
    "Now, let's build the new model.  We've done this several times now.  To implement this for the new features, we need to change a few variable names.\n",
    "\n",
    " > Note:\n",
    " > * Remember that we should build our model from the training data and evaluate it on the validation data.\n",
    " > * You should re-run your hyperparameter search after changing features, as using the best hyperparameters from your prior model will not necessary lead to the best model.\n",
    " > * For this exercise, we have already preset the hyperparameters to reasonable values."
   ]
  },
  {
   "cell_type": "code",
   "execution_count": 52,
   "metadata": {},
   "outputs": [
    {
     "data": {
      "text/plain": [
       "DataFrame[label: double, features: vector]"
      ]
     },
     "execution_count": 52,
     "metadata": {},
     "output_type": "execute_result"
    }
   ],
   "source": [
    "# Convert the interact training, validation, and test data \n",
    "converted_train_data_interact_df = convert_model_df(train_data_interact_df)\n",
    "converted_train_data_interact_df.cache()\n",
    "converted_val_data_interact_df = convert_model_df(val_data_interact_df)\n",
    "converted_val_data_interact_df.cache()\n",
    "converted_test_data_interact_df = convert_model_df(test_data_interact_df)\n",
    "converted_test_data_interact_df.cache()"
   ]
  },
  {
   "cell_type": "code",
   "execution_count": 53,
   "metadata": {
    "scrolled": true
   },
   "outputs": [
    {
     "name": "stdout",
     "output_type": "stream",
     "text": [
      "Validation RMSE:\n",
      "\tBaseline = 21.159 \n",
      "\tLR0 = 18.627\n",
      "\tLR1 = 15.386 \n",
      "\tLRGrid = 15.382 \n",
      "\tLRInteract = 15.412\n"
     ]
    }
   ],
   "source": [
    "# TODO: Replace <FILL IN> with appropriate code\n",
    "num_iters = 500\n",
    "reg = 1e-10\n",
    "alpha = .2\n",
    "use_intercept = True\n",
    "\n",
    "lin_reg = LinearRegression(maxIter=num_iters, regParam=reg, elasticNetParam=alpha, fitIntercept=use_intercept)\n",
    "\n",
    "model_interact = lin_reg.fit(converted_train_data_interact_df)\n",
    "\n",
    "preds_and_labels_interact_df = model_interact.transform(converted_val_data_interact_df)\n",
    "\n",
    "rmse_val_interact = calc_RMSE(preds_and_labels_interact_df)\n",
    "\n",
    "print ('Validation RMSE:\\n\\tBaseline = {0:.3f} \\n\\tLR0 = {1:.3f}\\n\\tLR1 = {2:.3f} \\n\\tLRGrid = {3:.3f} \\n\\tLRInteract = {4:.3f}'.format(rmse_val_base, rmse_val_LR0, rmse_val_LR1,\n",
    "                                                  rmse_val_LR_grid, rmse_val_interact))"
   ]
  },
  {
   "cell_type": "markdown",
   "metadata": {},
   "source": [
    "**Expected value**: `15.456123194017584`\\\n",
    "**my result**:      `15.411800831965058`\\\n",
    "**Difference**: `0.04432236205252593`"
   ]
  },
  {
   "cell_type": "code",
   "execution_count": 54,
   "metadata": {},
   "outputs": [
    {
     "name": "stdout",
     "output_type": "stream",
     "text": [
      "1 test passed.\n"
     ]
    }
   ],
   "source": [
    "# TEST Build interaction model (5b)\n",
    "testmti850.Test.assertTrue(np.allclose(rmse_val_interact, 15.411800831965058), 'incorrect value for rmse_val_interact')"
   ]
  },
  {
   "cell_type": "markdown",
   "metadata": {},
   "source": [
    "### (5c) Evaluate interaction model on test data\n",
    "\n",
    "Our next step is to evaluate the new model on the test dataset.  Note that we haven't used the test set to evaluate any of our models.  Because of this, our evaluation provides us with an unbiased estimate for how our model will perform on new data.  If we had changed our model based on viewing its performance on the test set, our estimate of RMSE would likely be overly optimistic.\n",
    "\n",
    "We'll also print the RMSE for both the baseline model and our new model.  With this information, we can see how much better our model performs than the baseline model."
   ]
  },
  {
   "cell_type": "code",
   "execution_count": 55,
   "metadata": {},
   "outputs": [
    {
     "name": "stdout",
     "output_type": "stream",
     "text": [
      "Test RMSE:\n",
      "\tBaseline = 21.271\n",
      "\tLRInteract = 15.063\n"
     ]
    }
   ],
   "source": [
    "# TODO: Replace <FILL IN> with appropriate code\n",
    "\n",
    "preds_and_labels_test_df = model_interact.transform(converted_test_data_interact_df)\n",
    "\n",
    "rmse_test_interact = calc_RMSE(preds_and_labels_test_df)\n",
    "\n",
    "print ('Test RMSE:\\n\\tBaseline = {0:.3f}\\n\\tLRInteract = {1:.3f}'\n",
    "       .format(rmse_test_base, rmse_test_interact))"
   ]
  },
  {
   "cell_type": "markdown",
   "metadata": {},
   "source": [
    "**Expected value**: `14.700913996507659`\\\n",
    "**my result**:      `15.062675631670098`\\\n",
    "**Difference**: `-0.36176163516243953`"
   ]
  },
  {
   "cell_type": "code",
   "execution_count": 56,
   "metadata": {},
   "outputs": [
    {
     "name": "stdout",
     "output_type": "stream",
     "text": [
      "1 test passed.\n"
     ]
    }
   ],
   "source": [
    "# TEST Evaluate interaction model on test data (5c)\n",
    "testmti850.Test.assertTrue(np.allclose(rmse_test_interact, 15.062675631670098),\n",
    "                'incorrect value for rmse_test_interact')"
   ]
  },
  {
   "cell_type": "markdown",
   "metadata": {},
   "source": [
    "### (5d) Use a pipeline to create the interaction model\n",
    "\n",
    "Our final step is to create the interaction model using a [Pipeline](http://spark.apache.org/docs/latest/api/python/pyspark.ml.html#pyspark.ml.Pipeline).  Note that Spark contains the [PolynomialExpansion](http://spark.apache.org/docs/latest/api/python/pyspark.ml.html#pyspark.ml.feature.PolynomialExpansion) transformer which will automatically generate interactions for us.  In this section, you'll need to generate the `PolynomialExpansion` transformer and set the stages for the `Pipeline` estimator.   Make sure to use a degree of 2 for `PolynomialExpansion`, set the input column appropriately, and set the output column to \"polyFeatures\".  The pipeline should contain two stages: the polynomial expansion and the linear regression."
   ]
  },
  {
   "cell_type": "code",
   "execution_count": 57,
   "metadata": {},
   "outputs": [
    {
     "data": {
      "text/plain": [
       "DataFrame[label: double, features: vector]"
      ]
     },
     "execution_count": 57,
     "metadata": {},
     "output_type": "execute_result"
    }
   ],
   "source": [
    "# Convert the test data frame\n",
    "parsed_test_data_df = convert_model_df(parsed_test_data_df)\n",
    "parsed_test_data_df.cache()"
   ]
  },
  {
   "cell_type": "code",
   "execution_count": 58,
   "metadata": {},
   "outputs": [
    {
     "name": "stdout",
     "output_type": "stream",
     "text": [
      "RMSE for test data set using pipelines: 15.073\n"
     ]
    }
   ],
   "source": [
    "# TODO: Replace <FILL IN> with appropriate code\n",
    "from pyspark.ml import Pipeline\n",
    "from pyspark.ml.feature import PolynomialExpansion\n",
    "\n",
    "num_iters = 500\n",
    "reg = 1e-10\n",
    "alpha = .2\n",
    "use_intercept = True\n",
    "\n",
    "polynomial_expansion = PolynomialExpansion(degree=2, inputCol='features', outputCol='polyFeatures')\n",
    "\n",
    "linear_regression = LinearRegression(maxIter=num_iters, regParam=reg, elasticNetParam=alpha,\n",
    "                                     fitIntercept=use_intercept, featuresCol='polyFeatures')\n",
    "\n",
    "pipeline = Pipeline(stages=[polynomial_expansion, linear_regression])\n",
    "\n",
    "pipeline_model = pipeline.fit(parsed_train_data_df)\n",
    "\n",
    "predictions_df = pipeline_model.transform(parsed_test_data_df)\n",
    "\n",
    "evaluator = RegressionEvaluator()\n",
    "\n",
    "rmse_test_pipeline = evaluator.evaluate(predictions_df, {evaluator.metricName: \"rmse\"})\n",
    "\n",
    "print('RMSE for test data set using pipelines: {0:.3f}'.format(rmse_test_pipeline))"
   ]
  },
  {
   "cell_type": "markdown",
   "metadata": {},
   "source": [
    "**Expected value**: `14.67520761192023`\\\n",
    "**my result**:      `15.07274947894262`\\\n",
    "**Difference**: `-0.39754186702239025`"
   ]
  },
  {
   "cell_type": "code",
   "execution_count": 59,
   "metadata": {},
   "outputs": [
    {
     "name": "stdout",
     "output_type": "stream",
     "text": [
      "1 test passed.\n"
     ]
    }
   ],
   "source": [
    "# TEST Use a pipeline to create the interaction model (5d)\n",
    "testmti850.Test.assertTrue(np.allclose(rmse_test_pipeline, 15.07274947894262),\n",
    "                'incorrect value for rmse_test_pipeline')"
   ]
  },
  {
   "cell_type": "markdown",
   "metadata": {},
   "source": [
    "### Notebook Ended"
   ]
  }
 ],
 "metadata": {
  "kernelspec": {
   "display_name": "Python 3",
   "language": "python",
   "name": "python3"
  },
  "language_info": {
   "codemirror_mode": {
    "name": "ipython",
    "version": 3
   },
   "file_extension": ".py",
   "mimetype": "text/x-python",
   "name": "python",
   "nbconvert_exporter": "python",
   "pygments_lexer": "ipython3",
   "version": "3.8.3"
  }
 },
 "nbformat": 4,
 "nbformat_minor": 4
}
