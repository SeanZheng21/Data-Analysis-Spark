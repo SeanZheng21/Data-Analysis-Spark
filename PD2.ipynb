{
 "cells": [
  {
   "cell_type": "markdown",
   "metadata": {},
   "source": [
    "# PD2: Web Server Log Analysis\n",
    "## MTI850 - Big Data Analytics\n",
    "### Fall 2020"
   ]
  },
  {
   "cell_type": "markdown",
   "metadata": {},
   "source": [
    "<br>\n",
    "<br>    \n",
    "    \n",
    "| Étudiant | Xiaoang Zheng ZHEX21029701                                   |\n",
    "|----------|---------------------------------------------------------|\n",
    "\n",
    "<br>\n",
    "<br>"
   ]
  },
  {
   "cell_type": "markdown",
   "metadata": {},
   "source": [
    "\n",
    "![Spark Logo](http://spark-mooc.github.io/web-assets/images/ta_Spark-logo-small.png)![Python Logo](http://spark-mooc.github.io/web-assets/images/python-logo-master-v3-TM-flattened_small.png)\n",
    " \n",
    "\n",
    "This assignment will show how easy it is to perform web server log analysis with Apache Spark.\n",
    "\n",
    "Server log analysis is an ideal use case for Spark. It's a very large, common data source and contains a rich set of information.  Spark allows you to store your logs in files on disk cheaply, while still providing a quick and simple way to perform data analysis on them.\n",
    "\n",
    "This assignment will show you how to use Apache Spark on real-world text-based production logs and fully harness the power of that data.\n",
    "\n",
    "Log data comes from many sources, such as web, file, and compute servers, application logs, user-generated content,  and can be used for monitoring servers, improving business and customer intelligence, building recommendation systems, fraud detection, and much more."
   ]
  },
  {
   "cell_type": "markdown",
   "metadata": {},
   "source": [
    "### How to complete this assignment\n",
    "This assignment is broken up into sections examples for demonstrating Spark functionality for log processing.\n",
    "\n",
    "It consists of 5 parts:\n",
    "* *Part 1*: Introduction and Imports\n",
    "* *Part 2*: Exploratory Data Analysis\n",
    "* *Part 3*: Analysis Walk-Through on the Web Server Log File\n",
    "* *Part 4*: Analyzing Web Server Log File\n",
    "* *Part 5*: Exploring 404 Response Codes"
   ]
  },
  {
   "cell_type": "markdown",
   "metadata": {},
   "source": [
    "## Part 1: Introduction and Imports"
   ]
  },
  {
   "cell_type": "code",
   "execution_count": 1,
   "metadata": {
    "scrolled": true
   },
   "outputs": [],
   "source": [
    "import findspark\n",
    "findspark.init()\n",
    "\n",
    "# Test module for MTI850\n",
    "import testmti850\n",
    "# Util module for MTI850\n",
    "import utilmti850\n",
    "\n",
    "import pyspark\n",
    "from pyspark.sql import SparkSession\n",
    "\n",
    "spark = SparkSession.builder \\\n",
    ".master(\"local\") \\\n",
    ".appName(\"Web Server Log Analysis\") \\\n",
    ".config(\"spark.some.config.option\", \"some-value\") \\\n",
    ".getOrCreate()"
   ]
  },
  {
   "cell_type": "markdown",
   "metadata": {},
   "source": [
    "### A note about DataFrame column references\n",
    "\n",
    "In Python, it's possible to access a DataFrame's columns either by attribute (`df.age`) or by indexing (`df['age']`). Referring to a column by attribute (`df.age`) is very Pandas-like, and it's highly convenient, especially when you're doing interactive data exploration. But it can fail, for reasons that aren't obvious. To observe this fact, uncomment the second line and run the next cell (after that, comment again the second line)."
   ]
  },
  {
   "cell_type": "code",
   "execution_count": 2,
   "metadata": {},
   "outputs": [],
   "source": [
    "throwaway_df = spark.createDataFrame([('Anthony', 10), ('Julia', 20), ('Fred', 5)], ('name', 'count'))\n",
    "\n",
    "# throwaway_df.select(throwaway_df.count).show() # This line does not work. Please comment it out later."
   ]
  },
  {
   "cell_type": "markdown",
   "metadata": {},
   "source": [
    "To understand why that failed, you have to understand how the attribute-column syntax is implemented.\n",
    "\n",
    "When you type `throwaway_df.count`, Python looks for an _existing_ attribute or method called `count` on the `throwaway_df` object. If it finds one, it uses it. Otherwise, it calls a special Python function (`__getattr__`), which defaults to throwing an exception. Spark has overridden `__getattr__` to look for a column on the DataFrame.\n",
    "\n",
    "**This means you can only use the attribute (dot) syntax to refer to a column if the DataFrame does not _already_ have an attribute with the column's name.**\n",
    "\n",
    "In the above example, there's already a `count()` method on the `DataFrame` class, so `throwaway_df.count` does not refer to our \"count\" column; instead, it refers to the `count()` _method_.\n",
    "\n",
    "To avoid this problem, you can refer to the column using subscript notation: `throwaway_df['count']`. This syntax will _always_ work."
   ]
  },
  {
   "cell_type": "code",
   "execution_count": 3,
   "metadata": {},
   "outputs": [
    {
     "name": "stdout",
     "output_type": "stream",
     "text": [
      "+-----+\n",
      "|count|\n",
      "+-----+\n",
      "|   10|\n",
      "|   20|\n",
      "|    5|\n",
      "+-----+\n",
      "\n"
     ]
    }
   ],
   "source": [
    "throwaway_df.select(throwaway_df['count']).show()"
   ]
  },
  {
   "cell_type": "markdown",
   "metadata": {},
   "source": [
    "### (1a) Library Imports\n",
    "\n",
    "\n",
    "We can import standard Python3 libraries ([modules](https://docs.python.org/3/tutorial/modules.html)) the usual way. An `import` statement will import the specified module.  In this assignment, we will provide any imports that are necessary.\n",
    "\n",
    "Let's import some of the libraries we'll need:\n",
    "\n",
    "* `re`: The regular expression library\n",
    "* `datetime`: Date and time functions"
   ]
  },
  {
   "cell_type": "code",
   "execution_count": 4,
   "metadata": {},
   "outputs": [],
   "source": [
    "import re\n",
    "import datetime"
   ]
  },
  {
   "cell_type": "code",
   "execution_count": 5,
   "metadata": {},
   "outputs": [
    {
     "data": {
      "text/plain": [
       "'def'"
      ]
     },
     "execution_count": 5,
     "metadata": {},
     "output_type": "execute_result"
    }
   ],
   "source": [
    "# Quick test of the regular expression library\n",
    "m = re.search('(?<=abc)def', 'abcdef')\n",
    "m.group(0)"
   ]
  },
  {
   "cell_type": "code",
   "execution_count": 6,
   "metadata": {},
   "outputs": [
    {
     "name": "stdout",
     "output_type": "stream",
     "text": [
      "This was last run on: 2020-09-23 23:48:32.312105\n"
     ]
    }
   ],
   "source": [
    "# Quick test of the datetime library\n",
    "print ('This was last run on: {0}'.format(datetime.datetime.now()))"
   ]
  },
  {
   "cell_type": "markdown",
   "metadata": {},
   "source": [
    "### (1b) Getting help\n",
    "\n",
    "Remember: There are some useful Python built-ins for getting help."
   ]
  },
  {
   "cell_type": "markdown",
   "metadata": {},
   "source": [
    "You can use Python's [dir()](https://docs.python.org/3/library/functions.html?highlight=dir#dir) function to get a list of all the attributes (including methods) accessible through the `spark` object."
   ]
  },
  {
   "cell_type": "code",
   "execution_count": 7,
   "metadata": {},
   "outputs": [
    {
     "data": {
      "text/plain": [
       "['Builder',\n",
       " '__class__',\n",
       " '__delattr__',\n",
       " '__dict__',\n",
       " '__dir__',\n",
       " '__doc__',\n",
       " '__enter__',\n",
       " '__eq__',\n",
       " '__exit__',\n",
       " '__format__',\n",
       " '__ge__',\n",
       " '__getattribute__',\n",
       " '__gt__',\n",
       " '__hash__',\n",
       " '__init__',\n",
       " '__init_subclass__',\n",
       " '__le__',\n",
       " '__lt__',\n",
       " '__module__',\n",
       " '__ne__',\n",
       " '__new__',\n",
       " '__reduce__',\n",
       " '__reduce_ex__',\n",
       " '__repr__',\n",
       " '__setattr__',\n",
       " '__sizeof__',\n",
       " '__str__',\n",
       " '__subclasshook__',\n",
       " '__weakref__',\n",
       " '_activeSession',\n",
       " '_convert_from_pandas',\n",
       " '_createFromLocal',\n",
       " '_createFromRDD',\n",
       " '_create_dataframe',\n",
       " '_create_from_pandas_with_arrow',\n",
       " '_create_shell_session',\n",
       " '_get_numpy_record_dtype',\n",
       " '_inferSchema',\n",
       " '_inferSchemaFromList',\n",
       " '_instantiatedSession',\n",
       " '_jsc',\n",
       " '_jsparkSession',\n",
       " '_jvm',\n",
       " '_jwrapped',\n",
       " '_repr_html_',\n",
       " '_sc',\n",
       " '_wrapped',\n",
       " 'builder',\n",
       " 'catalog',\n",
       " 'conf',\n",
       " 'createDataFrame',\n",
       " 'getActiveSession',\n",
       " 'newSession',\n",
       " 'range',\n",
       " 'read',\n",
       " 'readStream',\n",
       " 'sparkContext',\n",
       " 'sql',\n",
       " 'stop',\n",
       " 'streams',\n",
       " 'table',\n",
       " 'udf',\n",
       " 'version']"
      ]
     },
     "execution_count": 7,
     "metadata": {},
     "output_type": "execute_result"
    }
   ],
   "source": [
    "dir(spark)"
   ]
  },
  {
   "cell_type": "markdown",
   "metadata": {},
   "source": [
    "Alternatively, you can use Python's [help()](https://docs.python.org/3/library/functions.html?highlight=help#help) function to get an easier to read list of all the attributes, including examples, that the `spark` object has."
   ]
  },
  {
   "cell_type": "code",
   "execution_count": 8,
   "metadata": {},
   "outputs": [
    {
     "name": "stdout",
     "output_type": "stream",
     "text": [
      "Help on SparkSession in module pyspark.sql.session object:\n",
      "\n",
      "class SparkSession(pyspark.sql.pandas.conversion.SparkConversionMixin)\n",
      " |  SparkSession(sparkContext, jsparkSession=None)\n",
      " |  \n",
      " |  The entry point to programming Spark with the Dataset and DataFrame API.\n",
      " |  \n",
      " |  A SparkSession can be used create :class:`DataFrame`, register :class:`DataFrame` as\n",
      " |  tables, execute SQL over tables, cache tables, and read parquet files.\n",
      " |  To create a SparkSession, use the following builder pattern:\n",
      " |  \n",
      " |  >>> spark = SparkSession.builder \\\n",
      " |  ...     .master(\"local\") \\\n",
      " |  ...     .appName(\"Word Count\") \\\n",
      " |  ...     .config(\"spark.some.config.option\", \"some-value\") \\\n",
      " |  ...     .getOrCreate()\n",
      " |  \n",
      " |  .. autoattribute:: builder\n",
      " |     :annotation:\n",
      " |  \n",
      " |  Method resolution order:\n",
      " |      SparkSession\n",
      " |      pyspark.sql.pandas.conversion.SparkConversionMixin\n",
      " |      builtins.object\n",
      " |  \n",
      " |  Methods defined here:\n",
      " |  \n",
      " |  __enter__(self)\n",
      " |      Enable 'with SparkSession.builder.(...).getOrCreate() as session: app' syntax.\n",
      " |      \n",
      " |      .. versionadded:: 2.0\n",
      " |  \n",
      " |  __exit__(self, exc_type, exc_val, exc_tb)\n",
      " |      Enable 'with SparkSession.builder.(...).getOrCreate() as session: app' syntax.\n",
      " |      \n",
      " |      Specifically stop the SparkSession on exit of the with block.\n",
      " |      \n",
      " |      .. versionadded:: 2.0\n",
      " |  \n",
      " |  __init__(self, sparkContext, jsparkSession=None)\n",
      " |      Creates a new SparkSession.\n",
      " |      \n",
      " |      >>> from datetime import datetime\n",
      " |      >>> spark = SparkSession(sc)\n",
      " |      >>> allTypes = sc.parallelize([Row(i=1, s=\"string\", d=1.0, l=1,\n",
      " |      ...     b=True, list=[1, 2, 3], dict={\"s\": 0}, row=Row(a=1),\n",
      " |      ...     time=datetime(2014, 8, 1, 14, 1, 5))])\n",
      " |      >>> df = allTypes.toDF()\n",
      " |      >>> df.createOrReplaceTempView(\"allTypes\")\n",
      " |      >>> spark.sql('select i+1, d+1, not b, list[1], dict[\"s\"], time, row.a '\n",
      " |      ...            'from allTypes where b and i > 0').collect()\n",
      " |      [Row((i + CAST(1 AS BIGINT))=2, (d + CAST(1 AS DOUBLE))=2.0, (NOT b)=False, list[1]=2,             dict[s]=0, time=datetime.datetime(2014, 8, 1, 14, 1, 5), a=1)]\n",
      " |      >>> df.rdd.map(lambda x: (x.i, x.s, x.d, x.l, x.b, x.time, x.row.a, x.list)).collect()\n",
      " |      [(1, 'string', 1.0, 1, True, datetime.datetime(2014, 8, 1, 14, 1, 5), 1, [1, 2, 3])]\n",
      " |  \n",
      " |  createDataFrame(self, data, schema=None, samplingRatio=None, verifySchema=True)\n",
      " |      Creates a :class:`DataFrame` from an :class:`RDD`, a list or a :class:`pandas.DataFrame`.\n",
      " |      \n",
      " |      When ``schema`` is a list of column names, the type of each column\n",
      " |      will be inferred from ``data``.\n",
      " |      \n",
      " |      When ``schema`` is ``None``, it will try to infer the schema (column names and types)\n",
      " |      from ``data``, which should be an RDD of either :class:`Row`,\n",
      " |      :class:`namedtuple`, or :class:`dict`.\n",
      " |      \n",
      " |      When ``schema`` is :class:`pyspark.sql.types.DataType` or a datatype string, it must match\n",
      " |      the real data, or an exception will be thrown at runtime. If the given schema is not\n",
      " |      :class:`pyspark.sql.types.StructType`, it will be wrapped into a\n",
      " |      :class:`pyspark.sql.types.StructType` as its only field, and the field name will be \"value\".\n",
      " |      Each record will also be wrapped into a tuple, which can be converted to row later.\n",
      " |      \n",
      " |      If schema inference is needed, ``samplingRatio`` is used to determined the ratio of\n",
      " |      rows used for schema inference. The first row will be used if ``samplingRatio`` is ``None``.\n",
      " |      \n",
      " |      :param data: an RDD of any kind of SQL data representation (e.g. row, tuple, int, boolean,\n",
      " |          etc.), :class:`list`, or :class:`pandas.DataFrame`.\n",
      " |      :param schema: a :class:`pyspark.sql.types.DataType` or a datatype string or a list of\n",
      " |          column names, default is ``None``.  The data type string format equals to\n",
      " |          :class:`pyspark.sql.types.DataType.simpleString`, except that top level struct type can\n",
      " |          omit the ``struct<>`` and atomic types use ``typeName()`` as their format, e.g. use\n",
      " |          ``byte`` instead of ``tinyint`` for :class:`pyspark.sql.types.ByteType`. We can also use\n",
      " |          ``int`` as a short name for ``IntegerType``.\n",
      " |      :param samplingRatio: the sample ratio of rows used for inferring\n",
      " |      :param verifySchema: verify data types of every row against schema.\n",
      " |      :return: :class:`DataFrame`\n",
      " |      \n",
      " |      .. versionchanged:: 2.1\n",
      " |         Added verifySchema.\n",
      " |      \n",
      " |      .. note:: Usage with spark.sql.execution.arrow.pyspark.enabled=True is experimental.\n",
      " |      \n",
      " |      .. note:: When Arrow optimization is enabled, strings inside Pandas DataFrame in Python\n",
      " |          2 are converted into bytes as they are bytes in Python 2 whereas regular strings are\n",
      " |          left as strings. When using strings in Python 2, use unicode `u\"\"` as Python standard\n",
      " |          practice.\n",
      " |      \n",
      " |      >>> l = [('Alice', 1)]\n",
      " |      >>> spark.createDataFrame(l).collect()\n",
      " |      [Row(_1='Alice', _2=1)]\n",
      " |      >>> spark.createDataFrame(l, ['name', 'age']).collect()\n",
      " |      [Row(name='Alice', age=1)]\n",
      " |      \n",
      " |      >>> d = [{'name': 'Alice', 'age': 1}]\n",
      " |      >>> spark.createDataFrame(d).collect()\n",
      " |      [Row(age=1, name='Alice')]\n",
      " |      \n",
      " |      >>> rdd = sc.parallelize(l)\n",
      " |      >>> spark.createDataFrame(rdd).collect()\n",
      " |      [Row(_1='Alice', _2=1)]\n",
      " |      >>> df = spark.createDataFrame(rdd, ['name', 'age'])\n",
      " |      >>> df.collect()\n",
      " |      [Row(name='Alice', age=1)]\n",
      " |      \n",
      " |      >>> from pyspark.sql import Row\n",
      " |      >>> Person = Row('name', 'age')\n",
      " |      >>> person = rdd.map(lambda r: Person(*r))\n",
      " |      >>> df2 = spark.createDataFrame(person)\n",
      " |      >>> df2.collect()\n",
      " |      [Row(name='Alice', age=1)]\n",
      " |      \n",
      " |      >>> from pyspark.sql.types import *\n",
      " |      >>> schema = StructType([\n",
      " |      ...    StructField(\"name\", StringType(), True),\n",
      " |      ...    StructField(\"age\", IntegerType(), True)])\n",
      " |      >>> df3 = spark.createDataFrame(rdd, schema)\n",
      " |      >>> df3.collect()\n",
      " |      [Row(name='Alice', age=1)]\n",
      " |      \n",
      " |      >>> spark.createDataFrame(df.toPandas()).collect()  # doctest: +SKIP\n",
      " |      [Row(name='Alice', age=1)]\n",
      " |      >>> spark.createDataFrame(pandas.DataFrame([[1, 2]])).collect()  # doctest: +SKIP\n",
      " |      [Row(0=1, 1=2)]\n",
      " |      \n",
      " |      >>> spark.createDataFrame(rdd, \"a: string, b: int\").collect()\n",
      " |      [Row(a='Alice', b=1)]\n",
      " |      >>> rdd = rdd.map(lambda row: row[1])\n",
      " |      >>> spark.createDataFrame(rdd, \"int\").collect()\n",
      " |      [Row(value=1)]\n",
      " |      >>> spark.createDataFrame(rdd, \"boolean\").collect() # doctest: +IGNORE_EXCEPTION_DETAIL\n",
      " |      Traceback (most recent call last):\n",
      " |          ...\n",
      " |      Py4JJavaError: ...\n",
      " |      \n",
      " |      .. versionadded:: 2.0\n",
      " |  \n",
      " |  newSession(self)\n",
      " |      Returns a new SparkSession as new session, that has separate SQLConf,\n",
      " |      registered temporary views and UDFs, but shared SparkContext and\n",
      " |      table cache.\n",
      " |      \n",
      " |      .. versionadded:: 2.0\n",
      " |  \n",
      " |  range(self, start, end=None, step=1, numPartitions=None)\n",
      " |      Create a :class:`DataFrame` with single :class:`pyspark.sql.types.LongType` column named\n",
      " |      ``id``, containing elements in a range from ``start`` to ``end`` (exclusive) with\n",
      " |      step value ``step``.\n",
      " |      \n",
      " |      :param start: the start value\n",
      " |      :param end: the end value (exclusive)\n",
      " |      :param step: the incremental step (default: 1)\n",
      " |      :param numPartitions: the number of partitions of the DataFrame\n",
      " |      :return: :class:`DataFrame`\n",
      " |      \n",
      " |      >>> spark.range(1, 7, 2).collect()\n",
      " |      [Row(id=1), Row(id=3), Row(id=5)]\n",
      " |      \n",
      " |      If only one argument is specified, it will be used as the end value.\n",
      " |      \n",
      " |      >>> spark.range(3).collect()\n",
      " |      [Row(id=0), Row(id=1), Row(id=2)]\n",
      " |      \n",
      " |      .. versionadded:: 2.0\n",
      " |  \n",
      " |  sql(self, sqlQuery)\n",
      " |      Returns a :class:`DataFrame` representing the result of the given query.\n",
      " |      \n",
      " |      :return: :class:`DataFrame`\n",
      " |      \n",
      " |      >>> df.createOrReplaceTempView(\"table1\")\n",
      " |      >>> df2 = spark.sql(\"SELECT field1 AS f1, field2 as f2 from table1\")\n",
      " |      >>> df2.collect()\n",
      " |      [Row(f1=1, f2='row1'), Row(f1=2, f2='row2'), Row(f1=3, f2='row3')]\n",
      " |      \n",
      " |      .. versionadded:: 2.0\n",
      " |  \n",
      " |  stop(self)\n",
      " |      Stop the underlying :class:`SparkContext`.\n",
      " |      \n",
      " |      .. versionadded:: 2.0\n",
      " |  \n",
      " |  table(self, tableName)\n",
      " |      Returns the specified table as a :class:`DataFrame`.\n",
      " |      \n",
      " |      :return: :class:`DataFrame`\n",
      " |      \n",
      " |      >>> df.createOrReplaceTempView(\"table1\")\n",
      " |      >>> df2 = spark.table(\"table1\")\n",
      " |      >>> sorted(df.collect()) == sorted(df2.collect())\n",
      " |      True\n",
      " |      \n",
      " |      .. versionadded:: 2.0\n",
      " |  \n",
      " |  ----------------------------------------------------------------------\n",
      " |  Class methods defined here:\n",
      " |  \n",
      " |  getActiveSession() from builtins.type\n",
      " |      Returns the active SparkSession for the current thread, returned by the builder.\n",
      " |      >>> s = SparkSession.getActiveSession()\n",
      " |      >>> l = [('Alice', 1)]\n",
      " |      >>> rdd = s.sparkContext.parallelize(l)\n",
      " |      >>> df = s.createDataFrame(rdd, ['name', 'age'])\n",
      " |      >>> df.select(\"age\").collect()\n",
      " |      [Row(age=1)]\n",
      " |      \n",
      " |      .. versionadded:: 3.0\n",
      " |  \n",
      " |  ----------------------------------------------------------------------\n",
      " |  Readonly properties defined here:\n",
      " |  \n",
      " |  catalog\n",
      " |      Interface through which the user may create, drop, alter or query underlying\n",
      " |      databases, tables, functions, etc.\n",
      " |      \n",
      " |      :return: :class:`Catalog`\n",
      " |      \n",
      " |      .. versionadded:: 2.0\n",
      " |  \n",
      " |  conf\n",
      " |      Runtime configuration interface for Spark.\n",
      " |      \n",
      " |      This is the interface through which the user can get and set all Spark and Hadoop\n",
      " |      configurations that are relevant to Spark SQL. When getting the value of a config,\n",
      " |      this defaults to the value set in the underlying :class:`SparkContext`, if any.\n",
      " |      \n",
      " |      .. versionadded:: 2.0\n",
      " |  \n",
      " |  read\n",
      " |      Returns a :class:`DataFrameReader` that can be used to read data\n",
      " |      in as a :class:`DataFrame`.\n",
      " |      \n",
      " |      :return: :class:`DataFrameReader`\n",
      " |      \n",
      " |      .. versionadded:: 2.0\n",
      " |  \n",
      " |  readStream\n",
      " |      Returns a :class:`DataStreamReader` that can be used to read data streams\n",
      " |      as a streaming :class:`DataFrame`.\n",
      " |      \n",
      " |      .. note:: Evolving.\n",
      " |      \n",
      " |      :return: :class:`DataStreamReader`\n",
      " |      \n",
      " |      .. versionadded:: 2.0\n",
      " |  \n",
      " |  sparkContext\n",
      " |      Returns the underlying :class:`SparkContext`.\n",
      " |      \n",
      " |      .. versionadded:: 2.0\n",
      " |  \n",
      " |  streams\n",
      " |      Returns a :class:`StreamingQueryManager` that allows managing all the\n",
      " |      :class:`StreamingQuery` instances active on `this` context.\n",
      " |      \n",
      " |      .. note:: Evolving.\n",
      " |      \n",
      " |      :return: :class:`StreamingQueryManager`\n",
      " |      \n",
      " |      .. versionadded:: 2.0\n",
      " |  \n",
      " |  udf\n",
      " |      Returns a :class:`UDFRegistration` for UDF registration.\n",
      " |      \n",
      " |      :return: :class:`UDFRegistration`\n",
      " |      \n",
      " |      .. versionadded:: 2.0\n",
      " |  \n",
      " |  version\n",
      " |      The version of Spark on which this application is running.\n",
      " |      \n",
      " |      .. versionadded:: 2.0\n",
      " |  \n",
      " |  ----------------------------------------------------------------------\n",
      " |  Data and other attributes defined here:\n",
      " |  \n",
      " |  Builder = <class 'pyspark.sql.session.SparkSession.Builder'>\n",
      " |      Builder for :class:`SparkSession`.\n",
      " |  \n",
      " |  builder = <pyspark.sql.session.SparkSession.Builder object>\n",
      " |  \n",
      " |  ----------------------------------------------------------------------\n",
      " |  Data descriptors inherited from pyspark.sql.pandas.conversion.SparkConversionMixin:\n",
      " |  \n",
      " |  __dict__\n",
      " |      dictionary for instance variables (if defined)\n",
      " |  \n",
      " |  __weakref__\n",
      " |      list of weak references to the object (if defined)\n",
      "\n"
     ]
    }
   ],
   "source": [
    "# Use help to obtain more detailed information\n",
    "help(spark)"
   ]
  },
  {
   "cell_type": "code",
   "execution_count": 9,
   "metadata": {
    "scrolled": true
   },
   "outputs": [
    {
     "name": "stdout",
     "output_type": "stream",
     "text": [
      "Help on class map in module builtins:\n",
      "\n",
      "class map(object)\n",
      " |  map(func, *iterables) --> map object\n",
      " |  \n",
      " |  Make an iterator that computes the function using arguments from\n",
      " |  each of the iterables.  Stops when the shortest iterable is exhausted.\n",
      " |  \n",
      " |  Methods defined here:\n",
      " |  \n",
      " |  __getattribute__(self, name, /)\n",
      " |      Return getattr(self, name).\n",
      " |  \n",
      " |  __iter__(self, /)\n",
      " |      Implement iter(self).\n",
      " |  \n",
      " |  __next__(self, /)\n",
      " |      Implement next(self).\n",
      " |  \n",
      " |  __reduce__(...)\n",
      " |      Return state information for pickling.\n",
      " |  \n",
      " |  ----------------------------------------------------------------------\n",
      " |  Static methods defined here:\n",
      " |  \n",
      " |  __new__(*args, **kwargs) from builtins.type\n",
      " |      Create and return a new object.  See help(type) for accurate signature.\n",
      "\n",
      "Help on class Test in module testmti850:\n",
      "\n",
      "class Test(builtins.object)\n",
      " |  Class methods defined here:\n",
      " |  \n",
      " |  assertEquals(var, val, msg='') from builtins.type\n",
      " |  \n",
      " |  assertEqualsHashed(var, hashed_val, msg='') from builtins.type\n",
      " |  \n",
      " |  assertTrue(result, msg='') from builtins.type\n",
      " |  \n",
      " |  printStats() from builtins.type\n",
      " |  \n",
      " |  setFailFast() from builtins.type\n",
      " |  \n",
      " |  setPrivateMode() from builtins.type\n",
      " |  \n",
      " |  ----------------------------------------------------------------------\n",
      " |  Data descriptors defined here:\n",
      " |  \n",
      " |  __dict__\n",
      " |      dictionary for instance variables (if defined)\n",
      " |  \n",
      " |  __weakref__\n",
      " |      list of weak references to the object (if defined)\n",
      " |  \n",
      " |  ----------------------------------------------------------------------\n",
      " |  Data and other attributes defined here:\n",
      " |  \n",
      " |  failFast = False\n",
      " |  \n",
      " |  numTests = 0\n",
      " |  \n",
      " |  passed = 0\n",
      " |  \n",
      " |  private = False\n",
      "\n"
     ]
    }
   ],
   "source": [
    "# Help can be used on any Python object\n",
    "help(map)\n",
    "help(testmti850.Test)"
   ]
  },
  {
   "cell_type": "markdown",
   "metadata": {},
   "source": [
    "## Part 2: Exploratory Data Analysis\n",
    "\n",
    "Let's begin looking at our data.\n",
    "\n",
    "For this assignment, we will use a data set from NASA Kennedy Space Center web server in Florida.\n",
    "\n",
    "The full data set is freely available at <ftp://ita.ee.lbl.gov/html/contrib/NASA-HTTP.html>, and it contains all HTTP requests for two months.\n",
    "\n",
    "We are using a subset that only contains several days' worth of requests. To download the log and put it into HDFS, run the following commands in a terminal:\n",
    "\n",
    "```\n",
    "wget ftp://ita.ee.lbl.gov/traces/NASA_access_log_Aug95.gz\n",
    "gunzip NASA_access_log_Aug95.gz\n",
    "hdfs dfs -put NASA_access_log_Aug95 /NASA_access_log_Aug95.txt\n",
    "```\n",
    "\n"
   ]
  },
  {
   "cell_type": "markdown",
   "metadata": {},
   "source": [
    "### (2a) Loading the log file\n",
    "\n",
    "Now that we have the path to the file, let's load it into a DataFrame. We'll do this in steps. First, we'll use `spark.read.text()` to read the text file. This will produce a DataFrame with a single string column called `value`."
   ]
  },
  {
   "cell_type": "code",
   "execution_count": 10,
   "metadata": {
    "scrolled": true
   },
   "outputs": [
    {
     "name": "stdout",
     "output_type": "stream",
     "text": [
      "root\n",
      " |-- value: string (nullable = true)\n",
      "\n"
     ]
    }
   ],
   "source": [
    "log_filename = \"./Nasa_access_log_Aug95.txt\"\n",
    "base_df = spark.read.text(log_filename)\n",
    "\n",
    "# Let's look at the schema\n",
    "base_df.printSchema()"
   ]
  },
  {
   "cell_type": "markdown",
   "metadata": {},
   "source": [
    "Let's take a look at some of the data."
   ]
  },
  {
   "cell_type": "code",
   "execution_count": 11,
   "metadata": {
    "scrolled": true
   },
   "outputs": [
    {
     "name": "stdout",
     "output_type": "stream",
     "text": [
      "+-------------------------------------------------------------------------------------------------------------------------------+\n",
      "|value                                                                                                                          |\n",
      "+-------------------------------------------------------------------------------------------------------------------------------+\n",
      "|in24.inetnebr.com - - [01/Aug/1995:00:00:01 -0400] \"GET /shuttle/missions/sts-68/news/sts-68-mcc-05.txt HTTP/1.0\" 200 1839     |\n",
      "|uplherc.upl.com - - [01/Aug/1995:00:00:07 -0400] \"GET / HTTP/1.0\" 304 0                                                        |\n",
      "|uplherc.upl.com - - [01/Aug/1995:00:00:08 -0400] \"GET /images/ksclogo-medium.gif HTTP/1.0\" 304 0                               |\n",
      "|uplherc.upl.com - - [01/Aug/1995:00:00:08 -0400] \"GET /images/MOSAIC-logosmall.gif HTTP/1.0\" 304 0                             |\n",
      "|uplherc.upl.com - - [01/Aug/1995:00:00:08 -0400] \"GET /images/USA-logosmall.gif HTTP/1.0\" 304 0                                |\n",
      "|ix-esc-ca2-07.ix.netcom.com - - [01/Aug/1995:00:00:09 -0400] \"GET /images/launch-logo.gif HTTP/1.0\" 200 1713                   |\n",
      "|uplherc.upl.com - - [01/Aug/1995:00:00:10 -0400] \"GET /images/WORLD-logosmall.gif HTTP/1.0\" 304 0                              |\n",
      "|slppp6.intermind.net - - [01/Aug/1995:00:00:10 -0400] \"GET /history/skylab/skylab.html HTTP/1.0\" 200 1687                      |\n",
      "|piweba4y.prodigy.com - - [01/Aug/1995:00:00:10 -0400] \"GET /images/launchmedium.gif HTTP/1.0\" 200 11853                        |\n",
      "|slppp6.intermind.net - - [01/Aug/1995:00:00:11 -0400] \"GET /history/skylab/skylab-small.gif HTTP/1.0\" 200 9202                 |\n",
      "|slppp6.intermind.net - - [01/Aug/1995:00:00:12 -0400] \"GET /images/ksclogosmall.gif HTTP/1.0\" 200 3635                         |\n",
      "|ix-esc-ca2-07.ix.netcom.com - - [01/Aug/1995:00:00:12 -0400] \"GET /history/apollo/images/apollo-logo1.gif HTTP/1.0\" 200 1173   |\n",
      "|slppp6.intermind.net - - [01/Aug/1995:00:00:13 -0400] \"GET /history/apollo/images/apollo-logo.gif HTTP/1.0\" 200 3047           |\n",
      "|uplherc.upl.com - - [01/Aug/1995:00:00:14 -0400] \"GET /images/NASA-logosmall.gif HTTP/1.0\" 304 0                               |\n",
      "|133.43.96.45 - - [01/Aug/1995:00:00:16 -0400] \"GET /shuttle/missions/sts-69/mission-sts-69.html HTTP/1.0\" 200 10566            |\n",
      "|kgtyk4.kj.yamagata-u.ac.jp - - [01/Aug/1995:00:00:17 -0400] \"GET / HTTP/1.0\" 200 7280                                          |\n",
      "|kgtyk4.kj.yamagata-u.ac.jp - - [01/Aug/1995:00:00:18 -0400] \"GET /images/ksclogo-medium.gif HTTP/1.0\" 200 5866                 |\n",
      "|d0ucr6.fnal.gov - - [01/Aug/1995:00:00:19 -0400] \"GET /history/apollo/apollo-16/apollo-16.html HTTP/1.0\" 200 2743              |\n",
      "|ix-esc-ca2-07.ix.netcom.com - - [01/Aug/1995:00:00:19 -0400] \"GET /shuttle/resources/orbiters/discovery.html HTTP/1.0\" 200 6849|\n",
      "|d0ucr6.fnal.gov - - [01/Aug/1995:00:00:20 -0400] \"GET /history/apollo/apollo-16/apollo-16-patch-small.gif HTTP/1.0\" 200 14897  |\n",
      "+-------------------------------------------------------------------------------------------------------------------------------+\n",
      "only showing top 20 rows\n",
      "\n"
     ]
    }
   ],
   "source": [
    "base_df.show(truncate=False) "
   ]
  },
  {
   "cell_type": "markdown",
   "metadata": {},
   "source": [
    "### (2b) Parsing the log file\n",
    "\n",
    "If you're familiar with web servers at all, you'll recognize that this is in [Common Log Format](https://www.w3.org/Daemon/User/Config/Logging.html#common-logfile-format). The fields are:\n",
    "\n",
    "_remotehost rfc931 authuser [date] \"request\" status bytes_\n",
    "\n",
    "| field         | meaning                                                                |\n",
    "| ------------- | ---------------------------------------------------------------------- |\n",
    "| _remotehost_  | Remote hostname (or IP number if DNS hostname is not available).       |\n",
    "| _rfc931_      | The remote logname of the user. We don't really care about this field. |\n",
    "| _authuser_    | The username of the remote user, as authenticated by the HTTP server.  |\n",
    "| _[date]_      | The date and time of the request.                                      |\n",
    "| _\"request\"_   | The request, exactly as it came from the browser or client.            |\n",
    "| _status_      | The HTTP status code the server sent back to the client.               |\n",
    "| _bytes_       | The number of bytes (`Content-Length`) transferred to the client.      |\n",
    "\n",
    "\n",
    "Next, we have to parse it into individual columns. We'll use the special built-in [regexp\\_extract()](http://spark.apache.org/docs/latest/api/python/pyspark.sql.html#pyspark.sql.functions.regexp_extract)\n",
    "function to do the parsing. This function matches a column against a regular expression with one or more [capture groups](http://regexone.com/lesson/capturing_groups) and allows you to extract one of the matched groups. We'll use one regular expression for each field we wish to extract.\n",
    "\n",
    "If you can't read these regular expressions, don't worry. Trust us: They work. If you find regular expressions confusing (and they certainly _can_ be), and you want to learn more about them, start with the\n",
    "[RegexOne web site](http://regexone.com/). You might also find [_Regular Expressions Cookbook_](http://shop.oreilly.com/product/0636920023630.do), by Jan Goyvaerts and Steven Levithan, to be helpful.\n",
    "\n",
    "_Some people, when confronted with a problem, think \"I know, I'll use regular expressions.\" Now they have two problems._ (attributed to Jamie Zawinski)"
   ]
  },
  {
   "cell_type": "code",
   "execution_count": 12,
   "metadata": {},
   "outputs": [
    {
     "name": "stdout",
     "output_type": "stream",
     "text": [
      "+----------------------------+--------------------------+---------------------------------------------------+------+------------+\n",
      "|host                        |timestamp                 |path                                               |status|content_size|\n",
      "+----------------------------+--------------------------+---------------------------------------------------+------+------------+\n",
      "|in24.inetnebr.com           |01/Aug/1995:00:00:01 -0400|/shuttle/missions/sts-68/news/sts-68-mcc-05.txt    |200   |1839        |\n",
      "|uplherc.upl.com             |01/Aug/1995:00:00:07 -0400|/                                                  |304   |0           |\n",
      "|uplherc.upl.com             |01/Aug/1995:00:00:08 -0400|/images/ksclogo-medium.gif                         |304   |0           |\n",
      "|uplherc.upl.com             |01/Aug/1995:00:00:08 -0400|/images/MOSAIC-logosmall.gif                       |304   |0           |\n",
      "|uplherc.upl.com             |01/Aug/1995:00:00:08 -0400|/images/USA-logosmall.gif                          |304   |0           |\n",
      "|ix-esc-ca2-07.ix.netcom.com |01/Aug/1995:00:00:09 -0400|/images/launch-logo.gif                            |200   |1713        |\n",
      "|uplherc.upl.com             |01/Aug/1995:00:00:10 -0400|/images/WORLD-logosmall.gif                        |304   |0           |\n",
      "|slppp6.intermind.net        |01/Aug/1995:00:00:10 -0400|/history/skylab/skylab.html                        |200   |1687        |\n",
      "|piweba4y.prodigy.com        |01/Aug/1995:00:00:10 -0400|/images/launchmedium.gif                           |200   |11853       |\n",
      "|slppp6.intermind.net        |01/Aug/1995:00:00:11 -0400|/history/skylab/skylab-small.gif                   |200   |9202        |\n",
      "|slppp6.intermind.net        |01/Aug/1995:00:00:12 -0400|/images/ksclogosmall.gif                           |200   |3635        |\n",
      "|ix-esc-ca2-07.ix.netcom.com |01/Aug/1995:00:00:12 -0400|/history/apollo/images/apollo-logo1.gif            |200   |1173        |\n",
      "|slppp6.intermind.net        |01/Aug/1995:00:00:13 -0400|/history/apollo/images/apollo-logo.gif             |200   |3047        |\n",
      "|uplherc.upl.com             |01/Aug/1995:00:00:14 -0400|/images/NASA-logosmall.gif                         |304   |0           |\n",
      "|133.43.96.45                |01/Aug/1995:00:00:16 -0400|/shuttle/missions/sts-69/mission-sts-69.html       |200   |10566       |\n",
      "|kgtyk4.kj.yamagata-u.ac.jp  |01/Aug/1995:00:00:17 -0400|/                                                  |200   |7280        |\n",
      "|kgtyk4.kj.yamagata-u.ac.jp  |01/Aug/1995:00:00:18 -0400|/images/ksclogo-medium.gif                         |200   |5866        |\n",
      "|d0ucr6.fnal.gov             |01/Aug/1995:00:00:19 -0400|/history/apollo/apollo-16/apollo-16.html           |200   |2743        |\n",
      "|ix-esc-ca2-07.ix.netcom.com |01/Aug/1995:00:00:19 -0400|/shuttle/resources/orbiters/discovery.html         |200   |6849        |\n",
      "|d0ucr6.fnal.gov             |01/Aug/1995:00:00:20 -0400|/history/apollo/apollo-16/apollo-16-patch-small.gif|200   |14897       |\n",
      "+----------------------------+--------------------------+---------------------------------------------------+------+------------+\n",
      "only showing top 20 rows\n",
      "\n"
     ]
    }
   ],
   "source": [
    "from pyspark.sql.functions import split, regexp_extract\n",
    "\n",
    "split_df = base_df.select(regexp_extract('value', r'^([^\\s]+\\s)', 1).alias('host'),\n",
    "                          regexp_extract('value', r'^.*\\[(\\d\\d/\\w{3}/\\d{4}:\\d{2}:\\d{2}:\\d{2} -\\d{4})]', 1).alias('timestamp'),\n",
    "                          regexp_extract('value', r'^.*\"\\w+\\s+([^\\s]+)\\s+HTTP.*\"', 1).alias('path'),\n",
    "                          regexp_extract('value', r'^.*\"\\s+([^\\s]+)', 1).cast('integer').alias('status'),\n",
    "                          regexp_extract('value', r'^.*\\s+(\\d+)$', 1).cast('integer').alias('content_size'))\n",
    "\n",
    "split_df.show(truncate=False)"
   ]
  },
  {
   "cell_type": "markdown",
   "metadata": {},
   "source": [
    "### (2c) Data Cleaning\n",
    "\n",
    "Let's see how well our parsing logic worked. First, let's verify that there are no null rows in the original data set."
   ]
  },
  {
   "cell_type": "code",
   "execution_count": 13,
   "metadata": {
    "scrolled": true
   },
   "outputs": [
    {
     "data": {
      "text/plain": [
       "0"
      ]
     },
     "execution_count": 13,
     "metadata": {},
     "output_type": "execute_result"
    }
   ],
   "source": [
    "base_df.filter(base_df['value'].isNull()).count()"
   ]
  },
  {
   "cell_type": "markdown",
   "metadata": {},
   "source": [
    "If our parsing worked properly, we'll have no rows with null column values. Let's check."
   ]
  },
  {
   "cell_type": "code",
   "execution_count": 14,
   "metadata": {
    "scrolled": true
   },
   "outputs": [
    {
     "data": {
      "text/plain": [
       "14178"
      ]
     },
     "execution_count": 14,
     "metadata": {},
     "output_type": "execute_result"
    }
   ],
   "source": [
    "bad_rows_df = split_df.filter(split_df['host'].isNull() |\n",
    "                              split_df['timestamp'].isNull() |\n",
    "                              split_df['path'].isNull() |\n",
    "                              split_df['status'].isNull() |\n",
    "                             split_df['content_size'].isNull())\n",
    "\n",
    "bad_rows_df.count()"
   ]
  },
  {
   "cell_type": "markdown",
   "metadata": {},
   "source": [
    "Not good. We have some null values. Something went wrong. Which columns are affected?\n",
    "\n",
    "(Note: This approach is adapted from an [excellent answer](http://stackoverflow.com/a/33901312) on StackOverflow.)"
   ]
  },
  {
   "cell_type": "code",
   "execution_count": 15,
   "metadata": {
    "scrolled": true
   },
   "outputs": [
    {
     "name": "stdout",
     "output_type": "stream",
     "text": [
      "+----+---------+----+------+------------+\n",
      "|host|timestamp|path|status|content_size|\n",
      "+----+---------+----+------+------------+\n",
      "|   0|        0|   0|     0|       14178|\n",
      "+----+---------+----+------+------------+\n",
      "\n"
     ]
    }
   ],
   "source": [
    "from pyspark.sql.functions import col, sum\n",
    "\n",
    "def count_null(col_name):\n",
    "    return sum(col(col_name).isNull().cast('integer')).alias(col_name)\n",
    "\n",
    "# Build up a list of column expressions, one per column.\n",
    "#\n",
    "# This could be done in one line with a Python list comprehension, but we're keeping\n",
    "# it simple for those who don't know Python very well.\n",
    "exprs = []\n",
    "for col_name in split_df.columns:\n",
    "    exprs.append(count_null(col_name))\n",
    "\n",
    "# Run the aggregation. The *exprs converts the list of expressions into\n",
    "# variable function arguments.\n",
    "split_df.agg(*exprs).show() # aggregate on the entire DataFrame (split_df) without groups using the column expressions"
   ]
  },
  {
   "cell_type": "markdown",
   "metadata": {},
   "source": [
    "Okay, they're all in the `content_size` column. Let's see if we can figure out what's wrong. Our original parsing regular expression for that column was:\n",
    "\n",
    "```\n",
    "regexp_extract('value', r'^.*\\s+(\\d+)$', 1).cast('integer').alias('content_size')\n",
    "```\n",
    "\n",
    "The `\\d+` selects one or more digits at the end of the input line. Is it possible there are lines without a valid content size? Or is there something wrong with our regular expression? Let's see if there are any lines that do not end with one or more digits.\n",
    "\n",
    "**Note**: In the expression below, `~` means \"not\"."
   ]
  },
  {
   "cell_type": "code",
   "execution_count": 16,
   "metadata": {
    "scrolled": true
   },
   "outputs": [
    {
     "data": {
      "text/plain": [
       "14178"
      ]
     },
     "execution_count": 16,
     "metadata": {},
     "output_type": "execute_result"
    }
   ],
   "source": [
    "bad_content_size_df = base_df.filter(~ base_df['value'].rlike(r'\\d+$')) # base_df is the dataframe with the raw log (before split)\n",
    "\n",
    "bad_content_size_df.count()"
   ]
  },
  {
   "cell_type": "markdown",
   "metadata": {},
   "source": [
    "That's it! The count matches the number of rows in `bad_rows_df` exactly.\n",
    "\n",
    "Let's take a look at some of the bad column values. Since it's possible that the rows end in extra white space, we'll tack a marker character onto the end of each line, to make it easier to see trailing white space."
   ]
  },
  {
   "cell_type": "code",
   "execution_count": 17,
   "metadata": {},
   "outputs": [
    {
     "name": "stdout",
     "output_type": "stream",
     "text": [
      "+----------------------------------------------------------------------------------------------------------------------------+\n",
      "|concat(value, *)                                                                                                            |\n",
      "+----------------------------------------------------------------------------------------------------------------------------+\n",
      "|gw1.att.com - - [01/Aug/1995:00:03:53 -0400] \"GET /shuttle/missions/sts-73/news HTTP/1.0\" 302 -*                            |\n",
      "|js002.cc.utsunomiya-u.ac.jp - - [01/Aug/1995:00:07:33 -0400] \"GET /shuttle/resources/orbiters/discovery.gif HTTP/1.0\" 404 -*|\n",
      "|tia1.eskimo.com - - [01/Aug/1995:00:28:41 -0400] \"GET /pub/winvn/release.txt HTTP/1.0\" 404 -*                               |\n",
      "|itws.info.eng.niigata-u.ac.jp - - [01/Aug/1995:00:38:01 -0400] \"GET /ksc.html/facts/about_ksc.html HTTP/1.0\" 403 -*         |\n",
      "|grimnet23.idirect.com - - [01/Aug/1995:00:50:12 -0400] \"GET /www/software/winvn/winvn.html HTTP/1.0\" 404 -*                 |\n",
      "|miriworld.its.unimelb.edu.au - - [01/Aug/1995:01:04:54 -0400] \"GET /history/history.htm HTTP/1.0\" 404 -*                    |\n",
      "|ras38.srv.net - - [01/Aug/1995:01:05:14 -0400] \"GET /elv/DELTA/uncons.htm HTTP/1.0\" 404 -*                                  |\n",
      "|cs1-06.leh.ptd.net - - [01/Aug/1995:01:17:38 -0400] \"GET /sts-71/launch/\" 404 -*                                            |\n",
      "|www-b2.proxy.aol.com - - [01/Aug/1995:01:22:07 -0400] \"GET /shuttle/countdown HTTP/1.0\" 302 -*                              |\n",
      "|maui56.maui.net - - [01/Aug/1995:01:31:56 -0400] \"GET /shuttle HTTP/1.0\" 302 -*                                             |\n",
      "|dialip-24.athenet.net - - [01/Aug/1995:01:33:02 -0400] \"GET /history/apollo/apollo-13.html HTTP/1.0\" 404 -*                 |\n",
      "|h96-158.ccnet.com - - [01/Aug/1995:01:35:50 -0400] \"GET /history/apollo/a-001/a-001-patch-small.gif HTTP/1.0\" 404 -*        |\n",
      "|h96-158.ccnet.com - - [01/Aug/1995:01:36:23 -0400] \"GET /history/apollo/a-001/movies/ HTTP/1.0\" 404 -*                      |\n",
      "|h96-158.ccnet.com - - [01/Aug/1995:01:36:30 -0400] \"GET /history/apollo/a-001/a-001-patch-small.gif HTTP/1.0\" 404 -*        |\n",
      "|h96-158.ccnet.com - - [01/Aug/1995:01:36:38 -0400] \"GET /history/apollo/a-001/movies/ HTTP/1.0\" 404 -*                      |\n",
      "|h96-158.ccnet.com - - [01/Aug/1995:01:36:42 -0400] \"GET /history/apollo/a-001/a-001-patch-small.gif HTTP/1.0\" 404 -*        |\n",
      "|h96-158.ccnet.com - - [01/Aug/1995:01:36:44 -0400] \"GET /history/apollo/a-001/images/ HTTP/1.0\" 404 -*                      |\n",
      "|h96-158.ccnet.com - - [01/Aug/1995:01:36:47 -0400] \"GET /history/apollo/a-001/a-001-patch-small.gif HTTP/1.0\" 404 -*        |\n",
      "|h96-158.ccnet.com - - [01/Aug/1995:01:37:04 -0400] \"GET /history/apollo/a-004/a-004-patch-small.gif HTTP/1.0\" 404 -*        |\n",
      "|h96-158.ccnet.com - - [01/Aug/1995:01:37:05 -0400] \"GET /history/apollo/a-004/movies/ HTTP/1.0\" 404 -*                      |\n",
      "+----------------------------------------------------------------------------------------------------------------------------+\n",
      "only showing top 20 rows\n",
      "\n"
     ]
    }
   ],
   "source": [
    "from pyspark.sql.functions import lit, concat\n",
    "\n",
    "bad_content_size_df.select(concat(bad_content_size_df['value'], lit('*'))).show(truncate=False)"
   ]
  },
  {
   "cell_type": "markdown",
   "metadata": {},
   "source": [
    "Ah. The bad rows correspond to error results, where no content was sent back and the server emitted a \"`-`\" for the `content_size` field. Since we don't want to discard those rows from our analysis, let's map them to 0."
   ]
  },
  {
   "cell_type": "markdown",
   "metadata": {},
   "source": [
    "### (2d) Fix the rows with null content\\_size\n",
    "\n",
    "The easiest solution is to replace the null values in `split_df` with 0. The DataFrame API provides a set of functions and fields specifically designed for working with null values, among them:\n",
    "\n",
    "* [fillna()](http://spark.apache.org/docs/latest/api/python/pyspark.sql.html#pyspark.sql.DataFrame.fillna), which fills null values with specified non-null values.\n",
    "* [na](http://spark.apache.org/docs/latest/api/python/pyspark.sql.html#pyspark.sql.DataFrame.na), which returns a [DataFrameNaFunctions](http://spark.apache.org/docs/latest/api/python/pyspark.sql.html#pyspark.sql.DataFrameNaFunctions) object with many functions for operating on null columns.\n",
    "\n",
    "We'll use `fillna()`, because it's simple. There are several ways to invoke this function. The easiest is just to replace _all_ null columns with known values. But, for safety, it's better to pass a Python dictionary containing (column\\_name, value) mappings. That's what we'll do."
   ]
  },
  {
   "cell_type": "code",
   "execution_count": 18,
   "metadata": {},
   "outputs": [],
   "source": [
    "# Replace all null content_size values with 0.\n",
    "\n",
    "cleaned_df = split_df.fillna({'content_size': 0}) # in fact, fillna() is an alias for na.fill()"
   ]
  },
  {
   "cell_type": "markdown",
   "metadata": {},
   "source": [
    "Now, let us ensure that there are no nulls left."
   ]
  },
  {
   "cell_type": "code",
   "execution_count": 19,
   "metadata": {},
   "outputs": [
    {
     "name": "stdout",
     "output_type": "stream",
     "text": [
      "+----+---------+----+------+------------+\n",
      "|host|timestamp|path|status|content_size|\n",
      "+----+---------+----+------+------------+\n",
      "|   0|        0|   0|     0|           0|\n",
      "+----+---------+----+------+------------+\n",
      "\n"
     ]
    }
   ],
   "source": [
    "exprs = []\n",
    "for col_name in cleaned_df.columns:\n",
    "  exprs.append(count_null(col_name))\n",
    "\n",
    "cleaned_df.agg(*exprs).show()"
   ]
  },
  {
   "cell_type": "markdown",
   "metadata": {},
   "source": [
    "### (2e) Parsing the timestamp.\n",
    "\n",
    "Okay, now that we have a clean, parsed DataFrame, we have to parse the timestamp field into an actual timestamp. The Common Log Format time is somewhat non-standard. A User-Defined Function ([UDF](http://spark.apache.org/docs/latest/api/python/pyspark.sql.html#pyspark.sql.UDFRegistration.register)) is the most straightforward way to parse it."
   ]
  },
  {
   "cell_type": "code",
   "execution_count": 20,
   "metadata": {
    "scrolled": true
   },
   "outputs": [
    {
     "name": "stdout",
     "output_type": "stream",
     "text": [
      "+--------------------+--------------------+------+------------+-------------------+\n",
      "|                host|                path|status|content_size|               time|\n",
      "+--------------------+--------------------+------+------------+-------------------+\n",
      "|  in24.inetnebr.com |/shuttle/missions...|   200|        1839|1995-08-01 00:00:01|\n",
      "|    uplherc.upl.com |                   /|   304|           0|1995-08-01 00:00:07|\n",
      "|    uplherc.upl.com |/images/ksclogo-m...|   304|           0|1995-08-01 00:00:08|\n",
      "|    uplherc.upl.com |/images/MOSAIC-lo...|   304|           0|1995-08-01 00:00:08|\n",
      "|    uplherc.upl.com |/images/USA-logos...|   304|           0|1995-08-01 00:00:08|\n",
      "|ix-esc-ca2-07.ix....|/images/launch-lo...|   200|        1713|1995-08-01 00:00:09|\n",
      "|    uplherc.upl.com |/images/WORLD-log...|   304|           0|1995-08-01 00:00:10|\n",
      "|slppp6.intermind....|/history/skylab/s...|   200|        1687|1995-08-01 00:00:10|\n",
      "|piweba4y.prodigy....|/images/launchmed...|   200|       11853|1995-08-01 00:00:10|\n",
      "|slppp6.intermind....|/history/skylab/s...|   200|        9202|1995-08-01 00:00:11|\n",
      "|slppp6.intermind....|/images/ksclogosm...|   200|        3635|1995-08-01 00:00:12|\n",
      "|ix-esc-ca2-07.ix....|/history/apollo/i...|   200|        1173|1995-08-01 00:00:12|\n",
      "|slppp6.intermind....|/history/apollo/i...|   200|        3047|1995-08-01 00:00:13|\n",
      "|    uplherc.upl.com |/images/NASA-logo...|   304|           0|1995-08-01 00:00:14|\n",
      "|       133.43.96.45 |/shuttle/missions...|   200|       10566|1995-08-01 00:00:16|\n",
      "|kgtyk4.kj.yamagat...|                   /|   200|        7280|1995-08-01 00:00:17|\n",
      "|kgtyk4.kj.yamagat...|/images/ksclogo-m...|   200|        5866|1995-08-01 00:00:18|\n",
      "|    d0ucr6.fnal.gov |/history/apollo/a...|   200|        2743|1995-08-01 00:00:19|\n",
      "|ix-esc-ca2-07.ix....|/shuttle/resource...|   200|        6849|1995-08-01 00:00:19|\n",
      "|    d0ucr6.fnal.gov |/history/apollo/a...|   200|       14897|1995-08-01 00:00:20|\n",
      "+--------------------+--------------------+------+------------+-------------------+\n",
      "only showing top 20 rows\n",
      "\n"
     ]
    }
   ],
   "source": [
    "month_map = {\n",
    "  'Jan': 1, 'Feb': 2, 'Mar':3, 'Apr':4, 'May':5, 'Jun':6, 'Jul':7,\n",
    "  'Aug':8,  'Sep': 9, 'Oct':10, 'Nov': 11, 'Dec': 12\n",
    "}\n",
    "\n",
    "def parse_clf_time(s):\n",
    "    \"\"\" Convert Common Log time format into a Python datetime object\n",
    "    Args:\n",
    "        s (str): date and time in Apache time format [dd/mmm/yyyy:hh:mm:ss (+/-)zzzz]\n",
    "    Returns:\n",
    "        a string suitable for passing to CAST('timestamp')\n",
    "    \"\"\"\n",
    "    # NOTE: We're ignoring time zone here. In a production application, you'd want to handle that.\n",
    "    return \"{0:04d}-{1:02d}-{2:02d} {3:02d}:{4:02d}:{5:02d}\".format(\n",
    "      int(s[7:11]),\n",
    "      month_map[s[3:6]],\n",
    "      int(s[0:2]),\n",
    "      int(s[12:14]),\n",
    "      int(s[15:17]),\n",
    "      int(s[18:20])\n",
    "    )\n",
    "\n",
    "u_parse_time = spark.udf.register('parse_clf_time', parse_clf_time) # register the UDF\n",
    "\n",
    "# sequence of operations: select all columns, add a new one (time), and remove the timestamp column\n",
    "logs_df = cleaned_df.select('*', u_parse_time(cleaned_df['timestamp']).cast('timestamp').alias('time')).drop('timestamp')\n",
    "\n",
    "total_log_entries = logs_df.count() # keep the total of log entries for future operations\n",
    "\n",
    "logs_df.show()"
   ]
  },
  {
   "cell_type": "code",
   "execution_count": 21,
   "metadata": {},
   "outputs": [
    {
     "name": "stdout",
     "output_type": "stream",
     "text": [
      "root\n",
      " |-- host: string (nullable = true)\n",
      " |-- path: string (nullable = true)\n",
      " |-- status: integer (nullable = true)\n",
      " |-- content_size: integer (nullable = false)\n",
      " |-- time: timestamp (nullable = true)\n",
      "\n"
     ]
    }
   ],
   "source": [
    "logs_df.printSchema()"
   ]
  },
  {
   "cell_type": "code",
   "execution_count": 22,
   "metadata": {},
   "outputs": [
    {
     "data": {
      "text/plain": [
       "DataFrame[host: string, path: string, status: int, content_size: int, time: timestamp]"
      ]
     },
     "metadata": {},
     "output_type": "display_data"
    }
   ],
   "source": [
    "display(logs_df)"
   ]
  },
  {
   "cell_type": "markdown",
   "metadata": {},
   "source": [
    "Let's cache `logs_df`. We're going to be using it quite a bit from here forward."
   ]
  },
  {
   "cell_type": "code",
   "execution_count": 23,
   "metadata": {},
   "outputs": [
    {
     "data": {
      "text/plain": [
       "DataFrame[host: string, path: string, status: int, content_size: int, time: timestamp]"
      ]
     },
     "execution_count": 23,
     "metadata": {},
     "output_type": "execute_result"
    }
   ],
   "source": [
    "logs_df.cache()"
   ]
  },
  {
   "cell_type": "markdown",
   "metadata": {
    "scrolled": true
   },
   "source": [
    "## Part 3: Analysis Walk-Through on the Web Server Log File\n",
    "\n",
    "Now that we have a DataFrame containing the parsed log file as a set of Row objects, we can perform various analyses.\n",
    "\n",
    "### (3a) Example: Content Size Statistics\n",
    "\n",
    "Let's compute some statistics about the sizes of content being returned by the web server. In particular, we'd like to know what are the average, minimum, and maximum content sizes.\n",
    "\n",
    "We can compute the statistics by calling `.describe()` on the `content_size` column of `logs_df`.  The `.describe()` function returns the count, mean, stddev, min, and max of a given column."
   ]
  },
  {
   "cell_type": "code",
   "execution_count": 24,
   "metadata": {
    "scrolled": true
   },
   "outputs": [
    {
     "name": "stdout",
     "output_type": "stream",
     "text": [
      "+-------+------------------+\n",
      "|summary|      content_size|\n",
      "+-------+------------------+\n",
      "|  count|           1569898|\n",
      "|   mean|17089.225812122826|\n",
      "| stddev|  67954.7639215694|\n",
      "|    min|                 0|\n",
      "|    max|           3421948|\n",
      "+-------+------------------+\n",
      "\n"
     ]
    }
   ],
   "source": [
    "# Calculate statistics based on the content size.\n",
    "\n",
    "content_size_summary_df = logs_df.describe(['content_size'])\n",
    "\n",
    "content_size_summary_df.show()"
   ]
  },
  {
   "cell_type": "markdown",
   "metadata": {},
   "source": [
    "Alternatively, we can use SQL to directly calculate these statistics.  You can explore the many useful functions within the `pyspark.sql.functions` module in the [documentation](https://spark.apache.org/docs/latest/api/python/pyspark.sql.html#module-pyspark.sql.functions).\n",
    "\n",
    "After we apply the `.agg()` function, we call `.first()` to extract the first value, which is equivalent to `.take(1)[0]`."
   ]
  },
  {
   "cell_type": "code",
   "execution_count": 25,
   "metadata": {
    "scrolled": true
   },
   "outputs": [
    {
     "name": "stdout",
     "output_type": "stream",
     "text": [
      "Using SQL functions:\n",
      "Content Size Avg: 17,089.23; Min: 0.00; Max: 3,421,948\n"
     ]
    }
   ],
   "source": [
    "import pyspark.sql.functions as sqlFunctions\n",
    "\n",
    "content_size_stats =  (logs_df\n",
    "                       .agg(sqlFunctions.min(logs_df['content_size']),\n",
    "                            sqlFunctions.avg(logs_df['content_size']),\n",
    "                            sqlFunctions.max(logs_df['content_size']))\n",
    "                       .first())\n",
    "\n",
    "print('Using SQL functions:')\n",
    "print('Content Size Avg: {1:,.2f}; Min: {0:.2f}; Max: {2:,.0f}'.format(*content_size_stats))"
   ]
  },
  {
   "cell_type": "markdown",
   "metadata": {},
   "source": [
    "### (3b) Example: HTTP Status Analysis\n",
    "\n",
    "Next, let's look at the status values that appear in the log. We want to know which status values appear in the data and how many times.  We again start with `logs_df`, then group by the `status` column, apply the `.count()` aggregation function, and sort by the `status` column."
   ]
  },
  {
   "cell_type": "code",
   "execution_count": 26,
   "metadata": {
    "scrolled": true
   },
   "outputs": [
    {
     "name": "stdout",
     "output_type": "stream",
     "text": [
      "Found 8 response codes\n",
      "+------+-------+\n",
      "|status|  count|\n",
      "+------+-------+\n",
      "|   200|1398988|\n",
      "|   302|  26497|\n",
      "|   304| 134146|\n",
      "|   400|     10|\n",
      "|   403|    171|\n",
      "|   404|  10056|\n",
      "|   500|      3|\n",
      "|   501|     27|\n",
      "+------+-------+\n",
      "\n"
     ]
    }
   ],
   "source": [
    "status_to_count_df =(logs_df\n",
    "                     .groupBy('status')\n",
    "                     .count()\n",
    "                     .sort('status')\n",
    "                     .cache())\n",
    "\n",
    "status_to_count_length = status_to_count_df.count()\n",
    "\n",
    "print ('Found %d response codes' % status_to_count_length)\n",
    "\n",
    "status_to_count_df.show()\n",
    "\n",
    "assert status_to_count_length == 8\n",
    "assert status_to_count_df.take(100) == [(200, 1398988), (302, 26497), (304, 134146), (400, 10), (403, 171), (404, 10056), (500, 3), (501, 27)]"
   ]
  },
  {
   "cell_type": "markdown",
   "metadata": {},
   "source": [
    "### (3c) Example: Status Graphing\n",
    "\n",
    "Now, let's visualize the results from the last example. We can convert the original pyspark dataframe into a [Pandas](https://pandas.pydata.org/) dataframe and then use the plot functionality. See the next cell for an example."
   ]
  },
  {
   "cell_type": "code",
   "execution_count": 27,
   "metadata": {
    "scrolled": false
   },
   "outputs": [
    {
     "data": {
      "text/plain": [
       "<matplotlib.axes._subplots.AxesSubplot at 0x7fbe46c73b20>"
      ]
     },
     "execution_count": 27,
     "metadata": {},
     "output_type": "execute_result"
    },
    {
     "data": {
      "image/png": "[encoded data removed]",
      "text/plain": [
       "<Figure size 432x288 with 1 Axes>"
      ]
     },
     "metadata": {
      "needs_background": "light"
     },
     "output_type": "display_data"
    }
   ],
   "source": [
    "status_to_count_df_pd = status_to_count_df.toPandas()\n",
    "\n",
    "status_to_count_df_pd.plot.bar(x='status', y='count')"
   ]
  },
  {
   "cell_type": "markdown",
   "metadata": {},
   "source": [
    "You can see that this is not a very effective plot.  Due to the large number of '200' codes, it is very hard to see the relative number of the others.  We can alleviate this by taking the logarithm of the count, adding that as a column to our DataFrame and displaying the result."
   ]
  },
  {
   "cell_type": "code",
   "execution_count": 28,
   "metadata": {},
   "outputs": [
    {
     "data": {
      "text/plain": [
       "<matplotlib.axes._subplots.AxesSubplot at 0x7fbe463cec10>"
      ]
     },
     "execution_count": 28,
     "metadata": {},
     "output_type": "execute_result"
    },
    {
     "data": {
      "image/png": "[encoded data removed]",
      "text/plain": [
       "<Figure size 432x288 with 1 Axes>"
      ]
     },
     "metadata": {
      "needs_background": "light"
     },
     "output_type": "display_data"
    }
   ],
   "source": [
    "log_status_to_count_df = status_to_count_df.withColumn('log(count)', sqlFunctions.log(status_to_count_df['count']))\n",
    "\n",
    "log_status_to_count_df_pd = log_status_to_count_df.toPandas()\n",
    "\n",
    "log_status_to_count_df_pd.plot.bar(x='status', y='log(count)')"
   ]
  },
  {
   "cell_type": "markdown",
   "metadata": {},
   "source": [
    "While this graph is an improvement, we might want to make more adjustments. The [`matplotlib`](http://matplotlib.org/) library can give us more control in our plot. In this case, we're essentially just reproducing the Pandas graph using `matplotlib`. However, `matplotlib` exposes far more controls than the Pandas graph, allowing you to change colors, label the axes, and more.\n",
    "\n",
    "We're using the \"Set1\" color map. See the list of Qualitative Color Maps at <http://matplotlib.org/examples/color/colormaps_reference.html> for more details. Feel free to change the color map to a different one, like \"Accent\"."
   ]
  },
  {
   "cell_type": "code",
   "execution_count": 29,
   "metadata": {
    "scrolled": true
   },
   "outputs": [
    {
     "data": {
      "image/png": "[encoded data removed]",
      "text/plain": [
       "<Figure size 432x288 with 1 Axes>"
      ]
     },
     "metadata": {
      "needs_background": "light"
     },
     "output_type": "display_data"
    }
   ],
   "source": [
    "import numpy as np\n",
    "import matplotlib.pyplot as plt\n",
    "\n",
    "data = log_status_to_count_df.drop('count').collect()\n",
    "x, y = zip(*data) # split status (x) and count (y)\n",
    "index = np.arange(len(x))\n",
    "bar_width = 0.7\n",
    "colorMap = 'Set1'\n",
    "cmap = plt.cm.get_cmap(colorMap)\n",
    "\n",
    "fig, ax = plt.subplots(nrows=1, ncols=1)\n",
    "plt.bar(index, y, width=bar_width, color=cmap(0))\n",
    "plt.xticks(ticks=index, labels=x) # set markers (ticks) and the respective labels in the x-axis\n",
    "plt.yticks(ticks=np.arange(0, 15, 2))\n",
    "plt.xlabel('status')\n",
    "plt.ylabel('log(count)')\n",
    "plt.title('Status graph')\n",
    "plt.show()"
   ]
  },
  {
   "cell_type": "markdown",
   "metadata": {},
   "source": [
    "### (3d) Example: Frequent Hosts\n",
    "\n",
    "Let's look at hosts that have accessed the server frequently (e.g., more than ten times). As with the response code analysis in (3b), we create a new DataFrame by grouping `logs_df` by the 'host' column and aggregating by count.\n",
    "\n",
    "We then filter the result based on the count of accesses by each host being greater than ten.  Then, we select the 'host' column and show 20 elements from the result."
   ]
  },
  {
   "cell_type": "code",
   "execution_count": 30,
   "metadata": {
    "scrolled": true
   },
   "outputs": [
    {
     "name": "stdout",
     "output_type": "stream",
     "text": [
      "Any 20 hosts that have accessed more then 10 times:\n",
      "\n",
      "+-------------------------------+\n",
      "|host                           |\n",
      "+-------------------------------+\n",
      "|prakinf2.prakinf.tu-ilmenau.de |\n",
      "|alpha2.csd.uwm.edu             |\n",
      "|cjc07992.slip.digex.net        |\n",
      "|n1377004.ksc.nasa.gov          |\n",
      "|163.205.2.134                  |\n",
      "|huge.oso.chalmers.se           |\n",
      "|163.205.44.27                  |\n",
      "|shark.ksc.nasa.gov             |\n",
      "|etc5.etechcorp.com             |\n",
      "|dd07-029.compuserve.com        |\n",
      "|131.182.101.161                |\n",
      "|134.95.100.201                 |\n",
      "|vab08.larc.nasa.gov            |\n",
      "|ip11.iac.net                   |\n",
      "|ad11-012.compuserve.com        |\n",
      "|ad053.du.pipex.com             |\n",
      "|204.184.6.19                   |\n",
      "|p8.denver1.dialup.csn.net      |\n",
      "|gate2.gdc.com                  |\n",
      "|alcott.acsu.buffalo.edu        |\n",
      "+-------------------------------+\n",
      "only showing top 20 rows\n",
      "\n"
     ]
    }
   ],
   "source": [
    "# Any hosts that has accessed the server more than 10 times.\n",
    "host_sum_df =(logs_df\n",
    "              .groupBy('host')\n",
    "              .count())\n",
    "\n",
    "host_more_than_10_df = (host_sum_df\n",
    "                        .filter(host_sum_df['count'] > 10)\n",
    "                        .select(host_sum_df['host'])) # select only the host column\n",
    "\n",
    "print ('Any 20 hosts that have accessed more then 10 times:\\n')\n",
    "\n",
    "host_more_than_10_df.show(truncate=False)"
   ]
  },
  {
   "cell_type": "markdown",
   "metadata": {},
   "source": [
    "### (3e) Example: Visualizing Paths\n",
    "\n",
    "Now, let's visualize the number of hits to paths (URIs) in the log. To perform this task, we start with our `logs_df` and group by the `path` column, aggregate by count, and sort in descending order.\n",
    "\n",
    "Next we visualize the results using `matplotlib`. We extract the paths and the counts, and unpack the resulting list of `Rows` using a `map` function and `lambda` expression."
   ]
  },
  {
   "cell_type": "code",
   "execution_count": 31,
   "metadata": {
    "scrolled": true
   },
   "outputs": [
    {
     "data": {
      "image/png": "[encoded data removed]",
      "text/plain": [
       "<Figure size 432x288 with 1 Axes>"
      ]
     },
     "metadata": {
      "needs_background": "light"
     },
     "output_type": "display_data"
    }
   ],
   "source": [
    "paths_df = (logs_df\n",
    "            .groupBy('path')\n",
    "            .count()\n",
    "            .sort('count', ascending=False)) # two-column dataframe\n",
    "\n",
    "paths_counts = (paths_df\n",
    "                .select('path', 'count') # in this case, it is similar to '*'\n",
    "                .rdd.map(lambda r: (r[0], r[1]))\n",
    "                .collect())\n",
    "\n",
    "paths, counts = zip(*paths_counts)\n",
    "\n",
    "colorMap = 'Accent'\n",
    "cmap = plt.cm.get_cmap(colorMap)\n",
    "\n",
    "num_points= 1000\n",
    "index = np.arange(num_points)\n",
    "y = counts[:num_points]\n",
    "\n",
    "fig, ax = plt.subplots(nrows=1, ncols=1)#prepareSubplot(np.arange(0, 6, 1), np.arange(0, 14, 2))\n",
    "plt.plot(index, counts[:1000], color=cmap(0), linewidth=3)\n",
    "\n",
    "plt.xticks(ticks=np.arange(0, 1001, 100)) # set markers (ticks) and the respective labels in the x-axis\n",
    "plt.yticks(ticks=np.arange(0, 100001, 10000))\n",
    "plt.xlabel('Paths')\n",
    "plt.ylabel('Number of Hits')\n",
    "plt.title('Visualizing paths')\n",
    "\n",
    "plt.axhline(linewidth=2, color='#999999') # horizontal gray line (y=0)\n",
    "plt.show()"
   ]
  },
  {
   "cell_type": "markdown",
   "metadata": {},
   "source": [
    "### (3f) Example: Top Paths\n",
    "\n",
    "For the final example, we'll find the top paths (URIs) in the log.  Because we sorted `paths_df` for plotting, all we need to do is call `.show()` and pass in `n=10` and `truncate=False` as the parameters to show the top ten paths without truncating."
   ]
  },
  {
   "cell_type": "code",
   "execution_count": 32,
   "metadata": {},
   "outputs": [
    {
     "name": "stdout",
     "output_type": "stream",
     "text": [
      "Top Ten Paths:\n",
      "+---------------------------------------+-----+\n",
      "|path                                   |count|\n",
      "+---------------------------------------+-----+\n",
      "|/images/NASA-logosmall.gif             |97275|\n",
      "|/images/KSC-logosmall.gif              |75283|\n",
      "|/images/MOSAIC-logosmall.gif           |67356|\n",
      "|/images/USA-logosmall.gif              |66975|\n",
      "|/images/WORLD-logosmall.gif            |66351|\n",
      "|/images/ksclogo-medium.gif             |62670|\n",
      "|/ksc.html                              |43618|\n",
      "|/history/apollo/images/apollo-logo1.gif|37806|\n",
      "|/images/launch-logo.gif                |35119|\n",
      "|/                                      |30105|\n",
      "+---------------------------------------+-----+\n",
      "only showing top 10 rows\n",
      "\n",
      "1 test passed.\n"
     ]
    }
   ],
   "source": [
    "# Top Paths\n",
    "print ('Top Ten Paths:')\n",
    "paths_df.show(n=10, truncate=False)\n",
    "\n",
    "expected = [\n",
    "  (u'/images/NASA-logosmall.gif', 97275),\n",
    "  (u'/images/KSC-logosmall.gif', 75283),\n",
    "  (u'/images/MOSAIC-logosmall.gif', 67356),\n",
    "  (u'/images/USA-logosmall.gif', 66975),\n",
    "  (u'/images/WORLD-logosmall.gif', 66351),\n",
    "  (u'/images/ksclogo-medium.gif', 62670),\n",
    "  (u'/ksc.html', 43618),\n",
    "  (u'/history/apollo/images/apollo-logo1.gif', 37806),\n",
    "  (u'/images/launch-logo.gif', 35119),\n",
    "  (u'/', 30105)\n",
    "]\n",
    "\n",
    "testmti850.Test.assertEquals(paths_df.take(10), expected, 'incorrect Top Ten Paths')"
   ]
  },
  {
   "cell_type": "markdown",
   "metadata": {},
   "source": [
    "## Part 4: Analyzing Web Server Log File\n",
    "\n",
    "### Now it is your turn to perform analyses on the web server log files."
   ]
  },
  {
   "cell_type": "markdown",
   "metadata": {
    "scrolled": true
   },
   "source": [
    "**(4a) Exercise: Top Ten Error Paths**\n",
    "\n",
    "What are the top ten paths which did not have return code 200? Create a sorted list containing the paths and the number of times that they were accessed with a non-200 return code and show the top ten.\n",
    "\n",
    "Think about the steps that you need to perform to determine which paths did not have a 200 return code, how you will uniquely count those paths and sort the list."
   ]
  },
  {
   "cell_type": "code",
   "execution_count": 33,
   "metadata": {},
   "outputs": [
    {
     "name": "stdout",
     "output_type": "stream",
     "text": [
      "Top Ten failed URLs:\n",
      "+----------------------------------------+-----+\n",
      "|path                                    |count|\n",
      "+----------------------------------------+-----+\n",
      "|/images/NASA-logosmall.gif              |19072|\n",
      "|/images/KSC-logosmall.gif               |11328|\n",
      "|/images/MOSAIC-logosmall.gif            |8617 |\n",
      "|/images/USA-logosmall.gif               |8565 |\n",
      "|/images/WORLD-logosmall.gif             |8360 |\n",
      "|/images/ksclogo-medium.gif              |7722 |\n",
      "|/history/apollo/images/apollo-logo1.gif |4355 |\n",
      "|/shuttle/countdown/images/countclock.gif|4227 |\n",
      "|/images/launch-logo.gif                 |4178 |\n",
      "|/                                       |3605 |\n",
      "+----------------------------------------+-----+\n",
      "only showing top 10 rows\n",
      "\n",
      "9991\n"
     ]
    }
   ],
   "source": [
    "# TODO: Replace <FILL IN> with appropriate code\n",
    "\n",
    "# You are welcome to structure your solution in a different way, so long as\n",
    "# you ensure the variables used in the next Test section are defined\n",
    "\n",
    "# DataFrame containing all accesses that did not return a code 200\n",
    "not200DF = logs_df.filter(logs_df['status'] != 200)\n",
    "\n",
    "# Sorted DataFrame containing all paths and the number of times they were accessed with non-200 return code\n",
    "logs_sum_df = (not200DF\n",
    "                .groupBy('path')\n",
    "                .count()\n",
    "                .sort('count', ascending=False))\n",
    "\n",
    "print ('Top Ten failed URLs:')\n",
    "logs_sum_df.show(n=10, truncate=False)\n",
    "\n",
    "print(logs_sum_df.count())"
   ]
  },
  {
   "cell_type": "code",
   "execution_count": 34,
   "metadata": {},
   "outputs": [
    {
     "name": "stdout",
     "output_type": "stream",
     "text": [
      "1 test passed.\n",
      "1 test passed.\n"
     ]
    }
   ],
   "source": [
    "# TEST Top ten error paths (4a)\n",
    "top_10_err_urls = [(row[0], row[1]) for row in logs_sum_df.take(10)]\n",
    "top_10_err_expected = [\n",
    "  (u'/images/NASA-logosmall.gif', 19072),\n",
    "  (u'/images/KSC-logosmall.gif', 11328),\n",
    "  (u'/images/MOSAIC-logosmall.gif', 8617),\n",
    "  (u'/images/USA-logosmall.gif', 8565),\n",
    "  (u'/images/WORLD-logosmall.gif', 8360),\n",
    "  (u'/images/ksclogo-medium.gif', 7722),\n",
    "  (u'/history/apollo/images/apollo-logo1.gif', 4355),\n",
    "  (u'/shuttle/countdown/images/countclock.gif', 4227), \n",
    "  (u'/images/launch-logo.gif', 4178),\n",
    "  (u'/', 3605)\n",
    "]\n",
    "testmti850.Test.assertEquals(logs_sum_df.count(), 9991, 'incorrect count for logs_sum_df')\n",
    "testmti850.Test.assertEquals(top_10_err_urls, top_10_err_expected, 'incorrect Top Ten failed URLs')"
   ]
  },
  {
   "cell_type": "markdown",
   "metadata": {
    "scrolled": true
   },
   "source": [
    "### (4b) Exercise: Number of Unique Hosts\n",
    "\n",
    "How many unique hosts are there in the entire log?\n",
    "\n",
    "There are multiple ways to find this. Try to find a more optimal way than grouping by 'host'."
   ]
  },
  {
   "cell_type": "code",
   "execution_count": 35,
   "metadata": {},
   "outputs": [
    {
     "name": "stdout",
     "output_type": "stream",
     "text": [
      "Unique hosts: 75060\n"
     ]
    }
   ],
   "source": [
    "# TODO: Replace <FILL IN> with appropriate code\n",
    "\n",
    "unique_host_count = (logs_df\n",
    "                     .groupBy('host')\n",
    "                     .count()\n",
    "                     .count())\n",
    "\n",
    "print ('Unique hosts: {0}'.format(unique_host_count))"
   ]
  },
  {
   "cell_type": "code",
   "execution_count": 36,
   "metadata": {},
   "outputs": [
    {
     "name": "stdout",
     "output_type": "stream",
     "text": [
      "1 test passed.\n"
     ]
    }
   ],
   "source": [
    "# TEST Number of unique hosts (4b)\n",
    "testmti850.Test.assertEquals(unique_host_count, 75060, 'incorrect unique_host_count')"
   ]
  },
  {
   "cell_type": "markdown",
   "metadata": {},
   "source": [
    "### (4c) Exercise: Number of Unique Daily Hosts\n",
    "\n",
    "For an advanced exercise, let's determine the number of unique hosts in the entire log on a day-by-day basis. This computation will give us counts of the number of unique daily hosts. We'd like a DataFrame sorted by increasing day of the month which includes the day of the month and the associated number of unique hosts for that day. Make sure you cache the resulting DataFrame `daily_hosts_df` so that we can reuse it in the next exercise.\n",
    "\n",
    "Think about the steps that you need to perform to count the number of different hosts that make requests *each* day.\n",
    "*Since the log only covers a single month, you can ignore the month.*  You may want to use the [`dayofmonth`](https://spark.apache.org/docs/latest/api/python/pyspark.sql.html#pyspark.sql.functions.dayofmonth) function in the `pyspark.sql.functions` module.\n",
    "\n",
    "**Description of each variable**\n",
    "\n",
    "**`day_to_host_pair_df`**\n",
    "\n",
    "A DataFrame with two columns\n",
    "\n",
    "| column | explanation          |\n",
    "| ------ | -------------------- |\n",
    "| `host` | the host name        |\n",
    "| `day`  | the day of the month |\n",
    "\n",
    "There will be one row in this DataFrame for each row in `logs_df`. Essentially, you're just trimming and transforming each row of `logs_df`. For example, for this row in `logs_df`:\n",
    "\n",
    "```\n",
    "gw1.att.com - - [23/Aug/1995:00:03:53 -0400] \"GET /shuttle/missions/sts-73/news HTTP/1.0\" 302 -\n",
    "```\n",
    "\n",
    "your `day_to_host_pair_df` should have:\n",
    "\n",
    "```\n",
    "gw1.att.com 23\n",
    "```\n",
    "\n",
    "**`day_group_hosts_df`**\n",
    "\n",
    "This DataFrame has the same columns as `day_to_host_pair_df`, but with duplicate (`day`, `host`) rows removed.\n",
    "\n",
    "**`daily_hosts_df`**\n",
    "\n",
    "A DataFrame with two columns:\n",
    "\n",
    "| column  | explanation                                        |\n",
    "| ------- | -------------------------------------------------- |\n",
    "| `day`   | the day of the month                               |\n",
    "| `count` | the number of unique requesting hosts for that day |"
   ]
  },
  {
   "cell_type": "code",
   "execution_count": 37,
   "metadata": {},
   "outputs": [
    {
     "name": "stdout",
     "output_type": "stream",
     "text": [
      "Unique hosts per day:\n",
      "+---+-----+\n",
      "|day|count|\n",
      "+---+-----+\n",
      "|1  |2582 |\n",
      "|3  |3222 |\n",
      "|4  |4191 |\n",
      "|5  |2502 |\n",
      "|6  |2538 |\n",
      "|7  |4108 |\n",
      "|8  |4406 |\n",
      "|9  |4317 |\n",
      "|10 |4523 |\n",
      "|11 |4346 |\n",
      "|12 |2865 |\n",
      "|13 |2650 |\n",
      "|14 |4454 |\n",
      "|15 |4214 |\n",
      "|16 |4340 |\n",
      "|17 |4385 |\n",
      "|18 |4168 |\n",
      "|19 |2550 |\n",
      "|20 |2560 |\n",
      "|21 |4135 |\n",
      "|22 |4456 |\n",
      "|23 |4368 |\n",
      "|24 |4077 |\n",
      "|25 |4407 |\n",
      "|26 |2644 |\n",
      "|27 |2690 |\n",
      "|28 |4215 |\n",
      "|29 |4826 |\n",
      "|30 |5266 |\n",
      "|31 |5916 |\n",
      "+---+-----+\n",
      "\n"
     ]
    }
   ],
   "source": [
    "# TODO: Replace <FILL IN> with appropriate code\n",
    "\n",
    "from pyspark.sql.functions import dayofmonth\n",
    "\n",
    "day_to_host_pair_df = logs_df.select(logs_df['host'], dayofmonth(logs_df['time']).alias('day'))\n",
    "\n",
    "day_group_hosts_df = day_to_host_pair_df.groupBy(day_to_host_pair_df['day'], day_to_host_pair_df['host']).count()\n",
    "\n",
    "daily_hosts_df = (day_group_hosts_df\n",
    "                      .groupBy('day')\n",
    "                      .count()\n",
    "                      .sort('day', ascending=True))\n",
    "daily_hosts_df.cache()\n",
    "\n",
    "print ('Unique hosts per day:')\n",
    "\n",
    "daily_hosts_df.show(n=30, truncate=False)"
   ]
  },
  {
   "cell_type": "code",
   "execution_count": 38,
   "metadata": {},
   "outputs": [
    {
     "name": "stdout",
     "output_type": "stream",
     "text": [
      "1 test passed.\n",
      "1 test passed.\n",
      "1 test passed.\n",
      "1 test passed.\n"
     ]
    }
   ],
   "source": [
    "# TEST Number of unique daily hosts (4c)\n",
    "daily_hosts_list = (daily_hosts_df\n",
    "                    .rdd.map(lambda r: (r[0], r[1]))\n",
    "                    .take(30))\n",
    "daily_hosts_list_expected = [(1, 2582), (3, 3222), (4, 4191), (5, 2502), (6, 2538), (7, 4108),\n",
    "                            (8, 4406), (9, 4317), (10, 4523), (11, 4346), (12, 2865), (13, 2650),\n",
    "                            (14, 4454), (15, 4214), (16, 4340), (17, 4385), (18, 4168), (19, 2550),\n",
    "                            (20, 2560), (21, 4135), (22, 4456), (23, 4368), (24, 4077), (25, 4407),\n",
    "                            (26, 2644), (27, 2690), (28, 4215), (29, 4826), (30, 5266), (31, 5916)]\n",
    "testmti850.Test.assertEquals(day_to_host_pair_df.count(), total_log_entries, 'incorrect row count for day_to_host_pair_df')\n",
    "testmti850.Test.assertEquals(daily_hosts_df.count(), 30, 'incorrect daily_hosts_df.count()')\n",
    "testmti850.Test.assertEquals(daily_hosts_list, daily_hosts_list_expected, 'incorrect daily_hosts_df')\n",
    "testmti850.Test.assertTrue(daily_hosts_df.is_cached, 'incorrect daily_hosts_df.is_cached')"
   ]
  },
  {
   "cell_type": "markdown",
   "metadata": {},
   "source": [
    "### (4d) Exercise: Visualizing the Number of Unique Daily Hosts\n",
    "\n",
    "Using the results from the previous exercise, we will use `matplotlib` to plot a line graph of the unique hosts requests by day.  We need a list of days called `days_with_hosts` and a list of the number of unique hosts for each corresponding day called `hosts`.\n",
    "\n",
    "**WARNING**: Simply calling `collect()` on your transformed DataFrame won't work, because `collect()` returns a list of Spark SQL `Row` objects. You must _extract_ the appropriate column values from the `Row` objects. Hint: A loop will help."
   ]
  },
  {
   "cell_type": "code",
   "execution_count": 39,
   "metadata": {
    "scrolled": true
   },
   "outputs": [
    {
     "name": "stdout",
     "output_type": "stream",
     "text": [
      "[1, 3, 4, 5, 6, 7, 8, 9, 10, 11, 12, 13, 14, 15, 16, 17, 18, 19, 20, 21, 22, 23, 24, 25, 26, 27, 28, 29, 30, 31]\n",
      "[2582, 3222, 4191, 2502, 2538, 4108, 4406, 4317, 4523, 4346, 2865, 2650, 4454, 4214, 4340, 4385, 4168, 2550, 2560, 4135, 4456, 4368, 4077, 4407, 2644, 2690, 4215, 4826, 5266, 5916]\n"
     ]
    }
   ],
   "source": [
    "# TODO: Replace <FILL IN> with appropriate code\n",
    "\n",
    "# Use toPandas()??????\n",
    "# days_with_hosts = (list(daily_hosts_df\n",
    "#                    .select(daily_hosts_df['day'])\n",
    "#                     .toPandas()['day']))\n",
    "\n",
    "days_with_hosts = []\n",
    "for elt in daily_hosts_df.select(daily_hosts_df['day']).collect():\n",
    "      days_with_hosts.append(elt[0])\n",
    "\n",
    "hosts = []\n",
    "\n",
    "for elt in daily_hosts_df.select(daily_hosts_df['count']).collect():\n",
    "      hosts.append(elt[0])\n",
    "\n",
    "print(days_with_hosts)\n",
    "print(hosts)"
   ]
  },
  {
   "cell_type": "code",
   "execution_count": 40,
   "metadata": {},
   "outputs": [
    {
     "name": "stdout",
     "output_type": "stream",
     "text": [
      "1 test passed.\n",
      "1 test passed.\n"
     ]
    }
   ],
   "source": [
    "# TEST Visualizing unique daily hosts (4d)\n",
    "days_with_hosts_expected = list(range(1, 32))\n",
    "days_with_hosts_expected.remove(2)\n",
    " \n",
    "hosts_expected= [2582, 3222, 4191, 2502, 2538, 4108, 4406, 4317, 4523, 4346, 2865, 2650, 4454, 4214, 4340, 4385, 4168, 2550, 2560, 4135, 4456, 4368, 4077, 4407, 2644, 2690, 4215, 4826, 5266, 5916]\n",
    "\n",
    "testmti850.Test.assertEquals(days_with_hosts, days_with_hosts_expected, 'incorrect days')\n",
    "testmti850.Test.assertEquals(hosts, hosts_expected, 'incorrect hosts')"
   ]
  },
  {
   "cell_type": "code",
   "execution_count": 41,
   "metadata": {},
   "outputs": [
    {
     "data": {
      "image/png": "[encoded data removed]",
      "text/plain": [
       "<Figure size 432x288 with 1 Axes>"
      ]
     },
     "metadata": {
      "needs_background": "light"
     },
     "output_type": "display_data"
    }
   ],
   "source": [
    "fig, ax = plt.subplots(nrows=1, ncols=1)\n",
    "\n",
    "plt.xticks(ticks=np.arange(1, max(days_with_hosts) + 5, 5))\n",
    "plt.yticks(ticks=np.arange(0, max(hosts) + 1000, 1000))\n",
    "colorMap = 'Dark2'\n",
    "cmap = plt.cm.get_cmap(colorMap)\n",
    "plt.plot(days_with_hosts, hosts, color=cmap(0), linewidth=3)\n",
    "plt.axis([0, max(days_with_hosts) + 1, 0, max(hosts) + 500])\n",
    "plt.xlabel('Day')\n",
    "plt.ylabel('Hosts')\n",
    "plt.show()"
   ]
  },
  {
   "cell_type": "markdown",
   "metadata": {},
   "source": [
    "### (4e) Exercise: Average Number of Daily Requests per Host\n",
    "\n",
    "Next, let's determine the average number of requests on a day-by-day basis.  We'd like a list by increasing day of the month and the associated average number of requests per host for that day. Make sure you cache the resulting DataFrame `avg_daily_req_per_host_df` so that we can reuse it in the next exercise.\n",
    "\n",
    "To compute the average number of requests per host, find the total number of requests per day (across all hosts) and divide that by the number of unique hosts per day (which we found in part 4c and cached as `daily_hosts_df`).\n",
    "\n",
    "*Since the log only covers a single month, you can skip checking for the month.*"
   ]
  },
  {
   "cell_type": "code",
   "execution_count": 42,
   "metadata": {},
   "outputs": [],
   "source": [
    "import pandas as pd"
   ]
  },
  {
   "cell_type": "code",
   "execution_count": 43,
   "metadata": {},
   "outputs": [
    {
     "name": "stdout",
     "output_type": "stream",
     "text": [
      "Average number of daily requests per Hosts is:\n",
      "\n",
      "+---+-------------------------+\n",
      "|day|avg_reqs_per_host_per_day|\n",
      "+---+-------------------------+\n",
      "|  1|                       13|\n",
      "|  3|                       12|\n",
      "|  4|                       14|\n",
      "|  5|                       12|\n",
      "|  6|                       12|\n",
      "|  7|                       13|\n",
      "|  8|                       13|\n",
      "|  9|                       14|\n",
      "| 10|                       13|\n",
      "| 11|                       14|\n",
      "| 12|                       13|\n",
      "| 13|                       13|\n",
      "| 14|                       13|\n",
      "| 15|                       13|\n",
      "| 16|                       13|\n",
      "| 17|                       13|\n",
      "| 18|                       13|\n",
      "| 19|                       12|\n",
      "| 20|                       12|\n",
      "| 21|                       13|\n",
      "+---+-------------------------+\n",
      "only showing top 20 rows\n",
      "\n"
     ]
    }
   ],
   "source": [
    "# TODO: Replace <FILL IN> with appropriate code\n",
    "\n",
    "total_req_per_day_df = (logs_df\n",
    "                        .groupBy(dayofmonth(logs_df['time']).alias('day'))\n",
    "                        .count()\n",
    "                        .sort('day', ascending=True))\n",
    "\n",
    "# Somehow I can't directly divide two columns FROM TWO DATAFRAMES with Spark dataframe\n",
    "# So I convert them to Pandas and convert them back...\n",
    "count_division = total_req_per_day_df.select('count').toPandas() // daily_hosts_df.select('count').toPandas()\n",
    "count_division_list = []\n",
    "for elt in count_division.iterrows():\n",
    "    count_division_list.append(elt[1]['count'])\n",
    "zip_list = list(zip(days_with_hosts, count_division_list))\n",
    "avg_daily_req_per_host_df = spark.createDataFrame(pd.DataFrame(zip_list), ['day', 'avg_reqs_per_host_per_day'])\n",
    "\n",
    "avg_daily_req_per_host_df.cache()\n",
    "print ('Average number of daily requests per Hosts is:\\n')\n",
    "\n",
    "avg_daily_req_per_host_df.show()"
   ]
  },
  {
   "cell_type": "code",
   "execution_count": 44,
   "metadata": {},
   "outputs": [
    {
     "name": "stdout",
     "output_type": "stream",
     "text": [
      "[(1, 13), (3, 12), (4, 14), (5, 12), (6, 12), (7, 13), (8, 13), (9, 14), (10, 13), (11, 14), (12, 13), (13, 13), (14, 13), (15, 13), (16, 13), (17, 13), (18, 13), (19, 12), (20, 12), (21, 13), (22, 12), (23, 13), (24, 12), (25, 13), (26, 11), (27, 12), (28, 13), (29, 14), (30, 15), (31, 15)]\n",
      "1 test passed.\n",
      "1 test passed.\n"
     ]
    }
   ],
   "source": [
    "# TEST Average number of daily requests per hosts (4e)\n",
    "from operator import itemgetter\n",
    "\n",
    "avg_daily_req_per_host_list = (\n",
    "  avg_daily_req_per_host_df.select('day', avg_daily_req_per_host_df['avg_reqs_per_host_per_day'].cast('integer').alias('avg_requests'))\n",
    "                           .collect()\n",
    ")\n",
    "\n",
    "values = [(row[0], row[1]) for row in avg_daily_req_per_host_list]\n",
    "print(values)\n",
    "\n",
    "values_expected = [(1, 13), (3, 12), (4, 14), (5, 12), (6, 12), (7, 13), (8, 13), (9, 14), (10, 13), (11, 14), (12, 13), (13, 13), (14, 13), (15, 13), (16, 13), (17, 13), (18, 13), (19, 12), (20, 12), (21, 13), (22, 12), (23, 13), (24, 12), (25, 13), (26, 11), (27, 12), (28, 13), (29, 14), (30, 15), (31, 15)]\n",
    "testmti850.Test.assertEquals(values, values_expected, 'incorrect avgDailyReqPerHostDF')\n",
    "testmti850.Test.assertTrue(avg_daily_req_per_host_df.is_cached, 'incorrect avg_daily_req_per_host_df.is_cached')"
   ]
  },
  {
   "cell_type": "markdown",
   "metadata": {},
   "source": [
    "### (4f) Exercise: Visualizing the Average Daily Requests per Unique Host\n",
    "\n",
    "Using the result `avg_daily_req_per_host_df` from the previous exercise, use `matplotlib` to plot a line graph of the average daily requests per unique host by day.\n",
    "\n",
    "`days_with_avg` should be a list of days and `avgs` should be a list of average daily requests (as integers) per unique hosts for each corresponding day.  Hint: You will need to extract these from the Dataframe in a similar way to part 4d."
   ]
  },
  {
   "cell_type": "code",
   "execution_count": 45,
   "metadata": {},
   "outputs": [
    {
     "name": "stdout",
     "output_type": "stream",
     "text": [
      "[1, 3, 4, 5, 6, 7, 8, 9, 10, 11, 12, 13, 14, 15, 16, 17, 18, 19, 20, 21, 22, 23, 24, 25, 26, 27, 28, 29, 30, 31]\n",
      "[13, 12, 14, 12, 12, 13, 13, 14, 13, 14, 13, 13, 13, 13, 13, 13, 13, 12, 12, 13, 12, 13, 12, 13, 11, 12, 13, 14, 15, 15]\n"
     ]
    }
   ],
   "source": [
    "# TODO: Replace <FILL IN> with appropriate code\n",
    "\n",
    "days_with_avg = []\n",
    "for elt in avg_daily_req_per_host_df.select(avg_daily_req_per_host_df['day']).collect():\n",
    "      days_with_avg.append(elt[0])\n",
    "\n",
    "avgs = []\n",
    "\n",
    "for elt in avg_daily_req_per_host_df.select(avg_daily_req_per_host_df['avg_reqs_per_host_per_day']).collect():\n",
    "      avgs.append(elt[0])\n",
    "\n",
    "print(days_with_avg)\n",
    "\n",
    "print(avgs)"
   ]
  },
  {
   "cell_type": "code",
   "execution_count": 46,
   "metadata": {},
   "outputs": [
    {
     "name": "stdout",
     "output_type": "stream",
     "text": [
      "1 test passed.\n",
      "1 test passed.\n"
     ]
    }
   ],
   "source": [
    "# TEST Average Daily Requests per Unique Host (4f)\n",
    "days_with_avg_expected = [1, 3, 4, 5, 6, 7, 8, 9, 10, 11, 12, 13, 14, 15, 16, 17, 18, 19, 20, 21, 22, 23, 24, 25, 26, 27, 28, 29, 30, 31]\n",
    "avgs_expected = [13, 12, 14, 12, 12, 13, 13, 14, 13, 14, 13, 13, 13, 13, 13, 13, 13, 12, 12, 13, 12, 13, 12, 13, 11, 12, 13, 14, 15, 15]\n",
    "\n",
    "testmti850.Test.assertEquals(days_with_avg, days_with_avg_expected, 'incorrect days')\n",
    "testmti850.Test.assertEquals([int(a) for a in avgs], avgs_expected, 'incorrect avgs')"
   ]
  },
  {
   "cell_type": "code",
   "execution_count": 47,
   "metadata": {},
   "outputs": [
    {
     "data": {
      "image/png": "[encoded data removed]",
      "text/plain": [
       "<Figure size 432x288 with 1 Axes>"
      ]
     },
     "metadata": {
      "needs_background": "light"
     },
     "output_type": "display_data"
    }
   ],
   "source": [
    "fig, ax = plt.subplots(nrows=1, ncols=1)\n",
    "\n",
    "plt.xticks(ticks=np.arange(1, max(days_with_avg) + 5, 5))\n",
    "plt.yticks(ticks=np.arange(int(min(avgs)), max(avgs) + 2, 2))\n",
    "colorMap = 'Set3'\n",
    "cmap = plt.cm.get_cmap(colorMap)\n",
    "plt.plot(days_with_avg, avgs, color=cmap(0), linewidth=3)\n",
    "plt.axis([0, max(days_with_avg), 10, max(avgs) + 2])\n",
    "plt.xlabel('Day')\n",
    "plt.ylabel('Average')\n",
    "plt.show()"
   ]
  },
  {
   "cell_type": "markdown",
   "metadata": {},
   "source": [
    "## Part 5: Exploring 404 Status Codes\n",
    "\n",
    "Let's drill down and explore the error 404 status records. We've all seen those \"404 Not Found\" web pages. 404 errors are returned when the server cannot find the resource (page or object) the browser or client requested."
   ]
  },
  {
   "cell_type": "markdown",
   "metadata": {},
   "source": [
    "### (5a) Exercise: Counting 404 Response Codes\n",
    "\n",
    "Create a DataFrame containing only log records with a 404 status code. Make sure you `cache()` `not_found_df` as we will use it in the rest of this exercise.\n",
    "\n",
    "How many 404 records are in the log?"
   ]
  },
  {
   "cell_type": "code",
   "execution_count": 48,
   "metadata": {},
   "outputs": [
    {
     "name": "stdout",
     "output_type": "stream",
     "text": [
      "Found 10056 404 URLs\n"
     ]
    }
   ],
   "source": [
    "# TODO: Replace <FILL IN> with appropriate code\n",
    "\n",
    "not_found_df = logs_df.select(\"*\").where(logs_df['status'] == 404)\n",
    "not_found_df.cache()\n",
    "\n",
    "print( ('Found {0} 404 URLs').format(not_found_df.count()) )"
   ]
  },
  {
   "cell_type": "code",
   "execution_count": 49,
   "metadata": {},
   "outputs": [
    {
     "name": "stdout",
     "output_type": "stream",
     "text": [
      "1 test passed.\n",
      "1 test passed.\n"
     ]
    }
   ],
   "source": [
    "# TEST Counting 404 (5a)\n",
    "testmti850.Test.assertEquals(not_found_df.count(), 10056, 'incorrect not_found_df.count()')\n",
    "testmti850.Test.assertTrue(not_found_df.is_cached, 'incorrect not_found_df.is_cached')"
   ]
  },
  {
   "cell_type": "markdown",
   "metadata": {},
   "source": [
    "### (5b) Exercise: Listing 404 Status Code Records\n",
    "\n",
    "Using the DataFrame containing only log records with a 404 status code that you cached in part (5a), print out a list up to 40 _distinct_ paths that generate 404 errors.\n",
    "\n",
    "**No path should appear more than once in your list.**"
   ]
  },
  {
   "cell_type": "code",
   "execution_count": 50,
   "metadata": {},
   "outputs": [
    {
     "name": "stdout",
     "output_type": "stream",
     "text": [
      "404 URLS:\n",
      "\n",
      "+-----------------------------------------------------------------+-----+\n",
      "|path                                                             |count|\n",
      "+-----------------------------------------------------------------+-----+\n",
      "|/pub/winvn/readme.txt                                            |1337 |\n",
      "|/pub/winvn/release.txt                                           |1185 |\n",
      "|/shuttle/missions/STS-69/mission-STS-69.html                     |682  |\n",
      "|/images/nasa-logo.gif                                            |319  |\n",
      "|/shuttle/missions/sts-68/ksc-upclose.gif                         |251  |\n",
      "|/elv/DELTA/uncons.htm                                            |209  |\n",
      "|/history/apollo/sa-1/sa-1-patch-small.gif                        |200  |\n",
      "|/://spacelink.msfc.nasa.gov                                      |166  |\n",
      "|/images/crawlerway-logo.gif                                      |160  |\n",
      "|/history/apollo/a-001/a-001-patch-small.gif                      |154  |\n",
      "|/history/apollo/pad-abort-test-1/pad-abort-test-1-patch-small.gif|144  |\n",
      "|                                                                 |142  |\n",
      "|/images/Nasa-logo.gif                                            |85   |\n",
      "|/history/apollo/images/little-joe.jpg                            |84   |\n",
      "|/shuttle/resources/orbiters/discovery.gif                        |82   |\n",
      "|/shuttle/resources/orbiters/atlantis.gif                         |80   |\n",
      "|/images/lf-logo.gif                                              |77   |\n",
      "|/shuttle/resources/orbiters/challenger.gif                       |77   |\n",
      "|/robots.txt                                                      |77   |\n",
      "|/software/winvn/winvn.html.                                      |57   |\n",
      "|/pub                                                             |57   |\n",
      "|/history/apollo/sa-3/sa-3-patch-small.gif                        |56   |\n",
      "|/pub/                                                            |52   |\n",
      "|/history/apollo/sa-5/sa-5-patch-small.gif                        |51   |\n",
      "|/shuttle/missions/technology/sts-newsref/stsref-toc.html         |51   |\n",
      "|/history/apollo/pad-abort-test-2/pad-abort-test-2-patch-small.gif|51   |\n",
      "|/history/apollo/sa-2/sa-2-patch-small.gif                        |50   |\n",
      "|/shuttle/missions/sts-79/mission-sts-79.html                     |44   |\n",
      "|/SDG/Experimental/demoweb/return.gif                             |43   |\n",
      "|/%3A//spacelink.msfc.nasa.gov                                    |41   |\n",
      "|/shuttle/missions/sts-69-mission-sts-69.html                     |40   |\n",
      "|/history/apollo/sa-1/images/                                     |38   |\n",
      "|/shuttle/technology/sts-newsref/stsref-to.html                   |34   |\n",
      "|/shuttle/missions/sts-71/video/landing.gif                       |33   |\n",
      "|/shuttle/countdown/video/livevideo.jpeg                          |33   |\n",
      "|/pub/win3/winvn                                                  |32   |\n",
      "|/%3A/spacelink.msfc.nasa.gov                                     |32   |\n",
      "|/shuttle/countdown/count69.gif                                   |31   |\n",
      "|/history/apollo/sa-1/movies/                                     |31   |\n",
      "|/shuttle/missions/51-L/mission-51-1.html                         |30   |\n",
      "+-----------------------------------------------------------------+-----+\n",
      "only showing top 40 rows\n",
      "\n"
     ]
    }
   ],
   "source": [
    "# TODO: Replace <FILL IN> with appropriate code\n",
    "from pyspark.sql.functions import count\n",
    "\n",
    "not_found_paths_df = not_found_df.select('path')\n",
    "\n",
    "unique_not_found_paths_df = (not_found_paths_df.groupBy('path')\n",
    "                                .agg(count(\"path\").alias(\"count\"))\n",
    "                             .orderBy(\"count\", ascending=False)\n",
    "                                )\n",
    "\n",
    "print ('404 URLS:\\n')\n",
    "\n",
    "unique_not_found_paths_df.show(n=40, truncate=False)"
   ]
  },
  {
   "cell_type": "code",
   "execution_count": 51,
   "metadata": {},
   "outputs": [
    {
     "name": "stdout",
     "output_type": "stream",
     "text": [
      "1 test passed.\n"
     ]
    }
   ],
   "source": [
    "# TEST Listing 404 records (5b)\n",
    "\n",
    "bad_unique_paths_40 = set([row[0] for row in unique_not_found_paths_df.take(40)])\n",
    "testmti850.Test.assertEquals(len(bad_unique_paths_40), 40, 'bad_unique_paths_40 not distinct')"
   ]
  },
  {
   "cell_type": "markdown",
   "metadata": {},
   "source": [
    "### (5c) Exercise: Listing the Top Twenty 404 Response Code paths\n",
    "\n",
    "Using the DataFrame containing only log records with a 404 response code that you cached in part (5a), print out a list of the top twenty paths that generate the most 404 errors.\n",
    "\n",
    "*Remember, top paths should be in sorted order*"
   ]
  },
  {
   "cell_type": "code",
   "execution_count": 52,
   "metadata": {},
   "outputs": [
    {
     "name": "stdout",
     "output_type": "stream",
     "text": [
      "Top Twenty 404 URLs:\n",
      "\n",
      "+-----------------------------------------------------------------+-----+\n",
      "|path                                                             |count|\n",
      "+-----------------------------------------------------------------+-----+\n",
      "|/pub/winvn/readme.txt                                            |1337 |\n",
      "|/pub/winvn/release.txt                                           |1185 |\n",
      "|/shuttle/missions/STS-69/mission-STS-69.html                     |682  |\n",
      "|/images/nasa-logo.gif                                            |319  |\n",
      "|/shuttle/missions/sts-68/ksc-upclose.gif                         |251  |\n",
      "|/elv/DELTA/uncons.htm                                            |209  |\n",
      "|/history/apollo/sa-1/sa-1-patch-small.gif                        |200  |\n",
      "|/://spacelink.msfc.nasa.gov                                      |166  |\n",
      "|/images/crawlerway-logo.gif                                      |160  |\n",
      "|/history/apollo/a-001/a-001-patch-small.gif                      |154  |\n",
      "|/history/apollo/pad-abort-test-1/pad-abort-test-1-patch-small.gif|144  |\n",
      "|                                                                 |142  |\n",
      "|/images/Nasa-logo.gif                                            |85   |\n",
      "|/history/apollo/images/little-joe.jpg                            |84   |\n",
      "|/shuttle/resources/orbiters/discovery.gif                        |82   |\n",
      "|/shuttle/resources/orbiters/atlantis.gif                         |80   |\n",
      "|/robots.txt                                                      |77   |\n",
      "|/shuttle/resources/orbiters/challenger.gif                       |77   |\n",
      "|/images/lf-logo.gif                                              |77   |\n",
      "|/software/winvn/winvn.html.                                      |57   |\n",
      "+-----------------------------------------------------------------+-----+\n",
      "only showing top 20 rows\n",
      "\n"
     ]
    }
   ],
   "source": [
    "# TODO: Replace <FILL IN> with appropriate code\n",
    "\n",
    "# Because I have already sorted unique_not_found_paths_df by count in the previous step\n",
    "top_20_not_found_df = unique_not_found_paths_df\n",
    "\n",
    "print ('Top Twenty 404 URLs:\\n')\n",
    "\n",
    "top_20_not_found_df.show(n=20, truncate=False)"
   ]
  },
  {
   "cell_type": "code",
   "execution_count": 53,
   "metadata": {},
   "outputs": [
    {
     "name": "stdout",
     "output_type": "stream",
     "text": [
      "1 test passed.\n"
     ]
    }
   ],
   "source": [
    "# TEST Top twenty 404 URLs (5c)\n",
    "top_20_not_found = [(row[0], row[1]) for row in top_20_not_found_df.take(20)]\n",
    "top_20_expected = [\n",
    " (u'/pub/winvn/readme.txt', 1337),\n",
    " (u'/pub/winvn/release.txt', 1185),\n",
    " (u'/shuttle/missions/STS-69/mission-STS-69.html', 682),\n",
    " (u'/images/nasa-logo.gif', 319),\n",
    " (u'/shuttle/missions/sts-68/ksc-upclose.gif', 251),\n",
    " (u'/elv/DELTA/uncons.htm', 209),\n",
    " (u'/history/apollo/sa-1/sa-1-patch-small.gif', 200),\n",
    " (u'/://spacelink.msfc.nasa.gov', 166),\n",
    " (u'/images/crawlerway-logo.gif', 160),\n",
    " (u'/history/apollo/a-001/a-001-patch-small.gif', 154),\n",
    " (u'/history/apollo/pad-abort-test-1/pad-abort-test-1-patch-small.gif', 144),\n",
    " (u'', 142),\n",
    " (u'/images/Nasa-logo.gif', 85),\n",
    " (u'/history/apollo/images/little-joe.jpg', 84),\n",
    " (u'/shuttle/resources/orbiters/discovery.gif', 82),\n",
    " (u'/shuttle/resources/orbiters/atlantis.gif', 80),\n",
    " (u'/robots.txt', 77),\n",
    " (u'/images/lf-logo.gif', 77),\n",
    " (u'/shuttle/resources/orbiters/challenger.gif', 77),\n",
    " (u'/pub', 57)\n",
    "]\n",
    "testmti850.Test.assertEquals(top_20_not_found, top_20_expected, 'incorrect top_20_not_found')"
   ]
  },
  {
   "cell_type": "markdown",
   "metadata": {},
   "source": [
    "### (5d) Exercise: Listing the Top Twenty-five 404 Response Code Hosts\n",
    "\n",
    "Instead of looking at the paths that generated 404 errors, let's look at the hosts that encountered 404 errors. Using the DataFrame containing only log records with a 404 status codes that you cached in part (5a), print out a list of the top twenty-five hosts that generate the most 404 errors."
   ]
  },
  {
   "cell_type": "code",
   "execution_count": 54,
   "metadata": {},
   "outputs": [
    {
     "name": "stdout",
     "output_type": "stream",
     "text": [
      "Top 25 hosts that generated errors:\n",
      "\n",
      "+---------------------------+-----+\n",
      "|host                       |count|\n",
      "+---------------------------+-----+\n",
      "|dialip-217.den.mmc.com     |62   |\n",
      "|piweba3y.prodigy.com       |47   |\n",
      "|155.148.25.4               |44   |\n",
      "|maz3.maz.net               |39   |\n",
      "|gate.barr.com              |38   |\n",
      "|m38-370-9.mit.edu          |37   |\n",
      "|204.62.245.32              |37   |\n",
      "|ts8-1.westwood.ts.ucla.edu |37   |\n",
      "|nexus.mlckew.edu.au        |37   |\n",
      "|scooter.pa-x.dec.com       |35   |\n",
      "|reddragon.ksc.nasa.gov     |33   |\n",
      "|www-c4.proxy.aol.com       |32   |\n",
      "|piweba5y.prodigy.com       |31   |\n",
      "|www-d4.proxy.aol.com       |30   |\n",
      "|piweba4y.prodigy.com       |30   |\n",
      "|internet-gw.watson.ibm.com |29   |\n",
      "|unidata.com                |28   |\n",
      "|163.206.104.34             |28   |\n",
      "|spica.sci.isas.ac.jp       |27   |\n",
      "|www-d2.proxy.aol.com       |26   |\n",
      "|203.13.168.24              |25   |\n",
      "|203.13.168.17              |25   |\n",
      "|www-c2.proxy.aol.com       |23   |\n",
      "|crl5.crl.com               |23   |\n",
      "|www-d1.proxy.aol.com       |23   |\n",
      "+---------------------------+-----+\n",
      "only showing top 25 rows\n",
      "\n"
     ]
    }
   ],
   "source": [
    "# TODO: Replace <FILL IN> with appropriate code\n",
    "\n",
    "# (not_found_paths_df.groupBy('path')\n",
    "#                                 .agg(count(\"path\").alias(\"count\"))\n",
    "#                              .orderBy(\"count\", ascending=False)\n",
    "#                                 )\n",
    "hosts_404_count_df = (not_found_df.select('host')\n",
    "                         .groupBy('host')\n",
    "                         .agg(count('host').alias('count'))\n",
    "                          .orderBy(\"count\", ascending=False)\n",
    "                     )\n",
    "\n",
    "print ('Top 25 hosts that generated errors:\\n')\n",
    "\n",
    "hosts_404_count_df.show(n=25, truncate=False)"
   ]
  },
  {
   "cell_type": "code",
   "execution_count": 55,
   "metadata": {},
   "outputs": [
    {
     "name": "stdout",
     "output_type": "stream",
     "text": [
      "1 test passed.\n",
      "1 test passed.\n"
     ]
    }
   ],
   "source": [
    "# TEST Top twenty-five 404 response code hosts (4d)\n",
    "\n",
    "top_25_404 = [(row[0], row[1]) for row in hosts_404_count_df.take(25)]\n",
    "top_25_404_expected = set([\n",
    "    (u'dialip-217.den.mmc.com ', 62),\n",
    "    (u'piweba3y.prodigy.com ', 47),\n",
    "    (u'155.148.25.4 ', 44),\n",
    "    (u'maz3.maz.net ', 39),\n",
    "    (u'gate.barr.com ', 38),\n",
    "    (u'204.62.245.32 ', 37),\n",
    "    (u'nexus.mlckew.edu.au ', 37),\n",
    "    (u'ts8-1.westwood.ts.ucla.edu ', 37),\n",
    "    (u'm38-370-9.mit.edu ', 37),\n",
    "    (u'scooter.pa-x.dec.com ', 35),\n",
    "    (u'reddragon.ksc.nasa.gov ', 33),\n",
    "    (u'www-c4.proxy.aol.com ', 32),\n",
    "    (u'piweba5y.prodigy.com ', 31),\n",
    "    (u'www-d4.proxy.aol.com ', 30),\n",
    "    (u'piweba4y.prodigy.com ', 30),\n",
    "    (u'internet-gw.watson.ibm.com ', 29),\n",
    "    (u'unidata.com ', 28),\n",
    "    (u'163.206.104.34 ', 28),\n",
    "    (u'spica.sci.isas.ac.jp ', 27),\n",
    "    (u'www-d2.proxy.aol.com ', 26),\n",
    "    (u'203.13.168.17 ', 25),\n",
    "    (u'203.13.168.24 ', 25),\n",
    "    (u'www-c2.proxy.aol.com ', 23),\n",
    "    (u'www-d1.proxy.aol.com ', 23),\n",
    "    (u'crl5.crl.com ', 23)\n",
    "])\n",
    "testmti850.Test.assertEquals(len(top_25_404), 25, 'length of errHostsTop25 is not 25')\n",
    "testmti850.Test.assertEquals(len(set(top_25_404) - top_25_404_expected), 0, 'incorrect hosts_404_count_df')"
   ]
  },
  {
   "cell_type": "markdown",
   "metadata": {},
   "source": [
    "### (5e) Exercise: Listing 404 Errors per Day\n",
    "\n",
    "Let's explore the 404 records temporally. Break down the 404 requests by day (cache the `errors_by_date_sorted_df` DataFrame) and get the daily counts sorted by day in `errors_by_date_sorted_df`.\n",
    "\n",
    "*Since the log only covers a single month, you can ignore the month in your checks.*"
   ]
  },
  {
   "cell_type": "code",
   "execution_count": 56,
   "metadata": {},
   "outputs": [
    {
     "name": "stdout",
     "output_type": "stream",
     "text": [
      "404 Errors by day:\n",
      "\n",
      "+---+-----+\n",
      "|day|count|\n",
      "+---+-----+\n",
      "|  1|  243|\n",
      "|  3|  304|\n",
      "|  4|  346|\n",
      "|  5|  236|\n",
      "|  6|  373|\n",
      "|  7|  537|\n",
      "|  8|  391|\n",
      "|  9|  279|\n",
      "| 10|  315|\n",
      "| 11|  263|\n",
      "| 12|  196|\n",
      "| 13|  216|\n",
      "| 14|  287|\n",
      "| 15|  327|\n",
      "| 16|  259|\n",
      "| 17|  271|\n",
      "| 18|  256|\n",
      "| 19|  209|\n",
      "| 20|  312|\n",
      "| 21|  305|\n",
      "+---+-----+\n",
      "only showing top 20 rows\n",
      "\n"
     ]
    }
   ],
   "source": [
    "# TODO: Replace <FILL IN> with appropriate code\n",
    "\n",
    "errors_by_date_sorted_df = (not_found_df.select(dayofmonth('time').alias('day'))\n",
    "                                .groupBy('day')\n",
    "                                .agg(count('day').alias('count'))\n",
    "                                .orderBy(\"day\", ascending=True)\n",
    "                           )\n",
    "\n",
    "print ('404 Errors by day:\\n')\n",
    "\n",
    "errors_by_date_sorted_df.cache()\n",
    "errors_by_date_sorted_df.show()"
   ]
  },
  {
   "cell_type": "code",
   "execution_count": 57,
   "metadata": {},
   "outputs": [
    {
     "name": "stdout",
     "output_type": "stream",
     "text": [
      "1 test passed.\n",
      "1 test passed.\n"
     ]
    }
   ],
   "source": [
    "# TEST 404 response codes per day (5e)\n",
    "\n",
    "errors_by_date = [(row[0], row[1]) for row in errors_by_date_sorted_df.collect()]\n",
    "errors_by_date_expected = [\n",
    "    (1, 243),\n",
    "    (3, 304),\n",
    "    (4, 346),\n",
    "    (5, 236),\n",
    "    (6, 373),\n",
    "    (7, 537),\n",
    "    (8, 391),\n",
    "    (9, 279),\n",
    "    (10, 315),\n",
    "    (11, 263),\n",
    "    (12, 196),\n",
    "    (13, 216),\n",
    "    (14, 287),\n",
    "    (15, 327),\n",
    "    (16, 259),\n",
    "    (17, 271),\n",
    "    (18, 256),\n",
    "    (19, 209),\n",
    "    (20, 312),\n",
    "    (21, 305),\n",
    "    (22, 288),\n",
    "    (23, 345),\n",
    "    (24, 420),\n",
    "    (25, 415),\n",
    "    (26, 366),\n",
    "    (27, 370),\n",
    "    (28, 410),\n",
    "    (29, 420),\n",
    "    (30, 571),\n",
    "    (31, 526)\n",
    "]\n",
    "testmti850.Test.assertEquals(errors_by_date, errors_by_date_expected, 'incorrect errors_by_date_sorted_df')\n",
    "testmti850.Test.assertTrue(errors_by_date_sorted_df.is_cached, 'incorrect errors_by_date_sorted_df.is_cached')"
   ]
  },
  {
   "cell_type": "markdown",
   "metadata": {},
   "source": [
    "### (5f) Exercise: Visualizing the 404 Errors by Day\n",
    "\n",
    "Using the results from the previous exercise, use `matplotlib` to plot a line or bar graph of the 404 response codes by day.\n",
    "\n",
    "**Hint**: You'll need to use the same technique you used in (4f)."
   ]
  },
  {
   "cell_type": "code",
   "execution_count": 58,
   "metadata": {},
   "outputs": [
    {
     "name": "stdout",
     "output_type": "stream",
     "text": [
      "[1, 3, 4, 5, 6, 7, 8, 9, 10, 11, 12, 13, 14, 15, 16, 17, 18, 19, 20, 21, 22, 23, 24, 25, 26, 27, 28, 29, 30, 31]\n",
      "[243, 304, 346, 236, 373, 537, 391, 279, 315, 263, 196, 216, 287, 327, 259, 271, 256, 209, 312, 305, 288, 345, 420, 415, 366, 370, 410, 420, 571, 526]\n"
     ]
    }
   ],
   "source": [
    "# TODO: Replace <FILL IN> with appropriate code\n",
    "\n",
    "days_with_errors_404 = []\n",
    "for elt in errors_by_date_sorted_df.select(errors_by_date_sorted_df['day']).collect():\n",
    "      days_with_errors_404.append(elt[0])\n",
    "\n",
    "errors_404_by_day = []\n",
    "\n",
    "for elt in errors_by_date_sorted_df.select(errors_by_date_sorted_df['count']).collect():\n",
    "      errors_404_by_day.append(elt[0])\n",
    "\n",
    "print (days_with_errors_404)\n",
    "\n",
    "print (errors_404_by_day)"
   ]
  },
  {
   "cell_type": "code",
   "execution_count": 59,
   "metadata": {},
   "outputs": [
    {
     "name": "stdout",
     "output_type": "stream",
     "text": [
      "1 test passed.\n",
      "1 test passed.\n"
     ]
    }
   ],
   "source": [
    "# TEST Visualizing the 404 Response Codes by Day (4f)\n",
    "days_with_errors_404_expected = [1, 3, 4, 5, 6, 7, 8, 9, 10, 11, 12, 13, 14, 15, 16, 17, 18, 19, 20, 21, 22, 23, 24, 25, 26, 27, 28, 29, 30, 31]\n",
    "errors_404_by_day_expected = [243, 304, 346, 236, 373, 537, 391, 279, 315, 263, 196, 216, 287, 327, 259, 271, 256, 209, 312, 305, 288, 345, 420, 415, 366, 370, 410, 420, 571, 526]\n",
    "testmti850.Test.assertEquals(days_with_errors_404, days_with_errors_404_expected, 'incorrect days_with_errors_404')\n",
    "testmti850.Test.assertEquals(errors_404_by_day, errors_404_by_day_expected, 'incorrect errors_404_by_day')"
   ]
  },
  {
   "cell_type": "code",
   "execution_count": 60,
   "metadata": {},
   "outputs": [
    {
     "data": {
      "image/png": "[encoded data removed]",
      "text/plain": [
       "<Figure size 432x288 with 1 Axes>"
      ]
     },
     "metadata": {
      "needs_background": "light"
     },
     "output_type": "display_data"
    }
   ],
   "source": [
    "fig, ax = plt.subplots(nrows=1, ncols=1)\n",
    "plt.xticks(ticks=np.arange(1, max(days_with_errors_404) + 5, 5))\n",
    "plt.yticks(ticks=np.arange(0, max(errors_404_by_day) + 100, 100))\n",
    "colorMap = 'rainbow'\n",
    "cmap = plt.cm.get_cmap(colorMap)\n",
    "plt.plot(days_with_errors_404, errors_404_by_day, color=cmap(0), linewidth=3)\n",
    "plt.axis([0, max(days_with_errors_404), 0, max(errors_404_by_day) + 100])\n",
    "plt.xlabel('Day')\n",
    "plt.ylabel('404 Errors')\n",
    "plt.show()"
   ]
  },
  {
   "cell_type": "markdown",
   "metadata": {},
   "source": [
    "### (5g) Exercise: Top Five Days for 404 Errors\n",
    "\n",
    "Using the DataFrame `errors_by_date_sorted_df` you cached in the part (5e), what are the top five days for 404 errors and the corresponding counts of 404 errors?"
   ]
  },
  {
   "cell_type": "code",
   "execution_count": 61,
   "metadata": {},
   "outputs": [
    {
     "name": "stdout",
     "output_type": "stream",
     "text": [
      "Top Five Dates for 404 Requests:\n",
      "\n",
      "+---+-----+\n",
      "|day|count|\n",
      "+---+-----+\n",
      "| 30|  571|\n",
      "|  7|  537|\n",
      "| 31|  526|\n",
      "| 24|  420|\n",
      "| 29|  420|\n",
      "+---+-----+\n",
      "only showing top 5 rows\n",
      "\n"
     ]
    }
   ],
   "source": [
    "# TODO: Replace <FILL IN> with appropriate code\n",
    "\n",
    "top_err_date_df = errors_by_date_sorted_df.orderBy('count', ascending=False)\n",
    "\n",
    "print ('Top Five Dates for 404 Requests:\\n')\n",
    "\n",
    "top_err_date_df.show(5)"
   ]
  },
  {
   "cell_type": "code",
   "execution_count": 62,
   "metadata": {},
   "outputs": [
    {
     "name": "stdout",
     "output_type": "stream",
     "text": [
      "1 test passed.\n"
     ]
    }
   ],
   "source": [
    "# TEST Five dates for 404 requests (4g)\n",
    "top_err_date_list = [(col1, col2) for col1, col2 in top_err_date_df.take(5)]\n",
    "top_err_date_list_expected = [(30, 571), (7, 537), (31, 526), (29, 420), (24, 420)]\n",
    "testmti850.Test.assertEquals(top_err_date_list, top_err_date_list_expected, 'incorrect top_err_date_df')"
   ]
  },
  {
   "cell_type": "markdown",
   "metadata": {},
   "source": [
    "### (5h) Exercise: Hourly 404 Errors\n",
    "\n",
    "Using the DataFrame `not_found_df` you cached in the part (5a) and sorting by hour of the day in increasing order, create a DataFrame containing the number of requests that had a 404 return code for each hour of the day (midnight starts at 0). Cache the resulting DataFrame `hour_records_sorted_df` and print that as a list."
   ]
  },
  {
   "cell_type": "code",
   "execution_count": 63,
   "metadata": {},
   "outputs": [
    {
     "name": "stdout",
     "output_type": "stream",
     "text": [
      "Top hours for 404 requests:\n",
      "\n",
      "+----+-----+\n",
      "|hour|count|\n",
      "+----+-----+\n",
      "|   0|  344|\n",
      "|   1|  327|\n",
      "|   2|  600|\n",
      "|   3|  363|\n",
      "|   4|  183|\n",
      "|   5|  160|\n",
      "|   6|  135|\n",
      "|   7|  218|\n",
      "|   8|  340|\n",
      "|   9|  359|\n",
      "|  10|  492|\n",
      "|  11|  428|\n",
      "|  12|  651|\n",
      "|  13|  614|\n",
      "|  14|  522|\n",
      "|  15|  549|\n",
      "|  16|  550|\n",
      "|  17|  586|\n",
      "|  18|  425|\n",
      "|  19|  440|\n",
      "|  20|  432|\n",
      "|  21|  434|\n",
      "|  22|  430|\n",
      "|  23|  474|\n",
      "+----+-----+\n",
      "\n"
     ]
    }
   ],
   "source": [
    "# TODO: Replace <FILL IN> with appropriate code\n",
    "\n",
    "from pyspark.sql.functions import hour\n",
    "\n",
    "hour_records_sorted_df = (not_found_df.select(hour('time').alias('hour'))\n",
    "                                .groupBy('hour')\n",
    "                                .agg(count('hour').alias('count'))\n",
    "                                .orderBy(\"hour\", ascending=True)\n",
    "                           )\n",
    "\n",
    "print ('Top hours for 404 requests:\\n')\n",
    "hour_records_sorted_df.cache()\n",
    "hour_records_sorted_df.show(24)"
   ]
  },
  {
   "cell_type": "code",
   "execution_count": 64,
   "metadata": {},
   "outputs": [
    {
     "name": "stdout",
     "output_type": "stream",
     "text": [
      "(0, 344)\n",
      "(1, 327)\n",
      "(2, 600)\n",
      "(3, 363)\n",
      "(4, 183)\n",
      "(5, 160)\n",
      "(6, 135)\n",
      "(7, 218)\n",
      "(8, 340)\n",
      "(9, 359)\n",
      "(10, 492)\n",
      "(11, 428)\n",
      "(12, 651)\n",
      "(13, 614)\n",
      "(14, 522)\n",
      "(15, 549)\n",
      "(16, 550)\n",
      "(17, 586)\n",
      "(18, 425)\n",
      "(19, 440)\n",
      "(20, 432)\n",
      "(21, 434)\n",
      "(22, 430)\n",
      "(23, 474)\n",
      "1 test passed.\n",
      "1 test passed.\n"
     ]
    }
   ],
   "source": [
    "# TEST Hourly 404 response codes (5h)\n",
    "\n",
    "errs_by_hour = [(col1, col2) for col1, col2 in hour_records_sorted_df.collect()]\n",
    "for x in errs_by_hour:\n",
    "    print(x)\n",
    "    \n",
    "errs_by_hour_expected = [\n",
    "    (0, 344),\n",
    "    (1, 327),\n",
    "    (2, 600),\n",
    "    (3, 363),\n",
    "    (4, 183),\n",
    "    (5, 160),\n",
    "    (6, 135),\n",
    "    (7, 218),\n",
    "    (8, 340),\n",
    "    (9, 359),\n",
    "    (10, 492),\n",
    "    (11, 428),\n",
    "    (12, 651),\n",
    "    (13, 614),\n",
    "    (14, 522),\n",
    "    (15, 549),\n",
    "    (16, 550),\n",
    "    (17, 586),\n",
    "    (18, 425),\n",
    "    (19, 440),\n",
    "    (20, 432),\n",
    "    (21, 434),\n",
    "    (22, 430),\n",
    "    (23, 474),\n",
    "]\n",
    "testmti850.Test.assertEquals(errs_by_hour, errs_by_hour_expected, 'incorrect errs_by_hour')\n",
    "testmti850.Test.assertTrue(hour_records_sorted_df.is_cached, 'incorrect hour_records_sorted_df.is_cached')"
   ]
  },
  {
   "cell_type": "markdown",
   "metadata": {},
   "source": [
    "### (5i) Exercise: Visualizing the 404 Response Codes by Hour\n",
    "\n",
    "Using the results from the previous exercise, use `matplotlib` to plot a line or bar graph of the 404 response codes by hour."
   ]
  },
  {
   "cell_type": "code",
   "execution_count": 65,
   "metadata": {},
   "outputs": [
    {
     "name": "stdout",
     "output_type": "stream",
     "text": [
      "[0, 1, 2, 3, 4, 5, 6, 7, 8, 9, 10, 11, 12, 13, 14, 15, 16, 17, 18, 19, 20, 21, 22, 23]\n",
      "[344, 327, 600, 363, 183, 160, 135, 218, 340, 359, 492, 428, 651, 614, 522, 549, 550, 586, 425, 440, 432, 434, 430, 474]\n"
     ]
    }
   ],
   "source": [
    "# TODO: Replace <FILL IN> with appropriate code\n",
    "\n",
    "hours_with_not_found = []\n",
    "for elt in hour_records_sorted_df.select(hour_records_sorted_df['hour']).collect():\n",
    "      hours_with_not_found.append(elt[0])\n",
    "\n",
    "not_found_counts_per_hour = []\n",
    "for elt in hour_records_sorted_df.select(hour_records_sorted_df['count']).collect():\n",
    "      not_found_counts_per_hour.append(elt[0])\n",
    "\n",
    "print(hours_with_not_found)\n",
    "\n",
    "print(not_found_counts_per_hour)"
   ]
  },
  {
   "cell_type": "code",
   "execution_count": 66,
   "metadata": {},
   "outputs": [
    {
     "name": "stdout",
     "output_type": "stream",
     "text": [
      "1 test passed.\n",
      "1 test passed.\n"
     ]
    }
   ],
   "source": [
    "# TEST Visualizing the 404 Response Codes by Hour (5i)\n",
    "hours_with_not_found_expected = [0, 1, 2, 3, 4, 5, 6, 7, 8, 9, 10, 11, 12, 13, 14, 15, 16, 17, 18, 19, 20, 21, 22, 23]\n",
    "not_found_counts_per_hour_expected = [344, 327, 600, 363, 183, 160, 135, 218, 340, 359, 492, 428, 651, 614, 522, 549, 550, 586, 425, 440, 432, 434, 430, 474]\n",
    "testmti850.Test.assertEquals(hours_with_not_found, hours_with_not_found_expected, 'incorrect hours_with_not_found')\n",
    "testmti850.Test.assertEquals(not_found_counts_per_hour, not_found_counts_per_hour_expected, 'incorrect not_found_counts_per_hour')"
   ]
  },
  {
   "cell_type": "code",
   "execution_count": 67,
   "metadata": {},
   "outputs": [
    {
     "data": {
      "image/png": "[encoded data removed]",
      "text/plain": [
       "<Figure size 432x288 with 1 Axes>"
      ]
     },
     "metadata": {
      "needs_background": "light"
     },
     "output_type": "display_data"
    }
   ],
   "source": [
    "fig, ax = plt.subplots(nrows=1, ncols=1)\n",
    "plt.xticks(ticks=np.arange(0, 24, 2))\n",
    "plt.yticks(ticks=np.arange(0, max(not_found_counts_per_hour) + 100, 100))\n",
    "colorMap = 'seismic'\n",
    "plt.plot(hours_with_not_found, not_found_counts_per_hour, color=cmap(0), linewidth=3)\n",
    "plt.axis([0, max(hours_with_not_found), 0, max(not_found_counts_per_hour)])\n",
    "plt.xlabel('Hour')\n",
    "plt.ylabel('404 Errors')\n",
    "plt.show()"
   ]
  },
  {
   "cell_type": "markdown",
   "metadata": {},
   "source": [
    "## Notebook Finished"
   ]
  }
 ],
 "metadata": {
  "kernelspec": {
   "display_name": "Python 3",
   "language": "python",
   "name": "python3"
  },
  "language_info": {
   "codemirror_mode": {
    "name": "ipython",
    "version": 3
   },
   "file_extension": ".py",
   "mimetype": "text/x-python",
   "name": "python",
   "nbconvert_exporter": "python",
   "pygments_lexer": "ipython3",
   "version": "3.8.3"
  }
 },
 "nbformat": 4,
 "nbformat_minor": 4
}
